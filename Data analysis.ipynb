{
 "cells": [
  {
   "cell_type": "markdown",
   "metadata": {},
   "source": [
    "# Data analysis\n",
    "\n",
    "This notebook consist of analysis of collected data. The reason of such analysis is to get some insights on what format and type of values are there, deciding on what fields can be removed (for example when they are to noisy) and what can be useful for classification task. Also some preprocessing of those fields can be done here, in case there is a need to change the type of variable etc. \n",
    "This part is complementary with the notebook \"Data on maps\".  "
   ]
  },
  {
   "cell_type": "code",
   "execution_count": 1,
   "metadata": {},
   "outputs": [],
   "source": [
    "from IPython.display import clear_output\n",
    "from pymongo import MongoClient\n",
    "import pandas as pd\n",
    "import matplotlib.pyplot as plt\n",
    "import numpy as np"
   ]
  },
  {
   "cell_type": "markdown",
   "metadata": {},
   "source": [
    "## Data loading and preparation\n",
    "\n",
    "Read the data from database and prepare for analysis"
   ]
  },
  {
   "cell_type": "code",
   "execution_count": 5,
   "metadata": {},
   "outputs": [],
   "source": [
    "db_client = MongoClient('localhost', 27017)\n",
    "db = db_client.musicdata\n",
    "spotify_artist_collection = db.get_collection('spotify_artist_albums')\n",
    "mb_artist_collection = db.get_collection('artists_mb')\n",
    "wikidata_artist_collection = db.get_collection('artist_wikidata')"
   ]
  },
  {
   "cell_type": "code",
   "execution_count": 6,
   "metadata": {},
   "outputs": [
    {
     "name": "stdout",
     "output_type": "stream",
     "text": [
      "739298\n"
     ]
    }
   ],
   "source": [
    "#how many artists in spotify collection have mb_id?\n",
    "mb_ids_number = spotify_artist_collection.find({'mb_id': {'$exists': True}}).count()\n",
    "print(mb_ids_number)"
   ]
  },
  {
   "cell_type": "code",
   "execution_count": 7,
   "metadata": {},
   "outputs": [],
   "source": [
    "#load data from mongo database to dataframe\n",
    "cursor = spotify_artist_collection.find({'mb_id': {'$exists': True}}, {'albums':0, 'mb_info':0, 'mb_name': 0})\n",
    "\n",
    "df = pd.DataFrame(list(cursor))"
   ]
  },
  {
   "cell_type": "code",
   "execution_count": 8,
   "metadata": {},
   "outputs": [],
   "source": [
    "#change format of artist followers from dict to single value\n",
    "df.loc[:, 'followers'] = df.followers.apply(lambda x: x[\"total\"] if type(x) == dict else 0)"
   ]
  },
  {
   "cell_type": "code",
   "execution_count": 9,
   "metadata": {},
   "outputs": [
    {
     "data": {
      "text/plain": [
       "_id            object\n",
       "followers     float64\n",
       "genres         object\n",
       "mb_id          object\n",
       "name           object\n",
       "popularity    float64\n",
       "dtype: object"
      ]
     },
     "execution_count": 9,
     "metadata": {},
     "output_type": "execute_result"
    }
   ],
   "source": [
    "df.dtypes"
   ]
  },
  {
   "cell_type": "code",
   "execution_count": 10,
   "metadata": {},
   "outputs": [
    {
     "data": {
      "text/html": [
       "<div>\n",
       "<style scoped>\n",
       "    .dataframe tbody tr th:only-of-type {\n",
       "        vertical-align: middle;\n",
       "    }\n",
       "\n",
       "    .dataframe tbody tr th {\n",
       "        vertical-align: top;\n",
       "    }\n",
       "\n",
       "    .dataframe thead th {\n",
       "        text-align: right;\n",
       "    }\n",
       "</style>\n",
       "<table border=\"1\" class=\"dataframe\">\n",
       "  <thead>\n",
       "    <tr style=\"text-align: right;\">\n",
       "      <th></th>\n",
       "      <th>_id</th>\n",
       "      <th>followers</th>\n",
       "      <th>genres</th>\n",
       "      <th>mb_id</th>\n",
       "      <th>name</th>\n",
       "      <th>popularity</th>\n",
       "    </tr>\n",
       "  </thead>\n",
       "  <tbody>\n",
       "    <tr>\n",
       "      <th>0</th>\n",
       "      <td>3XSyTI9ct70ZheMESAv2st</td>\n",
       "      <td>3752.0</td>\n",
       "      <td>[broadway]</td>\n",
       "      <td>290e5513-55d3-426f-a4ba-1ac3ce589107</td>\n",
       "      <td>Zachary Levi</td>\n",
       "      <td>61.0</td>\n",
       "    </tr>\n",
       "    <tr>\n",
       "      <th>1</th>\n",
       "      <td>2jYHSJBXjusgmYdrNeaRmg</td>\n",
       "      <td>1361.0</td>\n",
       "      <td>[jazz guitar, smooth jazz]</td>\n",
       "      <td>09cddf26-fe4a-493e-bb1d-64723892ed8d</td>\n",
       "      <td>Zachary Breaux</td>\n",
       "      <td>29.0</td>\n",
       "    </tr>\n",
       "    <tr>\n",
       "      <th>2</th>\n",
       "      <td>5LmehwqsJa7a4Ya5SaqXpx</td>\n",
       "      <td>1147.0</td>\n",
       "      <td>[doo-wop]</td>\n",
       "      <td>ca3f3ee1-c4a7-4bac-a16a-0b888a396c6b</td>\n",
       "      <td>The Silhouettes</td>\n",
       "      <td>37.0</td>\n",
       "    </tr>\n",
       "    <tr>\n",
       "      <th>3</th>\n",
       "      <td>10BFTSAfLauhKVmdby4zac</td>\n",
       "      <td>0.0</td>\n",
       "      <td>[]</td>\n",
       "      <td>3a8ecc10-f888-48c0-9674-5c0ccd1fe93f</td>\n",
       "      <td>Peter &amp; the Silhouettes</td>\n",
       "      <td>0.0</td>\n",
       "    </tr>\n",
       "    <tr>\n",
       "      <th>4</th>\n",
       "      <td>4hwEAtCJZa1LMgbuRpUWJB</td>\n",
       "      <td>4.0</td>\n",
       "      <td>[]</td>\n",
       "      <td>ca3f3ee1-c4a7-4bac-a16a-0b888a396c6b</td>\n",
       "      <td>The Lost Silhouettes</td>\n",
       "      <td>0.0</td>\n",
       "    </tr>\n",
       "  </tbody>\n",
       "</table>\n",
       "</div>"
      ],
      "text/plain": [
       "                      _id  followers                      genres  \\\n",
       "0  3XSyTI9ct70ZheMESAv2st     3752.0                  [broadway]   \n",
       "1  2jYHSJBXjusgmYdrNeaRmg     1361.0  [jazz guitar, smooth jazz]   \n",
       "2  5LmehwqsJa7a4Ya5SaqXpx     1147.0                   [doo-wop]   \n",
       "3  10BFTSAfLauhKVmdby4zac        0.0                          []   \n",
       "4  4hwEAtCJZa1LMgbuRpUWJB        4.0                          []   \n",
       "\n",
       "                                  mb_id                     name  popularity  \n",
       "0  290e5513-55d3-426f-a4ba-1ac3ce589107             Zachary Levi        61.0  \n",
       "1  09cddf26-fe4a-493e-bb1d-64723892ed8d           Zachary Breaux        29.0  \n",
       "2  ca3f3ee1-c4a7-4bac-a16a-0b888a396c6b          The Silhouettes        37.0  \n",
       "3  3a8ecc10-f888-48c0-9674-5c0ccd1fe93f  Peter & the Silhouettes         0.0  \n",
       "4  ca3f3ee1-c4a7-4bac-a16a-0b888a396c6b     The Lost Silhouettes         0.0  "
      ]
     },
     "execution_count": 10,
     "metadata": {},
     "output_type": "execute_result"
    }
   ],
   "source": [
    "df.head(5)"
   ]
  },
  {
   "cell_type": "markdown",
   "metadata": {},
   "source": [
    "## Data analysis"
   ]
  },
  {
   "cell_type": "markdown",
   "metadata": {},
   "source": [
    "### Popularity\n",
    "\n",
    "Popularity is a value defined by Spotify. The range of this value is between 0 and 100, and according to Spotify it is determined based on the number of times the artist's songs was played, number of followers. What is important is that recent plays are more valuable than older ones, so artists with newer songs will probably be more popular than some artists that were popular few years ago.  \n",
    "\n",
    "After first look, it turned out that the number of artists with popularity 0 is so big, that after plotting the histogram none of the other values were visible. This is why artists with popularity 0 are ommited in this plot."
   ]
  },
  {
   "cell_type": "code",
   "execution_count": 11,
   "metadata": {
    "scrolled": true
   },
   "outputs": [
    {
     "name": "stdout",
     "output_type": "stream",
     "text": [
      "               _id  followers  genres   mb_id    name\n",
      "popularity                                           \n",
      "0.0         334234     334209  334234  334234  334234\n",
      "1.0          63045      63040   63045   63045   63045\n",
      "2.0          37792      37789   37792   37792   37792\n",
      "3.0          27705      27704   27705   27705   27705\n",
      "4.0          22249      22249   22249   22249   22249\n",
      "5.0          18584      18583   18584   18584   18584\n",
      "6.0          15898      15897   15898   15898   15898\n",
      "7.0          13920      13920   13920   13920   13920\n",
      "8.0          12353      12353   12353   12353   12353\n",
      "9.0          11264      11263   11264   11264   11264\n",
      "10.0         10137      10137   10137   10137   10137\n",
      "11.0          9382       9382    9382    9382    9382\n",
      "12.0          8583       8583    8583    8583    8583\n",
      "13.0          8049       8047    8049    8049    8049\n",
      "14.0          7623       7621    7623    7623    7623\n",
      "15.0          7014       7013    7014    7014    7014\n",
      "16.0          6849       6849    6849    6849    6849\n",
      "17.0          6527       6527    6527    6527    6527\n",
      "18.0          6391       6391    6391    6391    6391\n",
      "19.0          6085       6085    6085    6085    6085\n",
      "20.0          5711       5711    5711    5711    5711\n",
      "21.0          5439       5439    5439    5439    5439\n",
      "22.0          5403       5403    5403    5403    5403\n",
      "23.0          5083       5083    5083    5083    5083\n",
      "24.0          4940       4939    4940    4940    4940\n",
      "25.0          4823       4823    4823    4823    4823\n",
      "26.0          4527       4526    4527    4527    4527\n",
      "27.0          4219       4219    4219    4219    4219\n",
      "28.0          4079       4079    4079    4079    4079\n",
      "29.0          3946       3946    3946    3946    3946\n",
      "...            ...        ...     ...     ...     ...\n",
      "69.0           163        163     163     163     163\n",
      "70.0           150        150     150     150     150\n",
      "71.0           119        119     119     119     119\n",
      "72.0           101        101     101     101     101\n",
      "73.0           101        101     101     101     101\n",
      "74.0            79         79      79      79      79\n",
      "75.0            85         85      85      85      85\n",
      "76.0            72         72      72      72      72\n",
      "77.0            64         64      64      64      64\n",
      "78.0            52         52      52      52      52\n",
      "79.0            41         41      41      41      41\n",
      "80.0            35         35      35      35      35\n",
      "81.0            43         43      43      43      43\n",
      "82.0            35         35      35      35      35\n",
      "83.0            20         20      20      20      20\n",
      "84.0            27         27      27      27      27\n",
      "85.0            17         17      17      17      17\n",
      "86.0            12         12      12      12      12\n",
      "87.0            15         15      15      15      15\n",
      "88.0            10         10      10      10      10\n",
      "89.0            13         13      13      13      13\n",
      "90.0             9          9       9       9       9\n",
      "91.0             8          8       8       8       8\n",
      "92.0             8          8       8       8       8\n",
      "93.0             2          2       2       2       2\n",
      "94.0             4          4       4       4       4\n",
      "95.0             2          2       2       2       2\n",
      "96.0             2          2       2       2       2\n",
      "97.0             2          2       2       2       2\n",
      "100.0            1          1       1       1       1\n",
      "\n",
      "[99 rows x 5 columns]\n"
     ]
    }
   ],
   "source": [
    "#find popularity frequency\n",
    "freq = df.groupby('popularity').count()\n",
    "print(freq)"
   ]
  },
  {
   "cell_type": "code",
   "execution_count": 12,
   "metadata": {
    "scrolled": false
   },
   "outputs": [
    {
     "data": {
      "image/png": "[encoded data removed]",
      "text/plain": [
       "<matplotlib.figure.Figure at 0x7ff41c9561d0>"
      ]
     },
     "metadata": {},
     "output_type": "display_data"
    }
   ],
   "source": [
    "df_popularity = df[df.popularity != 0]\n",
    "df_popularity.plot.hist(y='popularity', bins=100, figsize=(15,8), title =\"Artist popularity\")\n",
    "plt.xlabel(\"Popularity\")\n",
    "plt.savefig(\"figures/artist_popularity.png\")"
   ]
  },
  {
   "cell_type": "markdown",
   "metadata": {},
   "source": [
    "### Followers\n",
    "\n",
    "The number of people that decided to 'follow' that artist."
   ]
  },
  {
   "cell_type": "code",
   "execution_count": 13,
   "metadata": {},
   "outputs": [],
   "source": [
    "df_followers = df[df.followers > 100]"
   ]
  },
  {
   "cell_type": "code",
   "execution_count": 14,
   "metadata": {},
   "outputs": [
    {
     "data": {
      "text/html": [
       "<div>\n",
       "<style scoped>\n",
       "    .dataframe tbody tr th:only-of-type {\n",
       "        vertical-align: middle;\n",
       "    }\n",
       "\n",
       "    .dataframe tbody tr th {\n",
       "        vertical-align: top;\n",
       "    }\n",
       "\n",
       "    .dataframe thead th {\n",
       "        text-align: right;\n",
       "    }\n",
       "</style>\n",
       "<table border=\"1\" class=\"dataframe\">\n",
       "  <thead>\n",
       "    <tr style=\"text-align: right;\">\n",
       "      <th></th>\n",
       "      <th>followers</th>\n",
       "      <th>popularity</th>\n",
       "    </tr>\n",
       "  </thead>\n",
       "  <tbody>\n",
       "    <tr>\n",
       "      <th>count</th>\n",
       "      <td>1.942200e+05</td>\n",
       "      <td>194220.000000</td>\n",
       "    </tr>\n",
       "    <tr>\n",
       "      <th>mean</th>\n",
       "      <td>1.689932e+04</td>\n",
       "      <td>20.959984</td>\n",
       "    </tr>\n",
       "    <tr>\n",
       "      <th>std</th>\n",
       "      <td>1.966596e+05</td>\n",
       "      <td>15.861348</td>\n",
       "    </tr>\n",
       "    <tr>\n",
       "      <th>min</th>\n",
       "      <td>1.010000e+02</td>\n",
       "      <td>0.000000</td>\n",
       "    </tr>\n",
       "    <tr>\n",
       "      <th>25%</th>\n",
       "      <td>2.100000e+02</td>\n",
       "      <td>8.000000</td>\n",
       "    </tr>\n",
       "    <tr>\n",
       "      <th>50%</th>\n",
       "      <td>5.460000e+02</td>\n",
       "      <td>18.000000</td>\n",
       "    </tr>\n",
       "    <tr>\n",
       "      <th>75%</th>\n",
       "      <td>2.277000e+03</td>\n",
       "      <td>31.000000</td>\n",
       "    </tr>\n",
       "    <tr>\n",
       "      <th>max</th>\n",
       "      <td>2.052686e+07</td>\n",
       "      <td>100.000000</td>\n",
       "    </tr>\n",
       "  </tbody>\n",
       "</table>\n",
       "</div>"
      ],
      "text/plain": [
       "          followers     popularity\n",
       "count  1.942200e+05  194220.000000\n",
       "mean   1.689932e+04      20.959984\n",
       "std    1.966596e+05      15.861348\n",
       "min    1.010000e+02       0.000000\n",
       "25%    2.100000e+02       8.000000\n",
       "50%    5.460000e+02      18.000000\n",
       "75%    2.277000e+03      31.000000\n",
       "max    2.052686e+07     100.000000"
      ]
     },
     "execution_count": 14,
     "metadata": {},
     "output_type": "execute_result"
    }
   ],
   "source": [
    "df_followers.describe()"
   ]
  },
  {
   "cell_type": "code",
   "execution_count": 16,
   "metadata": {},
   "outputs": [
    {
     "data": {
      "image/png": "[encoded data removed]",
      "text/plain": [
       "<matplotlib.figure.Figure at 0x7ff41c704a58>"
      ]
     },
     "metadata": {},
     "output_type": "display_data"
    }
   ],
   "source": [
    "df.followers.plot.hist(y='followers', bins=200, figsize=(15,8), title=\"Followers number\")\n",
    "plt.xlabel(\"Followers number\")\n",
    "plt.yscale(\"log\")\n",
    "plt.xscale(\"log\")\n",
    "plt.savefig(\"figures/followers.png\")"
   ]
  },
  {
   "cell_type": "code",
   "execution_count": 14,
   "metadata": {},
   "outputs": [
    {
     "data": {
      "text/plain": [
       "<matplotlib.axes._subplots.AxesSubplot at 0x7fbb34650be0>"
      ]
     },
     "execution_count": 14,
     "metadata": {},
     "output_type": "execute_result"
    },
    {
     "data": {
      "image/png": "[encoded data removed]",
      "text/plain": [
       "<matplotlib.figure.Figure at 0x7fbb34655550>"
      ]
     },
     "metadata": {},
     "output_type": "display_data"
    }
   ],
   "source": [
    "df_followers.boxplot(column='followers', showfliers=False)"
   ]
  },
  {
   "cell_type": "markdown",
   "metadata": {},
   "source": [
    "### Popularity and followers\n",
    " By intuition those values should be highly correlated, especially that number of followers is one of the factors in computing artist popularity.\n"
   ]
  },
  {
   "cell_type": "code",
   "execution_count": 30,
   "metadata": {},
   "outputs": [
    {
     "data": {
      "text/plain": [
       "0.22533318858212736"
      ]
     },
     "execution_count": 30,
     "metadata": {},
     "output_type": "execute_result"
    }
   ],
   "source": [
    "#remove artists with 0 followers and 0 popularity\n",
    "df_fp = df[df['followers']>0]\n",
    "df_fp = df_fp[df_fp['popularity']>0]\n",
    "df_fp['followers'].corr(df_fp['popularity'])"
   ]
  },
  {
   "cell_type": "markdown",
   "metadata": {},
   "source": [
    "The value 0.23 means very weak positive correlation. Althought the trend in both variables is similar they are not well correlated."
   ]
  },
  {
   "cell_type": "markdown",
   "metadata": {},
   "source": [
    "### Music genres\n",
    "\n",
    "Music genres were taken from Spotify dataset and they are defined by artists themselves, which means that there is no bounded set of possible values for that variable. The goal is to check number of genres, their frequency and based on those values reduce this number by merging similar genres and removing the least popular ones. "
   ]
  },
  {
   "cell_type": "code",
   "execution_count": 70,
   "metadata": {},
   "outputs": [],
   "source": [
    "genres = df.genres.tolist()\n",
    "cleaned = [x for x in genres if str(x) != 'nan']\n",
    "flat_genres = [item for sublist in cleaned for item in sublist]"
   ]
  },
  {
   "cell_type": "code",
   "execution_count": 71,
   "metadata": {},
   "outputs": [],
   "source": [
    "unique, counts = np.unique(flat_genres, return_counts=True)\n",
    "genres_frequency = dict(zip(unique, counts))"
   ]
  },
  {
   "cell_type": "code",
   "execution_count": 72,
   "metadata": {},
   "outputs": [
    {
     "name": "stdout",
     "output_type": "stream",
     "text": [
      "1634\n"
     ]
    }
   ],
   "source": [
    "\n",
    "print(len(genres_frequency))"
   ]
  },
  {
   "cell_type": "code",
   "execution_count": 73,
   "metadata": {
    "scrolled": true
   },
   "outputs": [
    {
     "name": "stdout",
     "output_type": "stream",
     "text": [
      "[('albanian hip hop', 1), ('argentine hip hop', 1), ('azeri traditional', 1), ('balkan hip hop', 1), ('chilean indie', 1), ('chinese opera', 1), ('classic cantopop', 1), ('estonian hip hop', 1), ('hard bass', 1), ('hindustani instrumental', 1), ('indie pop rap', 1), ('italian alternative', 1), ('jazz clarinet', 1), ('keroncong', 1), ('metal noir quebecois', 1), ('oriental metal', 1), ('peruvian hip hop', 1), ('recorder', 1), ('rock quebecois', 1), ('sertanejo pop', 1), ('sitar', 1), ('south african pop', 1), ('spanish comedy', 1), ('sung poetry', 1), ('vogue', 1), ('australian garage punk', 2), ('azeri pop', 2), ('brazilian metal', 2), ('cumbia salvadorena', 2), ('german jazz', 2), ('indie quebecois', 2), ('latin ska', 2), ('lo-fi beats', 2), ('lo-fi house', 2), ('maltese pop', 2), ('rock chapin', 2), ('rock kapak', 2), ('romanian hip hop', 2), ('streektaal', 2), ('venezuelan hip hop', 2), ('arabic hip hop', 3), ('bongo flava', 3), ('brazilian reggae', 3), ('brazilian rock', 3), ('colombian hip hop', 3), ('indie deutschrap', 3), ('islamic recitation', 3), ('mexican pop', 3), ('panamanian pop', 3), ('rap cristiano', 3), ('south african hip hop', 3), ('turkish metal', 3), ('australian hardcore', 4), ('belgian hip hop', 4), ('christian trap', 4), ('kayokyoku', 4), ('malaysian indie', 4), ('sleep', 6), ('trap soul', 6), ('cornetas y tambores', 7), ('jazz rap', 7), ('football', 8), ('comedy rock', 9), ('deep deep tech house', 10), ('villancicos', 10), ('enka', 11), ('fussball', 11), ('orquesta tropical', 11), ('vapor trap', 11), ('tanzlmusi', 12), ('workout', 12), ('world meditation', 12), ('alternative ccm', 13), ('classic russian pop', 14), ('entehno', 14), ('mantra', 14), ('israeli hip hop', 15), ('laiko', 16), ('prank', 17), ('punta', 17), ('rebetiko', 17), ('thai hip hop', 17), ('tribute', 17), ('halloween', 18), ('christmas product', 19), ('deep norteno', 19), ('nepali', 19), ('byzantine', 20), ('musica per bambini', 20), ('smooth urban r&b', 20), ('anime score', 21), ('caucasian folk', 21), ('deep swedish rock', 21), ('russian folk', 21), ('icelandic hip hop', 22), ('indonesian hip hop', 22), ('kuduro', 22), ('bulgarian folk', 23), ('deep filthstep', 23), ('central asian folk', 24), ('heavy alternative', 24), ('neo-traditional country', 24), ('tibetan', 24), ('ugandan pop', 24), ('albuquerque indie', 26), ('beats', 26), ('college marching band', 26), ('czech hip hop', 26), ('environmental', 26), ('liturgical', 26), ('nordic house', 26), ('panpipe', 26), ('spoken word', 26), ('capoeira', 27), ('chinese minyao', 27), ('dominican pop', 27), ('nasheed', 27), ('steelpan', 27), ('tone', 27), ('ballet class', 28), ('jug band', 28), ('guidance', 29), ('luk thung', 29), ('christian dance', 30), ('deep melodic metalcore', 30), ('hungarian hip hop', 30), ('j-poprock', 30), ('romantico', 30), ('sinhala', 30), ('gospel blues', 31), ('modern downshift', 31), ('stl indie', 31), ('russelater', 32), ('bemani', 33), ('brazilian ccm', 33), ('chalga', 33), ('deep latin christian', 33), ('kids dance party', 33), ('electronicore', 34), ('deep progressive house', 35), ('hong kong indie', 35), ('orquesta tipica', 35), ('taiwan indie', 35), ('vegas indie', 35), ('ceilidh', 36), ('disco polo', 36), ('dubstep product', 36), ('gothic alternative', 36), ('hebrew pop', 36), ('maghreb', 36), ('stomp and flutter', 36), ('armenian folk', 37), ('deep flow', 38), ('j-punk', 38), ('neo-singer-songwriter', 38), ('rap chileno', 38), ('thai indie', 38), ('drama', 39), ('e6fi', 39), ('deep latin jazz', 40), ('muziek voor kinderen', 40), ('zim', 40), ('african percussion', 41), ('alternative metalcore', 41), ('gnawa', 41), ('nursery', 41), ('underground latin hip hop', 41), ('vietnamese bolero', 41), ('vintage swoon', 41), ('deep classic garage rock', 42), ('glitter trance', 42), ('go-go', 42), ('manele', 42), ('remix', 42), ('chinese hip hop', 43), ('corsican folk', 43), ('coupe decale', 43), ('guitar case', 43), ('indian rock', 43), ('italo beats', 43), ('j-poppunk', 43), ('progressive alternative', 43), ('swedish jazz orkester', 43), ('viol', 43), ('chill-out trance', 44), ('gospel reggae', 44), ('greek hip hop', 44), ('skiffle', 44), ('slc indie', 44), ('catalan folk', 45), ('malaysian hip hop', 45), ('mallet', 45), ('new jack smooth', 45), ('raw black metal', 45), ('breaks', 46), ('downtempo fusion', 46), ('funk rock', 46), ('ghazal', 46), ('hiplife', 46), ('japanese traditional', 46), ('kurdish folk', 46), ('mizrahi', 46), ('musica nativista', 46), ('polyphony', 46), ('slovak hip hop', 46), ('song poem', 46), ('chinese indie rock', 47), ('hatecore', 47), ('indie pop rock', 47), ('indie singer-songwriter', 47), ('klapa', 47), ('lounge house', 47), ('military band', 47), ('monastic', 47), ('puerto rican rock', 47), ('ukulele', 47), ('african gospel', 48), ('beach music', 48), ('experimental dubstep', 48), ('marching band', 48), ('barbershop', 49), ('deep brazilian pop', 49), ('funk carioca', 49), ('gamelan', 49), ('motivation', 49), ('ok indie', 49), ('technical brutal death metal', 49), ('thai idol', 49), ('thrash-groove metal', 49), ('vintage reggae', 49), ('vintage swing', 49), ('zouglou', 49), ('deep pop punk', 50), ('italian punk', 50), ('manila sound', 50), ('serialism', 50), ('bulgarian rock', 51), ('classic peruvian pop', 51), ('girl group', 51), ('irish indie', 51), ('persian traditional', 51), ('denver indie', 52), ('idol rock', 52), ('polka', 52), ('rva indie', 52), ('solipsynthm', 52), ('sunset lounge', 52), ('vintage rockabilly', 52), ('ye ye', 52), ('yoik', 52), ('british brass band', 53), ('dark hardcore', 53), ('flick hop', 53), ('qawwali', 53), ('re:techno', 53), ('shanty', 53), ('singaporean pop', 53), ('soda pop', 53), ('alternative hardcore', 54), ('bay area hip hop', 54), ('classical accordion', 54), ('dark progressive house', 54), ('deep soundtrack', 54), ('ecuadoria', 54), ('jangle rock', 54), ('k-rock', 54), ('malagasy folk', 54), ('oratory', 54), ('porro', 54), ('skweee', 54), ('slow game', 54), ('carnatic', 55), ('classic psychedelic rock', 55), ('deep dance pop', 55), ('dubsteppe', 55), ('greek indie', 55), ('japanoise', 55), ('melodipop', 55), ('mexican traditional', 55), ('pirate', 55), ('vintage western', 55), ('wind ensemble', 55), ('austrian hip hop', 56), ('columbus ohio indie', 56), ('contrabass', 56), ('covertrance', 56), ('dark minimal techno', 56), ('deep downtempo fusion', 56), ('ghoststep', 56), ('japanese jazztronica', 56), ('japanese psychedelic', 56), ('jazz composition', 56), ('minimal dubstep', 56), ('minimal melodic techno', 56), ('musica para ninos', 56), ('musiikkia lapsille', 56), ('triangle indie', 56), ('alternative americana', 57), ('australian country', 57), ('blaskapelle', 57), ('calypso', 57), ('chinese traditional', 57), ('jazz orchestra', 57), ('kc indie', 57), ('slash punk', 57), ('uk drill', 57), ('bounce', 58), ('canadian hip hop', 58), ('digital hardcore', 58), ('electro bailando', 58), ('gothic post-punk', 58), ('hard minimal techno', 58), ('lute', 58), ('polish indie', 58), ('throat singing', 58), ('turkish alternative', 58), ('west african jazz', 58), ('bass trip', 59), ('benga', 59), ('deep full on', 59), ('deep happy hardcore', 59), ('deep rai', 59), ('greek house', 59), ('indie psych-pop', 59), ('israeli rock', 59), ('oshare kei', 59), ('p funk', 59), ('spanish indie rock', 59), ('albanian pop', 60), ('deep german indie', 60), ('electropowerpop', 60), ('garage punk blues', 60), ('ghettotech', 60), ('melbourne bounce', 60), ('neue deutsche welle', 60), ('spanish classical', 60), ('dutch house', 61), ('heavy gothic rock', 61), ('highlife', 61), ('israeli pop', 61), ('kindermusik', 61), ('rock noise', 61), ('thai pop', 61), ('vapor house', 61), ('wrock', 61), ('desert blues', 62), ('disney', 62), ('neo honky tonk', 62), ('pinoy hip hop', 62), ('rosary', 62), ('spanish reggae', 62), ('bangla', 63), ('deep delta blues', 63), ('italian folk', 63), ('j-idol', 63), ('pop flamenco', 63), ('rap metalcore', 63), ('string folk', 63), ('theme', 63), ('usbm', 63), ('deep gothic post-punk', 64), ('destroy techno', 64), ('electro latino', 64), ('louisville indie', 64), ('neo soul-jazz', 64), ('classical harp', 65), ('crack rock steady', 65), ('cumbia sonidera', 65), ('electro trash', 65), ('fake', 65), ('perth indie', 65), ('saxophone', 65), ('sheffield indie', 65), ('traditional reggae', 65), ('brass band', 66), ('deep indie singer-songwriter', 66), ('deep jazz fusion', 66), ('deep melodic hard rock', 66), ('french movie tunes', 66), ('necrogrind', 66), ('skinhead reggae', 66), ('chamame', 67), ('classical percussion', 67), ('faroese pop', 67), ('jazz organ', 67), ('screamocore', 67), ('brass ensemble', 68), ('chinese experimental', 68), ('deep german jazz', 68), ('deep neofolk', 68), ('japanese city pop', 68), ('louvor', 68), ('musique pour enfants', 68), ('nintendocore', 68), ('shibuya-kei', 68), ('swedish pop punk', 68), ('tekno', 68), ('unblack metal', 68), ('zillertal', 68), ('deep orgcore', 69), ('deep pop emo', 69), ('doujin', 69), ('electropunk', 69), ('hip hop tuga', 69), ('italo dance', 69), ('j-reggae', 69), ('minimal', 69), ('norwegian gospel', 69), ('swedish prog', 69), ('alternative pop rock', 70), ('blues-rock guitar', 70), ('british dance band', 70), ('chip hop', 70), ('christelijk', 70), ('danish jazz', 70), ('deep cumbia sonidera', 70), ('deep vocal house', 70), ('neo-pagan', 70), ('polish jazz', 70), ('swedish hard rock', 70), ('talent show', 70), ('ukrainian rock', 70), ('visual kei', 70), ('baile funk', 71), ('belgian indie', 71), ('bossa nova jazz', 71), ('german show tunes', 71), ('makina', 71), ('portuguese pop', 71), ('samba-enredo', 71), ('british alternative rock', 72), ('chamber choir', 72), ('danish indie', 72), ('deep freestyle', 72), ('deep latin alternative', 72), ('ethereal gothic', 72), ('hardcore breaks', 72), ('k-hop', 72), ('modern southern rock', 72), ('neo metal', 72), ('ostrock', 72), ('outsider', 72), ('trash rock', 72), ('azonto', 73), ('cinematic dubstep', 73), ('deep discofox', 73), ('deep melodic death metal', 73), ('deep nordic folk', 73), ('deep power-pop punk', 73), ('deep thrash metal', 73), ('demoscene', 73), ('footwork', 73), ('hard glam', 73), ('makossa', 73), ('microtonal', 73), ('polish reggae', 73), ('semba', 73), ('stomp and whittle', 73), ('vintage italian soundtrack', 73), ('wrestling', 73), ('charred death', 74), ('classic colombian pop', 74), ('cubaton', 74), ('cumbia funk', 74), ('dallas indie', 74), ('drone folk', 74), ('electronica', 74), ('german street punk', 74), ('mexican son', 74), ('outer hip hop', 74), ('rhythm and boogie', 74), ('swedish reggae', 74), ('bmore', 75), ('c64', 75), ('college a cappella', 75), ('cyber metal', 75), ('deep eurodance', 75), ('deep liquid bass', 75), ('didgeridoo', 75), ('jazz brass', 75), ('mashup', 75), ('modern uplift', 75), ('northern irish indie', 75), ('organic ambient', 75), ('tico', 75), ('traditional rockabilly', 75), ('dark electro-industrial', 76), ('deep soft rock', 76), ('deep southern soul', 76), ('gothic doom', 76), ('italian pop rock', 76), ('melodic power metal', 76), ('neurostep', 76), ('turbo folk', 76), ('uk funky', 76), ('vintage country folk', 76), ('belorush', 77), ('chill groove', 77), ('deep canadian indie', 77), ('deep east coast hip hop', 77), ('deep indie rock', 77), ('finnish jazz', 77), ('jazz vibraphone', 77), ('jumpstyle', 77), ('pipe band', 77), ('russian alternative', 77), ('viola', 77), ('vocal harmony group', 77), ('cumbia pop', 78), ('deep deep house', 78), ('deep indie pop', 78), ('deep ragga', 78), ('deep symphonic black metal', 78), ('punk ska', 78), ('accordion', 79), ('deep german punk', 79), ('deep nz indie', 79), ('deep tech house', 79), ('drill', 79), ('indie emo', 79), ('judaica', 79), ('nl folk', 79), ('noise punk', 79), ('shimmer psych', 79), ('accordeon', 80), ('danseband', 80), ('deep breakcore', 80), ('deep g funk', 80), ('fidget house', 80), ('gothic americana', 80), ('idol', 80), ('j-pop', 80), ('k-indie', 80), ('vintage french electronic', 80), ('witch house', 80), ('classic venezuelan pop', 81), ('deep funk carioca', 81), ('latin electronica', 81), ('leeds indie', 81), ('mod revival', 81), ('ragga jungle', 81), ('sega', 81), ('twee indie pop', 81), ('twin cities indie', 81), ('venezuelan rock', 81), ('vocaloid', 81), ('world worship', 81), ('ballroom', 82), ('boogie-woogie', 82), ('deep regional mexican', 82), ('ethiopian pop', 82), ('geek folk', 82), ('geek rock', 82), ('bassline', 83), ('electroacoustic improvisation', 83), ('glam rock', 83), ('magyar', 83), ('michigan indie', 83), ('modern free jazz', 83), ('nerdcore', 83), ('slavic metal', 83), ('southern soul blues', 83), ('street punk', 83), ('swamp pop', 83), ('broken beat', 84), ('cajun', 84), ('contemporary folk', 84), ('deep latin hip hop', 84), ('french folk', 84), ('bay area indie', 85), ('cumbia villera', 85), ('darkstep', 85), ('doomcore', 85), ('electro dub', 85), ('funky breaks', 85), ('indorock', 85), ('miami bass', 85), ('norwegian punk', 85), ('power electronics', 85), ('ragtime', 85), ('skinhead oi', 85), ('soukous', 85), ('stomp pop', 85), ('string band', 85), ('vancouver indie', 85), ('arab folk', 86), ('austropop', 86), ('deep vocal jazz', 86), ('italian metal', 86), ('kompa', 86), ('morna', 86), ('nz indie', 86), ('spanish folk', 86), ('terrorcore', 86), ('abstractro', 87), ('acid techno', 87), ('anarcho-punk', 87), ('deep hardcore punk', 87), ('grim death metal', 87), ('harpsichord', 87), ('mbalax', 87), ('nordic folk', 87), ('post-post-hardcore', 87), ('russiavision', 87), ('strut', 87), ('vienna indie', 87), ('vintage schlager', 87), ('afrobeats', 88), ('barnemusikk', 88), ('boy band', 88), ('colombian rock', 88), ('commons', 88), ('deep adult standards', 88), ('deep contemporary country', 88), ('deep northern soul', 88), ('german pop rock', 88), ('native american', 88), ('spanish pop rock', 88), ('speedcore', 88), (\"traditional rock 'n roll\", 88), ('vintage jazz', 88), ('ambient fusion', 89), ('australian indie', 89), ('chicago indie', 89), ('christian uplift', 89), ('deep sunset lounge', 89), ('dirty texas rap', 89), ('french punk', 89), ('glitch beats', 89), ('medieval', 89), ('mexican rock-and-roll', 89), ('new beat', 89), ('norwegian hip hop', 89), ('swiss rock', 89), ('traditional swing', 89), ('vegan straight edge', 89), ('belly dance', 90), ('british invasion', 90), ('classic french pop', 90), ('deep liquid', 90), ('duranguense', 90), ('j-indie', 90), ('pakistani pop', 90), ('spanish invasion', 90), ('turkish hip hop', 90), ('aussietronica', 91), ('cantopop', 91), ('classify', 91), ('deep psytrance', 91), ('deep punk rock', 91), ('g funk', 91), ('lo star', 91), ('new tribe', 91), ('swedish eurodance', 91), ('timba', 91), ('tzadik', 91), ('arab pop', 92), ('brutal deathcore', 92), ('classical oboe', 92), ('deep free jazz', 92), ('deep pop edm', 92), ('jazz drums', 92), ('light music', 92), ('nu-cumbia', 92), ('old school hip hop', 92), ('russian hip hop', 92), ('scratch', 92), ('antiviral pop', 93), ('classic eurovision', 93), ('deep darkpsy', 93), ('funk metal', 93), ('german ccm', 93), ('hard stoner rock', 93), ('horrorcore', 93), ('italian progressive rock', 93), ('modern performance', 93), ('nu electro', 93), ('post-disco soul', 93), ('relaxative', 93), ('athens indie', 94), ('black sludge', 94), ('bow pop', 94), ('clarinet', 94), ('cryptic black metal', 94), ('deep new wave', 94), ('deep space rock', 94), ('musique concrete', 94), ('polynesian pop', 94), ('riot grrrl', 94), ('shiver pop', 94), ('traditional scottish folk', 94), ('west coast rap', 94), ('beatdown', 95), ('deep italo disco', 95), ('dixieland', 95), ('galego', 95), ('gauze pop', 95), ('j-ambient', 95), ('jazz double bass', 95), ('karneval', 95), ('klezmer', 95), ('malaysian pop', 95), ('merengue urbano', 95), ('protopunk', 95), ('tribal house', 95), ('a cappella', 96), ('argentine reggae', 96), ('barnmusik', 96), ('british indie rock', 96), ('celtic rock', 96), ('deep dub techno', 96), ('deep texas country', 96), ('harp', 96), ('swiss hip hop', 96), ('turkish classical', 96), ('abstract', 97), ('alternative roots rock', 97), ('breakcore', 97), ('candy pop', 97), ('deep acoustic pop', 97), ('detroit hip hop', 97), ('euroska', 97), ('fallen angel', 97), ('finnish hardcore', 97), ('grisly death metal', 97), ('kwaito house', 97), ('la indie', 97), ('traditional funk', 97), ('christian relaxative', 98), ('experimental psych', 98), ('german oi', 98), ('icelandic rock', 98), ('metal guitar', 98), ('neo-industrial rock', 98), ('psych gaze', 98), ('zeuhl', 98), ('brazilian composition', 99), ('dangdut', 99), ('deep surf music', 99), ('drone psych', 99), ('electrofox', 99), ('gamecore', 99), ('gypsy punk', 99), ('hoerspiel', 99), ('japanese r&b', 99), ('kwaito', 99), ('latin christian', 99), ('mariachi', 99), ('schranz', 99), ('vintage chinese pop', 99), ('acousmatic', 100), ('canzone napoletana', 100), ('glitch', 100), ('horror punk', 100), ('j-core', 100), ('portland indie', 100), ('ambient dub techno', 101), ('australian dance', 101), ('deep motown', 101), ('deep swedish hip hop', 101), ('downtempo', 101), ('groove room', 101), ('kraut rock', 101), ('romanian rock', 101), ('vintage chanson', 101), ('atmospheric post-metal', 102), ('ectofolk', 102), ('melodic progressive metal', 102), ('noise', 102), ('rio de la plata', 102), ('southern gospel', 102), ('spytrack', 102), ('zolo', 102), ('abstract beats', 103), ('bouncy house', 103), ('canadian pop', 103), ('crossover prog', 103), ('irish country', 103), ('irish rock', 103), ('lds', 103), ('piano rock', 103), ('ska revival', 103), ('world fusion', 103), ('classical cello', 104), ('deep ambient', 104), ('deep ccm', 104), ('hindustani classical', 104), ('reading', 104), ('balkan brass', 105), ('deep progressive trance', 105), ('exotica', 105), ('j-metal', 105), ('jig and reel', 105), ('latin arena pop', 105), ('lowercase', 105), ('concert band', 106), ('dwn trap', 106), ('electroclash', 106), ('laboratorio', 106), ('lithumania', 106), ('norwegian metal', 106), ('world chill', 106), ('channel pop', 107), ('classical flute', 107), ('deep neo-synthpop', 107), ('folkmusik', 107), ('neo-rockabilly', 107), ('slovenian rock', 107), ('tin pan alley', 107), ('austindie', 108), ('classic turkish pop', 108), ('deep comedy', 108), ('deep dutch hip hop', 108), ('goa trance', 108), ('memphis hip hop', 108), ('nu skool breaks', 108), ('power noise', 108), ('zydeco', 108), ('alternative r&b', 109), ('brazilian punk', 109), ('deep funk house', 109), ('funeral doom', 109), ('italian jazz', 109), ('kirtan', 109), ('peruvian rock', 109), ('tejano', 109), ('cello', 110), ('corrosion', 110), ('deep hardcore', 110), ('etherpop', 110), ('fast melodic punk', 110), ('finnish indie', 110), ('instrumental post rock', 110), ('permanent wave', 110), ('spanish rock', 110), ('swedish synthpop', 110), ('vapor pop', 110), ('vintage gospel', 110), ('basque rock', 111), ('blackgaze', 111), ('brega', 111), ('dansband', 111), ('deep minimal techno', 111), ('garage punk', 111), ('gypsy jazz', 111), ('swedish metal', 111), ('vietnamese pop', 111), ('argentine indie', 112), ('dark cabaret', 112), ('future ambient', 112), ('latin christmas', 112), ('sertanejo tradicional', 112), ('south african jazz', 112), ('speed garage', 112), ('breton folk', 113), ('chicano rap', 113), ('christian punk', 113), ('indian classical', 113), ('wave', 113), ('classical era', 114), ('dark black metal', 114), ('dark psytrance', 114), ('freestyle', 114), ('soul flow', 114), ('classic mandopop', 115), ('crust punk', 115), ('deep chill-out', 115), ('deep disco', 115), ('deep folk metal', 115), ('deep psychobilly', 115), ('deep southern trap', 115), ('estonian pop', 115), ('grunge pop', 115), ('hauntology', 115), ('jazz electric bass', 115), ('pixie', 115), ('scottish rock', 115), ('appalachian folk', 116), ('arabesk', 116), ('choro', 116), ('nwothm', 116), ('seattle indie', 116), ('trova', 116), ('uk hip hop', 116), ('classic afrobeat', 117), ('gbvfi', 117), ('hip hop quebecois', 117), ('indie fuzzpop', 117), ('j-dance', 117), ('jazz piano', 117), ('kabarett', 117), ('operatic pop', 117), ('underground power pop', 117), ('azontobeats', 118), ('classic finnish rock', 118), ('classic polish pop', 118), ('contemporary mandopop', 118), ('croatian pop', 118), ('deep disco house', 118), ('dutch hip hop', 118), ('fingerstyle', 118), ('free improvisation', 118), ('indie dream pop', 118), ('redneck', 118), ('steampunk', 118), ('ambeat', 119), ('anime', 119), ('celtic punk', 119), ('chiptune', 119), ('classic czech pop', 119), ('funky tech house', 119), ('glitch hop', 119), ('poetry', 119), ('progressive deathcore', 119), ('rai', 119), ('classical organ', 120), ('folklore argentino', 120), ('indie emo rock', 120), ('iskelma', 120), ('power-pop punk', 120), ('romantic era', 120), ('screamo punk', 120), ('deep euro house', 121), ('deep smooth jazz', 121), ('hard house', 121), ('medieval rock', 121), ('meditation', 121), ('pop house', 121), ('regional mexican pop', 121), ('russian punk', 121), ('danish hip hop', 122), ('ethereal wave', 122), ('teen pop', 122), ('zouk riddim', 122), ('atmospheric post rock', 123), ('brazilian hip hop', 123), ('drumfunk', 123), ('kizomba', 123), ('math pop', 123), ('traditional ska', 123), ('carnaval', 124), ('deep german hip hop', 124), ('eurovision', 124), ('korean pop', 124), ('new age piano', 124), ('ambient psychill', 125), ('anti-folk', 125), ('celtic christmas', 125), ('deep indian pop', 125), ('persian pop', 125), ('welsh rock', 125), (\"children's christmas\", 126), ('dark ambient', 126), ('focus', 126), ('new orleans jazz', 126), ('norwegian indie', 126), ('norwegian jazz', 126), ('progressive trance house', 126), ('psychedelic trance', 126), ('reggae rock', 126), ('black thrash', 127), ('depressive black metal', 127), ('j-rap', 127), ('liedermacher', 127), ('pop reggaeton', 127), ('surf music', 127), ('tango', 127), ('traditional soul', 127), ('african rock', 128), ('british folk', 128), ('classic icelandic pop', 128), ('norwegian rock', 128), ('black death', 129), ('brazilian gospel', 129), ('dansktop', 129), ('gothic rock', 129), ('hungarian pop', 129), ('martial industrial', 129), ('popgaze', 129), ('string quartet', 129), ('uk garage', 129), ('violin', 129), ('yugoslav rock', 129), ('afrikaans', 130), ('australian hip hop', 130), ('bhangra', 130), ('christian hardcore', 130), ('classic belgian pop', 130), ('classic dutch pop', 130), ('deep christian rock', 130), ('epicore', 130), ('freakbeat', 130), ('hawaiian', 130), ('italian disco', 130), ('mande pop', 130), ('underground pop rap', 130), ('brazilian electronica', 131), ('canadian metal', 131), ('chaotic black metal', 131), ('danspunk', 131), ('future garage', 131), ('slam death metal', 131), ('spanish hip hop', 131), ('zouk', 131), ('alternative pop', 132), ('boston rock', 132), ('breakbeat', 132), ('classic garage rock', 132), ('deep talent show', 132), ('drill and bass', 132), ('math rock', 132), ('psychedelic blues-rock', 132), ('riddim', 132), ('brooklyn indie', 133), ('classic russian rock', 133), ('dark jazz', 133), ('dubstep', 133), ('dutch rock', 133), ('indonesian indie', 133), ('lift kit', 133), ('swedish punk', 133), ('afrobeat', 134), ('australian alternative rock', 134), ('c86', 134), ('grunge', 134), ('power violence', 134), ('balearic', 135), ('chaotic hardcore', 135), ('deep danish pop', 135), ('electro jazz', 135), ('flamenco guitar', 135), ('indie rockism', 135), ('neoclassical', 135), ('polish hip hop', 135), ('uk dub', 135), ('axe', 136), ('c-pop', 136), ('canadian country', 136), ('christian metal', 136), ('deep chill', 136), ('deep soul house', 136), ('drift', 136), ('future funk', 136), ('german punk', 136), ('minimal wave', 136), ('chicago house', 137), ('czech rock', 137), ('finnish hip hop', 137), ('neo-synthpop', 137), ('neofolk', 137), ('old-time', 137), ('russian rock', 137), ('spanish new wave', 137), ('swedish hip hop', 137), ('vintage tango', 137), ('chanson quebecois', 138), ('chillstep', 138), ('classic schlager', 138), ('deep turkish pop', 138), ('filthstep', 138), ('folk metal', 138), ('free jazz', 138), ('latvian pop', 138), ('slovak pop', 138), ('soca', 138), ('andean', 139), (\"children's music\", 139), ('deep swedish indie pop', 139), ('melodic hard rock', 139), ('neo-progressive', 139), ('rock catala', 139), ('romanian pop', 139), ('avant-garde', 140), ('bubble trance', 140), ('dub techno', 140), ('hard alternative', 140), ('kiwi rock', 140), ('mexican indie', 140), ('vintage swedish pop', 140), ('ambient idm', 141), ('jazz trio', 141), ('melancholia', 141), ('neue deutsche harte', 141), ('psychobilly', 141), ('punjabi', 141), ('canterbury scene', 142), ('classical guitar', 142), ('deep trap', 142), ('hyphy', 142), ('medieval folk', 142), ('no wave', 142), ('nu age', 142), ('rock gaucho', 142), ('vaporwave', 142), ('classic norwegian pop', 143), ('french folk pop', 143), ('gospel', 143), ('movie tunes', 143), ('substep', 143), ('swedish jazz', 143), ('abstract idm', 144), ('comedy', 144), ('garage pop', 144), ('jam band', 144), ('progressive psytrance', 144), ('pub rock', 144), ('salsa international', 144), ('cante flamenco', 145), ('emo punk', 145), ('polish punk', 145), ('sleaze rock', 145), ('western swing', 145), ('czech folk', 146), ('hardstyle', 146), ('praise', 146), ('finnish dance pop', 147), ('folk punk', 147), ('jump up', 147), ('piano blues', 147), ('vallenato', 147), ('bachata', 148), ('boogaloo', 148), ('classic danish pop', 148), ('twee pop', 148), ('atmospheric black metal', 149), ('brazilian indie', 149), ('choral', 149), ('full on', 149), ('rumba', 149), ('sertanejo', 149), ('spanish noise pop', 149), ('deep uplifting trance', 150), ('jump blues', 150), ('oi', 150), ('power pop', 150), ('symphonic black metal', 150), ('wonky', 150), ('avantgarde metal', 151), ('belgian rock', 151), ('classic soundtrack', 151), ('country dawn', 151), ('instrumental rock', 151), ('jangle pop', 151), ('power blues-rock', 151), ('traditional british folk', 151), ('turkish folk', 151), ('big beat', 152), ('grindcore', 152), ('italian hip hop', 152), ('italian indie pop', 152), ('bass trap', 153), ('dark wave', 153), ('east coast hip hop', 153), ('nwobhm', 153), ('filmi', 154), ('finnish metal', 154), ('futurepop', 154), ('latin metal', 154), ('minimal dub', 154), ('schlager', 154), ('sertanejo universitario', 154), ('velha guarda', 154), ('bubblegum dance', 155), ('chilean rock', 155), ('drone metal', 155), ('german metal', 155), ('hardcore', 155), ('indie shoegaze', 155), ('otacore', 155), ('turkish jazz', 155), ('danish pop rock', 156), ('detroit techno', 156), ('french indie pop', 156), ('hands up', 156), ('ninja', 156), ('outsider house', 156), ('russian pop', 156), ('bluegrass', 157), ('classic italian pop', 157), ('pop emo', 157), ('aggrotech', 158), ('intelligent dance music', 158), ('new orleans blues', 158), ('quebecois', 158), ('swamp blues', 158), ('thrash core', 158), ('australian pop', 159), ('brutal death metal', 159), ('complextro', 159), ('fado', 159), ('gabba', 159), ('goregrind', 159), ('hardcore punk', 159), ('indiecoustica', 159), ('j-rock', 159), ('shoegaze', 159), ('black metal', 160), ('dreamo', 160), ('flamenco', 160), ('german techno', 160), ('orchestral', 160), ('smooth jazz', 160), ('baile pop', 161), ('german indie', 161), ('nu disco', 161), ('pagan black metal', 161), ('portuguese rock', 161), ('volksmusik', 161), ('world', 161), ('deep new americana', 162), ('easy listening', 162), ('indonesian pop', 162), ('neo-trad metal', 162), ('new weird america', 162), ('industrial rock', 163), ('mambo', 163), ('merseybeat', 163), ('post rock', 163), ('psychill', 163), ('retro electro', 163), ('swedish folk pop', 163), ('tracestep', 163), ('doo-wop', 164), ('gothic symphonic metal', 164), ('library music', 164), ('progressive post-hardcore', 164), ('ska', 164), ('spanish punk', 164), ('swedish alternative rock', 164), ('warm drone', 164), ('chill lounge', 165), ('hungarian rock', 165), ('indian folk', 165), ('new jack swing', 165), ('thrash metal', 165), ('deep german pop rock', 166), ('northern soul', 166), ('baroque ensemble', 167), ('cuban rumba', 167), ('djent', 167), ('orgcore', 167), ('straight edge', 167), ('vapor twitch', 167), ('banda', 168), ('chicago blues', 168), ('ebm', 168), ('louisiana blues', 168), ('mathcore', 168), ('sludge metal', 168), ('sound art', 168), ('zapstep', 168), ('avant-garde jazz', 169), ('cowboy western', 169), ('deathgrind', 169), ('early music ensemble', 169), ('fluxwork', 169), ('harmonica blues', 169), ('icelandic pop', 169), ('indie electro-pop', 169), ('mandible', 169), ('metropopolis', 169), ('rock steady', 169), ('swedish idol pop', 169), ('anthem worship', 170), ('irish folk', 170), ('neurofunk', 170), ('post-punk', 170), ('renaissance', 170), ('symphonic metal', 170), ('britpop', 171), ('bubblegum pop', 171), ('classical piano', 171), ('polish pop', 171), ('suomi rock', 171), ('classic finnish pop', 172), ('deep tropical house', 172), ('dub', 172), ('electro', 172), ('grave wave', 172), ('new age', 172), ('progressive bluegrass', 172), ('traditional blues', 172), ('vocal house', 172), ('abstract hip hop', 173), ('broadway', 173), ('deep melodic euro house', 173), ('italian arena pop', 173), ('pinoy alternative', 173), ('post-metal', 173), ('bolero', 174), ('delta blues', 174), ('french reggae', 174), ('industrial', 174), ('latin jazz', 174), ('lo beats', 174), ('punk christmas', 174), ('slow core', 174), ('techno', 174), ('turkish rock', 174), ('acid jazz', 175), ('catstep', 175), ('electro swing', 175), ('space rock', 175), ('ambient', 176), ('death core', 176), ('eurodance', 176), ('filter house', 176), ('nueva cancion', 176), ('reggae', 176), ('reggaeton flow', 176), ('retro metal', 176), ('spanish indie pop', 176), ('blues', 177), ('christian hip hop', 177), ('electro-industrial', 177), ('moombahton', 177), ('skate punk', 177), ('sky room', 177), ('acid house', 178), ('alternative country', 178), ('chillhop', 178), ('early modern classical', 178), ('jazz', 178), ('levenslied', 178), ('salsa', 178), ('stoner rock', 178), ('anthem emo', 179), ('garage psych', 179), ('jazz metal', 179), ('jungle', 179), ('k-pop', 179), ('progressive rock', 179), ('contemporary classical', 180), ('discofox', 180), ('industrial metal', 180), ('liquid funk', 180), ('uk post-punk', 180), ('canadian indie', 181), ('drone', 181), ('healing', 181), ('opera', 181), ('post-disco', 181), ('show tunes', 181), ('acoustic pop', 182), ('celtic', 182), ('classic swedish pop', 182), ('experimental', 182), ('merengue', 182), ('stoner metal', 182), ('drum and bass', 183), ('jazz guitar', 183), ('norteno', 183), ('norwegian pop', 183), ('technical death metal', 183), ('deep funk', 184), ('progressive uplifting trance', 184), ('glam metal', 185), ('nashville sound', 185), ('power metal', 185), ('soundtrack', 185), ('swedish indie rock', 185), ('french hip hop', 186), ('jazz trumpet', 186), ('lovers rock', 186), ('madchester', 186), ('ska punk', 186), ('country blues', 187), ('finnish pop', 187), ('pagode', 187), ('bossa nova', 188), ('hard bop', 188), ('viral pop', 188), ('happy hardcore', 189), ('indie jazz', 189), ('swedish indie pop', 189), ('viking metal', 189), ('deep hardstyle', 190), ('deep underground hip hop', 190), ('psychedelic doom', 190), ('big band', 191), ('indian pop', 191), ('coverchill', 192), ('crossover thrash', 192), ('soul jazz', 192), ('world christmas', 192), ('death metal', 193), ('desi', 193), ('groove metal', 193), ('reggaeton', 193), ('west coast trap', 193), ('early music', 194), ('italian pop', 194), ('modern country rock', 194), ('mpb', 194), ('progressive trance', 194), ('texas country', 194), ('turntablism', 194), ('ccm', 195), ('country road', 195), ('dream pop', 195), ('float house', 195), ('post-doom metal', 195), ('stride', 195), ('bass music', 196), ('french pop', 196), ('heavy christmas', 196), ('bebop', 197), ('crunk', 197), ('chanson', 198), ('doom metal', 198), ('hollywood', 198), ('indie christmas', 198), ('memphis soul', 198), ('trap latino', 198), ('christian music', 199), ('dutch pop', 199), ('gothic metal', 199), ('melodic death metal', 199), ('microhouse', 199), ('punk blues', 199), ('voidgaze', 199), ('alt-indie rock', 200), ('french rock', 200), ('noise rock', 200), ('spanish pop', 200), ('swing', 200), ('fourth world', 201), ('grime', 201), ('ranchera', 201), ('trance', 201), ('experimental rock', 202), ('southern rock', 202), ('traditional folk', 202), ('deep groove house', 203), ('electric blues', 203), ('french indietronica', 203), ('indie garage rock', 203), ('trap francais', 203), ('baroque', 204), ('deep chiptune', 204), ('jazz fusion', 204), ('new romantic', 204), ('christian rock', 205), ('rockabilly', 205), ('traditional country', 205), ('turkish pop', 205), ('cool jazz', 206), ('francoton', 206), ('roots reggae', 206), ('rap rock', 207), ('comic', 208), ('indie anthem-folk', 211), ('post-screamo', 211), ('deep pop r&b', 212), ('motown', 212), ('nu gaze', 212), ('country rock', 213), ('grupera', 213), ('21st century classical', 214), ('contemporary jazz', 214), ('contemporary post-bop', 214), ('southern soul', 214), ('dancehall', 215), ('post-hardcore', 215), ('acoustic blues', 216), ('argentine rock', 216), ('chicago soul', 216), ('samba', 216), ('chillwave', 217), ('christian alternative rock', 217), ('neo classical metal', 218), ('compositional ambient', 219), ('deep australian indie', 219), ('regional mexican', 219), ('uplifting trance', 219), ('alternative dance', 220), ('british blues', 220), ('electronic trap', 220), ('lilith', 220), ('country', 221), ('deep big room', 221), ('opm', 221), ('country gospel', 222), ('cabaret', 223), ('contemporary country', 224), ('trip hop', 224), ('danish pop', 225), ('german hip hop', 225), ('forro', 226), ('indie punk', 226), ('rock-and-roll', 227), ('worship', 227), ('german pop', 228), ('vocal jazz', 228), ('minimal tech house', 229), ('hardcore hip hop', 230), ('symphonic rock', 230), ('brostep', 231), ('melodic metalcore', 231), ('video game music', 231), ('cumbia', 232), ('piedmont blues', 234), ('progressive electro house', 234), ('screamo', 234), ('alternative emo', 235), ('punk', 235), ('speed metal', 235), ('underground rap', 236), ('afropop', 237), ('classic funk rock', 237), ('desi hip hop', 238), ('escape room', 238), ('brill building pop', 240), ('chamber psych', 240), ('memphis blues', 240), ('jazz funk', 241), ('jazz saxophone', 241), ('minimal techno', 241), ('big room', 242), ('disco', 245), ('lounge', 245), ('latin pop', 246), ('soul', 247), ('hip house', 248), ('new americana', 249), ('psychedelic rock', 250), ('swedish pop', 250), ('tech house', 250), ('outlaw country', 254), ('texas blues', 254), ('latin hip hop', 256), ('melodic hardcore', 256), ('nu jazz', 257), ('classical', 259), ('dirty south rap', 259), ('disco house', 259), ('noise pop', 259), ('quiet storm', 259), ('deep house', 260), ('art pop', 263), ('new wave', 263), ('blues-rock', 264), ('alternative hip hop', 265), ('lo-fi', 265), ('hip pop', 267), ('progressive metal', 267), ('cantautor', 268), ('nu metal', 268), ('scorecore', 269), ('soul christmas', 270), ('neo soul', 271), ('r&b', 271), ('indie psych-rock', 272), ('vapor soul', 278), ('electronic', 279), ('dance-punk', 280), ('folk', 280), ('new rave', 280), ('preverb', 280), ('neo mellow', 283), ('modern blues', 286), ('post-grunge', 286), ('latin alternative', 289), ('metal', 289), ('shimmer pop', 289), ('dance rock', 290), ('pop punk', 290), ('soft rock', 290), ('soul blues', 290), ('indie poptimism', 291), ('hard rock', 299), ('emo', 300), ('stomp and holler', 301), ('christmas', 305), ('tropical house', 306), ('underground hip hop', 307), ('gangster rap', 311), ('europop', 312), ('metalcore', 313), ('alternative metal', 314), ('album rock', 319), ('house', 319), ('adult standards', 323), ('post-teen pop', 323), ('rap metal', 323), ('mellow gold', 324), ('tropical', 326), ('new wave pop', 328), ('hardcore techno', 329), ('folk rock', 330), ('trap music', 331), ('garage rock', 332), ('rock en espanol', 332), ('urban contemporary', 332), ('funk', 337), ('jazz blues', 341), ('progressive house', 341), ('indie pop', 344), ('deep indie r&b', 347), ('neo-psychedelic', 349), ('alternative rock', 350), ('roots rock', 353), ('southern hip hop', 353), ('synthpop', 353), ('reggae fusion', 359), ('classical performance', 361), ('freak folk', 361), ('christian christmas', 364), ('classic rock', 368), ('edm', 368), ('pop rock', 368), ('chamber pop', 369), ('art rock', 372), ('country christmas', 374), ('indietronica', 375), ('electro house', 379), ('pop christmas', 386), ('hip hop', 388), ('pop rap', 400), ('indie rock', 401), ('folk-pop', 406), ('singer-songwriter', 410), ('indie folk', 412), ('latin rock', 412), ('classical christmas', 413), ('latin', 415), ('indie r&b', 419), ('folk christmas', 429), ('rap', 451), ('jazz christmas', 457), ('rock', 458), ('modern rock', 463), ('pop', 530), ('dance pop', 533)]\n"
     ]
    }
   ],
   "source": [
    "#Set of all genres with their frequencies\n",
    "import operator\n",
    "sorted_freq = sorted(genres_frequency.items(), key=operator.itemgetter(1))\n",
    "print(sorted_freq)"
   ]
  },
  {
   "cell_type": "code",
   "execution_count": 74,
   "metadata": {},
   "outputs": [],
   "source": [
    "#reduce number of categories by combining them into groups\n",
    "categories_names = [\"pop\", \"rock\", \"hip hop\", \"rap\", \"soul\", \"christmas\", \"jazz\", \"opera\", \"electro\",\n",
    "                    \"techno\", \"metal\", \"country\", \"reggae\", \"blues\", \"classical\", \"punk\", \"folk\", \"disco\",\n",
    "                   \"funk\", \"r&b\", \"house\", \"indie\", \"latin\", \"christian\", \"hardcore\", \"dance\", \"trance\", \n",
    "                   \"bass\", \"contemporary\", \"dubstep\", \"psych\", \"alternative\", \"electro\", \"new age\", \"chill\",\n",
    "                   \"swing\", \"ragga\", \"death\"]\n",
    "categories_dict = {}\n",
    "not_classified = [cat for cat in sorted_freq]\n",
    "\n",
    "for n in categories_names:\n",
    "    categories_dict[n] = []"
   ]
  },
  {
   "cell_type": "code",
   "execution_count": 75,
   "metadata": {},
   "outputs": [],
   "source": [
    "for category in categories_names:\n",
    "    for genre in sorted_freq:\n",
    "        if category in genre[0]:\n",
    "            categories_dict[category].append(genre[0])\n",
    "            if genre in not_classified:\n",
    "                not_classified.remove(genre)\n",
    "    "
   ]
  },
  {
   "cell_type": "code",
   "execution_count": 76,
   "metadata": {},
   "outputs": [
    {
     "name": "stdout",
     "output_type": "stream",
     "text": [
      "612\n",
      "[('azeri traditional', 1), ('hindustani instrumental', 1), ('keroncong', 1), ('recorder', 1), ('sitar', 1), ('spanish comedy', 1), ('sung poetry', 1), ('vogue', 1), ('cumbia salvadorena', 2), ('lo-fi beats', 2), ('streektaal', 2), ('bongo flava', 3), ('islamic recitation', 3), ('kayokyoku', 4), ('sleep', 6), ('cornetas y tambores', 7), ('football', 8), ('villancicos', 10), ('enka', 11), ('fussball', 11), ('orquesta tropical', 11), ('tanzlmusi', 12), ('workout', 12), ('world meditation', 12), ('entehno', 14), ('mantra', 14), ('laiko', 16), ('prank', 17), ('punta', 17), ('rebetiko', 17), ('tribute', 17), ('halloween', 18), ('deep norteno', 19), ('nepali', 19), ('byzantine', 20), ('musica per bambini', 20), ('anime score', 21), ('kuduro', 22), ('deep filthstep', 23), ('tibetan', 24), ('beats', 26), ('college marching band', 26), ('environmental', 26), ('liturgical', 26), ('panpipe', 26), ('spoken word', 26), ('capoeira', 27), ('chinese minyao', 27), ('nasheed', 27), ('steelpan', 27), ('tone', 27), ('ballet class', 28), ('jug band', 28), ('luk thung', 29), ('romantico', 30), ('sinhala', 30), ('modern downshift', 31), ('russelater', 32), ('bemani', 33), ('brazilian ccm', 33), ('chalga', 33), ('orquesta tipica', 35), ('ceilidh', 36), ('maghreb', 36), ('stomp and flutter', 36), ('deep flow', 38), ('neo-singer-songwriter', 38), ('drama', 39), ('e6fi', 39), ('muziek voor kinderen', 40), ('zim', 40), ('african percussion', 41), ('gnawa', 41), ('nursery', 41), ('vietnamese bolero', 41), ('vintage swoon', 41), ('go-go', 42), ('manele', 42), ('remix', 42), ('coupe decale', 43), ('guitar case', 43), ('italo beats', 43), ('viol', 43), ('skiffle', 44), ('mallet', 45), ('new jack smooth', 45), ('breaks', 46), ('downtempo fusion', 46), ('ghazal', 46), ('hiplife', 46), ('japanese traditional', 46), ('mizrahi', 46), ('musica nativista', 46), ('polyphony', 46), ('song poem', 46), ('hatecore', 47), ('klapa', 47), ('military band', 47), ('monastic', 47), ('ukulele', 47), ('african gospel', 48), ('beach music', 48), ('marching band', 48), ('barbershop', 49), ('gamelan', 49), ('motivation', 49), ('thai idol', 49), ('zouglou', 49), ('manila sound', 50), ('serialism', 50), ('girl group', 51), ('persian traditional', 51), ('polka', 52), ('solipsynthm', 52), ('sunset lounge', 52), ('ye ye', 52), ('yoik', 52), ('british brass band', 53), ('flick hop', 53), ('qawwali', 53), ('shanty', 53), ('deep soundtrack', 54), ('ecuadoria', 54), ('oratory', 54), ('porro', 54), ('skweee', 54), ('slow game', 54), ('carnatic', 55), ('japanoise', 55), ('mexican traditional', 55), ('pirate', 55), ('vintage western', 55), ('wind ensemble', 55), ('deep downtempo fusion', 56), ('ghoststep', 56), ('musica para ninos', 56), ('musiikkia lapsille', 56), ('blaskapelle', 57), ('calypso', 57), ('chinese traditional', 57), ('uk drill', 57), ('bounce', 58), ('lute', 58), ('throat singing', 58), ('benga', 59), ('deep full on', 59), ('deep rai', 59), ('oshare kei', 59), ('ghettotech', 60), ('melbourne bounce', 60), ('neue deutsche welle', 60), ('highlife', 61), ('kindermusik', 61), ('disney', 62), ('neo honky tonk', 62), ('rosary', 62), ('bangla', 63), ('j-idol', 63), ('theme', 63), ('usbm', 63), ('cumbia sonidera', 65), ('fake', 65), ('saxophone', 65), ('brass band', 66), ('french movie tunes', 66), ('necrogrind', 66), ('chamame', 67), ('screamocore', 67), ('brass ensemble', 68), ('chinese experimental', 68), ('louvor', 68), ('musique pour enfants', 68), ('nintendocore', 68), ('shibuya-kei', 68), ('tekno', 68), ('zillertal', 68), ('deep orgcore', 69), ('doujin', 69), ('minimal', 69), ('norwegian gospel', 69), ('swedish prog', 69), ('christelijk', 70), ('deep cumbia sonidera', 70), ('neo-pagan', 70), ('talent show', 70), ('visual kei', 70), ('german show tunes', 71), ('makina', 71), ('samba-enredo', 71), ('chamber choir', 72), ('deep freestyle', 72), ('ethereal gothic', 72), ('k-hop', 72), ('outsider', 72), ('azonto', 73), ('demoscene', 73), ('footwork', 73), ('hard glam', 73), ('makossa', 73), ('microtonal', 73), ('semba', 73), ('stomp and whittle', 73), ('vintage italian soundtrack', 73), ('wrestling', 73), ('cubaton', 74), ('mexican son', 74), ('rhythm and boogie', 74), ('bmore', 75), ('c64', 75), ('college a cappella', 75), ('didgeridoo', 75), ('mashup', 75), ('modern uplift', 75), ('organic ambient', 75), ('tico', 75), ('gothic doom', 76), ('neurostep', 76), ('belorush', 77), ('jumpstyle', 77), ('pipe band', 77), ('viola', 77), ('vocal harmony group', 77), ('accordion', 79), ('drill', 79), ('judaica', 79), ('accordeon', 80), ('danseband', 80), ('deep breakcore', 80), ('gothic americana', 80), ('idol', 80), ('mod revival', 81), ('sega', 81), ('vocaloid', 81), ('world worship', 81), ('ballroom', 82), ('boogie-woogie', 82), ('deep regional mexican', 82), ('magyar', 83), ('nerdcore', 83), ('broken beat', 84), ('cajun', 84), ('cumbia villera', 85), ('darkstep', 85), ('doomcore', 85), ('ragtime', 85), ('skinhead oi', 85), ('soukous', 85), ('string band', 85), ('kompa', 86), ('morna', 86), ('terrorcore', 86), ('abstractro', 87), ('harpsichord', 87), ('mbalax', 87), ('russiavision', 87), ('strut', 87), ('vintage schlager', 87), ('afrobeats', 88), ('barnemusikk', 88), ('boy band', 88), ('commons', 88), ('deep adult standards', 88), ('native american', 88), ('speedcore', 88), ('ambient fusion', 89), ('deep sunset lounge', 89), ('glitch beats', 89), ('medieval', 89), ('new beat', 89), ('vegan straight edge', 89), ('british invasion', 90), ('deep liquid', 90), ('duranguense', 90), ('spanish invasion', 90), ('aussietronica', 91), ('classify', 91), ('lo star', 91), ('new tribe', 91), ('timba', 91), ('tzadik', 91), ('light music', 92), ('nu-cumbia', 92), ('scratch', 92), ('classic eurovision', 93), ('deep darkpsy', 93), ('german ccm', 93), ('horrorcore', 93), ('modern performance', 93), ('relaxative', 93), ('black sludge', 94), ('clarinet', 94), ('deep new wave', 94), ('musique concrete', 94), ('riot grrrl', 94), ('beatdown', 95), ('dixieland', 95), ('galego', 95), ('j-ambient', 95), ('karneval', 95), ('klezmer', 95), ('merengue urbano', 95), ('a cappella', 96), ('barnmusik', 96), ('harp', 96), ('abstract', 97), ('breakcore', 97), ('euroska', 97), ('fallen angel', 97), ('german oi', 98), ('zeuhl', 98), ('brazilian composition', 99), ('dangdut', 99), ('deep surf music', 99), ('gamecore', 99), ('hoerspiel', 99), ('kwaito', 99), ('mariachi', 99), ('schranz', 99), ('acousmatic', 100), ('canzone napoletana', 100), ('glitch', 100), ('j-core', 100), ('deep motown', 101), ('downtempo', 101), ('groove room', 101), ('vintage chanson', 101), ('noise', 102), ('rio de la plata', 102), ('southern gospel', 102), ('spytrack', 102), ('zolo', 102), ('abstract beats', 103), ('crossover prog', 103), ('lds', 103), ('ska revival', 103), ('world fusion', 103), ('deep ambient', 104), ('deep ccm', 104), ('reading', 104), ('balkan brass', 105), ('exotica', 105), ('jig and reel', 105), ('lowercase', 105), ('concert band', 106), ('laboratorio', 106), ('lithumania', 106), ('tin pan alley', 107), ('deep comedy', 108), ('nu skool breaks', 108), ('power noise', 108), ('zydeco', 108), ('funeral doom', 109), ('kirtan', 109), ('tejano', 109), ('cello', 110), ('corrosion', 110), ('permanent wave', 110), ('vintage gospel', 110), ('blackgaze', 111), ('brega', 111), ('dansband', 111), ('dark cabaret', 112), ('future ambient', 112), ('sertanejo tradicional', 112), ('speed garage', 112), ('wave', 113), ('freestyle', 114), ('hauntology', 115), ('pixie', 115), ('arabesk', 116), ('choro', 116), ('nwothm', 116), ('trova', 116), ('classic afrobeat', 117), ('gbvfi', 117), ('kabarett', 117), ('azontobeats', 118), ('fingerstyle', 118), ('free improvisation', 118), ('redneck', 118), ('ambeat', 119), ('anime', 119), ('chiptune', 119), ('glitch hop', 119), ('poetry', 119), ('rai', 119), ('iskelma', 120), ('romantic era', 120), ('meditation', 121), ('ethereal wave', 122), ('zouk riddim', 122), ('kizomba', 123), ('traditional ska', 123), ('carnaval', 124), ('eurovision', 124), ('dark ambient', 126), ('focus', 126), ('black thrash', 127), ('liedermacher', 127), ('surf music', 127), ('tango', 127), ('brazilian gospel', 129), ('dansktop', 129), ('martial industrial', 129), ('string quartet', 129), ('uk garage', 129), ('violin', 129), ('afrikaans', 130), ('bhangra', 130), ('epicore', 130), ('freakbeat', 130), ('hawaiian', 130), ('future garage', 131), ('zouk', 131), ('breakbeat', 132), ('deep talent show', 132), ('riddim', 132), ('lift kit', 133), ('afrobeat', 134), ('c86', 134), ('grunge', 134), ('power violence', 134), ('balearic', 135), ('flamenco guitar', 135), ('uk dub', 135), ('axe', 136), ('drift', 136), ('minimal wave', 136), ('old-time', 137), ('spanish new wave', 137), ('vintage tango', 137), ('chanson quebecois', 138), ('classic schlager', 138), ('filthstep', 138), ('soca', 138), ('andean', 139), (\"children's music\", 139), ('neo-progressive', 139), ('avant-garde', 140), ('ambient idm', 141), ('melancholia', 141), ('neue deutsche harte', 141), ('punjabi', 141), ('canterbury scene', 142), ('hyphy', 142), ('no wave', 142), ('nu age', 142), ('vaporwave', 142), ('gospel', 143), ('movie tunes', 143), ('substep', 143), ('abstract idm', 144), ('comedy', 144), ('jam band', 144), ('salsa international', 144), ('cante flamenco', 145), ('hardstyle', 146), ('praise', 146), ('jump up', 147), ('vallenato', 147), ('bachata', 148), ('boogaloo', 148), ('choral', 149), ('full on', 149), ('rumba', 149), ('sertanejo', 149), ('oi', 150), ('wonky', 150), ('classic soundtrack', 151), ('big beat', 152), ('grindcore', 152), ('dark wave', 153), ('nwobhm', 153), ('filmi', 154), ('minimal dub', 154), ('schlager', 154), ('sertanejo universitario', 154), ('velha guarda', 154), ('otacore', 155), ('hands up', 156), ('ninja', 156), ('bluegrass', 157), ('aggrotech', 158), ('quebecois', 158), ('thrash core', 158), ('complextro', 159), ('fado', 159), ('gabba', 159), ('goregrind', 159), ('shoegaze', 159), ('dreamo', 160), ('flamenco', 160), ('orchestral', 160), ('volksmusik', 161), ('world', 161), ('deep new americana', 162), ('easy listening', 162), ('new weird america', 162), ('mambo', 163), ('merseybeat', 163), ('tracestep', 163), ('doo-wop', 164), ('library music', 164), ('ska', 164), ('warm drone', 164), ('baroque ensemble', 167), ('cuban rumba', 167), ('djent', 167), ('orgcore', 167), ('straight edge', 167), ('vapor twitch', 167), ('banda', 168), ('ebm', 168), ('mathcore', 168), ('sound art', 168), ('zapstep', 168), ('cowboy western', 169), ('early music ensemble', 169), ('fluxwork', 169), ('mandible', 169), ('anthem worship', 170), ('renaissance', 170), ('dub', 172), ('grave wave', 172), ('progressive bluegrass', 172), ('broadway', 173), ('bolero', 174), ('industrial', 174), ('lo beats', 174), ('slow core', 174), ('catstep', 175), ('ambient', 176), ('nueva cancion', 176), ('moombahton', 177), ('sky room', 177), ('levenslied', 178), ('salsa', 178), ('anthem emo', 179), ('jungle', 179), ('drone', 181), ('healing', 181), ('show tunes', 181), ('celtic', 182), ('experimental', 182), ('merengue', 182), ('norteno', 183), ('nashville sound', 185), ('soundtrack', 185), ('madchester', 186), ('pagode', 187), ('bossa nova', 188), ('hard bop', 188), ('deep hardstyle', 190), ('big band', 191), ('crossover thrash', 192), ('desi', 193), ('early music', 194), ('mpb', 194), ('turntablism', 194), ('ccm', 195), ('stride', 195), ('bebop', 197), ('crunk', 197), ('chanson', 198), ('hollywood', 198), ('voidgaze', 199), ('fourth world', 201), ('grime', 201), ('ranchera', 201), ('baroque', 204), ('deep chiptune', 204), ('new romantic', 204), ('francoton', 206), ('comic', 208), ('post-screamo', 211), ('motown', 212), ('nu gaze', 212), ('grupera', 213), ('samba', 216), ('compositional ambient', 219), ('regional mexican', 219), ('lilith', 220), ('deep big room', 221), ('opm', 221), ('cabaret', 223), ('trip hop', 224), ('forro', 226), ('worship', 227), ('brostep', 231), ('video game music', 231), ('cumbia', 232), ('screamo', 234), ('escape room', 238), ('big room', 242), ('lounge', 245), ('new americana', 249), ('quiet storm', 259), ('new wave', 263), ('lo-fi', 265), ('cantautor', 268), ('scorecore', 269), ('new rave', 280), ('preverb', 280), ('neo mellow', 283), ('post-grunge', 286), ('emo', 300), ('stomp and holler', 301), ('adult standards', 323), ('mellow gold', 324), ('tropical', 326), ('edm', 368), ('singer-songwriter', 410)]\n"
     ]
    }
   ],
   "source": [
    "print(len(not_classified))\n",
    "print(not_classified)"
   ]
  },
  {
   "cell_type": "code",
   "execution_count": 77,
   "metadata": {},
   "outputs": [],
   "source": [
    "categories_dict[\"kids music\"] = [\"musique pour enfants\", \"kindermusik\", \"disney\", \"musica per bambini\",\n",
    "                                \"muziek voor kinderen\"]\n",
    "categories_dict[\"reggae\"].append(\"ragga\")\n",
    "categories_dict[\"reggae\"].append(\"ragtime\")\n",
    "categories_dict[\"latin\"].append(\"merengue\")\n",
    "categories_dict[\"latin\"].append(\"salsa\")\n",
    "categories_dict[\"latin\"].append(\"rumba\")\n",
    "categories_dict[\"latin\"].append(\"kizomba\")\n",
    "categories_dict[\"latin\"].append(\"flamenco\")\n",
    "categories_dict[\"latin\"].append(\"tropical\")\n",
    "categories_dict[\"latin\"].append(\"cuban rumba\")\n",
    "categories_dict[\"latin\"].append(\"salsa international\")\n",
    "categories_dict[\"latin\"].append(\"tropical\")\n",
    "categories_dict[\"latin\"].append(\"cuduro\")\n",
    "categories_dict[\"latin\"].append(\"hawaiian\")\n",
    "categories_dict[\"latin\"].append(\"beach music\")\n",
    "categories_dict[\"electro\"].append(\"edm\")\n",
    "\n",
    "\n",
    "for g in not_classified:\n",
    "    if \"hop\" in g[0]:\n",
    "        categories_dict[\"hip hop\"].append(g[0])\n",
    "\n"
   ]
  },
  {
   "cell_type": "code",
   "execution_count": 78,
   "metadata": {
    "collapsed": true
   },
   "outputs": [
    {
     "name": "stdout",
     "output_type": "stream",
     "text": [
      "pop 178\n",
      "rock 150\n",
      "hip hop 70\n",
      "rap 31\n",
      "soul 19\n",
      "christmas 16\n",
      "jazz 58\n",
      "opera 3\n",
      "electro 55\n",
      "techno 15\n",
      "metal 76\n",
      "country 20\n",
      "reggae 20\n",
      "blues 30\n",
      "classical 22\n",
      "punk 53\n",
      "folk 51\n",
      "disco 12\n",
      "funk 22\n",
      "r&b 7\n",
      "house 45\n",
      "indie 96\n",
      "latin 31\n",
      "christian 15\n",
      "hardcore 20\n",
      "dance 20\n",
      "trance 16\n",
      "bass 12\n",
      "contemporary 8\n",
      "dubstep 6\n",
      "psych 19\n",
      "alternative 28\n",
      "new age 2\n",
      "chill 12\n",
      "swing 6\n",
      "ragga 2\n",
      "death 15\n",
      "kids music 5\n",
      "1266\n"
     ]
    }
   ],
   "source": [
    "total = 0\n",
    "for genre, subgenre in categories_dict.items():\n",
    "    total += len(subgenre)\n",
    "    print(genre, len(subgenre))\n",
    "\n",
    "print(total)"
   ]
  },
  {
   "cell_type": "code",
   "execution_count": 79,
   "metadata": {},
   "outputs": [],
   "source": [
    "#add new column with simplified genres to the df\n",
    "\n",
    "def reduce_genres(genres_list):\n",
    "    reduced_genres = []\n",
    "    try:\n",
    "        for gen in genres_list:\n",
    "            for category, genres in categories_dict.items():\n",
    "                if gen in genres:\n",
    "                    reduced_genres.append(category)\n",
    "        if len(reduced_genres) == 0:\n",
    "            return genres_list\n",
    "        return list(set(reduced_genres))\n",
    "    except:\n",
    "        return genres_list"
   ]
  },
  {
   "cell_type": "code",
   "execution_count": 80,
   "metadata": {},
   "outputs": [],
   "source": [
    "df['reduced_genres'] = df['genres'].apply(reduce_genres)"
   ]
  },
  {
   "cell_type": "markdown",
   "metadata": {},
   "source": [
    "#### Genres - results\n",
    "\n",
    "Before the reduction there were 1634 distinct values of genres. Merging the most similar ones was done by combining classes with same names or using knowledge about music genres. For example categories 'pop rock' and 'pop rap' were added to the 'pop' category and 'salsa', 'merengue' to the category 'latin'. After this operation there are about 600 genres left, which is three times less than the original value.|"
   ]
  },
  {
   "cell_type": "markdown",
   "metadata": {},
   "source": [
    "### Genders\n",
    "In Musicbrainz database there are three values for artist genders - Male, Female, unknown and few values for the type (Person, Group etc.), only for group 'Person' there is a distinction between genders.  \n",
    "\n",
    "Analysis has shown that there are much more Male than Female artists (this trend can be seen on the map ....TODO add link), which has to be taken into account for classification tasks."
   ]
  },
  {
   "cell_type": "code",
   "execution_count": 32,
   "metadata": {},
   "outputs": [],
   "source": [
    "cursormb = mb_artist_collection.find({}, {'type':1, 'gender':1})\n",
    "\n",
    "df_mb = pd.DataFrame(list(cursormb))\n"
   ]
  },
  {
   "cell_type": "markdown",
   "metadata": {},
   "source": [
    "#### Type of artist"
   ]
  },
  {
   "cell_type": "code",
   "execution_count": 36,
   "metadata": {},
   "outputs": [
    {
     "name": "stdout",
     "output_type": "stream",
     "text": [
      "              _id  gender\n",
      "type                     \n",
      "Character    4660    4660\n",
      "Choir        4294    4294\n",
      "Group      312170  312170\n",
      "Orchestra    4511    4511\n",
      "Other        1863    1863\n",
      "Person     685688  685688\n"
     ]
    }
   ],
   "source": [
    "from pandas.plotting import table\n",
    "df_mb = df_mb[df_mb.type != 'unknown']\n",
    "type_freq = df_mb.groupby('type').count()\n",
    "print(type_freq)\n"
   ]
  },
  {
   "cell_type": "markdown",
   "metadata": {},
   "source": [
    "#### Gender of artist"
   ]
  },
  {
   "cell_type": "code",
   "execution_count": 84,
   "metadata": {},
   "outputs": [
    {
     "name": "stdout",
     "output_type": "stream",
     "text": [
      "            _id    type\n",
      "gender                 \n",
      "Female   104242  104242\n",
      "Male     382694  382694\n",
      "Other       541     541\n",
      "unknown  525709  525709\n"
     ]
    }
   ],
   "source": [
    "gender_freq = df_mb.groupby('gender').count()\n",
    "print(gender_freq)"
   ]
  },
  {
   "cell_type": "code",
   "execution_count": 85,
   "metadata": {},
   "outputs": [],
   "source": [
    "#add genders and types to the dataset\n",
    "df_mb = df_mb.rename(columns= {'_id': 'mb_id'})"
   ]
  },
  {
   "cell_type": "code",
   "execution_count": 86,
   "metadata": {},
   "outputs": [
    {
     "data": {
      "text/html": [
       "<div>\n",
       "<style scoped>\n",
       "    .dataframe tbody tr th:only-of-type {\n",
       "        vertical-align: middle;\n",
       "    }\n",
       "\n",
       "    .dataframe tbody tr th {\n",
       "        vertical-align: top;\n",
       "    }\n",
       "\n",
       "    .dataframe thead th {\n",
       "        text-align: right;\n",
       "    }\n",
       "</style>\n",
       "<table border=\"1\" class=\"dataframe\">\n",
       "  <thead>\n",
       "    <tr style=\"text-align: right;\">\n",
       "      <th></th>\n",
       "      <th>_id</th>\n",
       "      <th>followers</th>\n",
       "      <th>genres</th>\n",
       "      <th>mb_id</th>\n",
       "      <th>name</th>\n",
       "      <th>popularity</th>\n",
       "      <th>reduced_genres</th>\n",
       "    </tr>\n",
       "  </thead>\n",
       "  <tbody>\n",
       "    <tr>\n",
       "      <th>0</th>\n",
       "      <td>3XSyTI9ct70ZheMESAv2st</td>\n",
       "      <td>3752.0</td>\n",
       "      <td>[broadway]</td>\n",
       "      <td>290e5513-55d3-426f-a4ba-1ac3ce589107</td>\n",
       "      <td>Zachary Levi</td>\n",
       "      <td>61.0</td>\n",
       "      <td>[broadway]</td>\n",
       "    </tr>\n",
       "    <tr>\n",
       "      <th>1</th>\n",
       "      <td>2jYHSJBXjusgmYdrNeaRmg</td>\n",
       "      <td>1361.0</td>\n",
       "      <td>[jazz guitar, smooth jazz]</td>\n",
       "      <td>09cddf26-fe4a-493e-bb1d-64723892ed8d</td>\n",
       "      <td>Zachary Breaux</td>\n",
       "      <td>29.0</td>\n",
       "      <td>[jazz]</td>\n",
       "    </tr>\n",
       "    <tr>\n",
       "      <th>2</th>\n",
       "      <td>5LmehwqsJa7a4Ya5SaqXpx</td>\n",
       "      <td>1147.0</td>\n",
       "      <td>[doo-wop]</td>\n",
       "      <td>ca3f3ee1-c4a7-4bac-a16a-0b888a396c6b</td>\n",
       "      <td>The Silhouettes</td>\n",
       "      <td>37.0</td>\n",
       "      <td>[doo-wop]</td>\n",
       "    </tr>\n",
       "    <tr>\n",
       "      <th>3</th>\n",
       "      <td>10BFTSAfLauhKVmdby4zac</td>\n",
       "      <td>0.0</td>\n",
       "      <td>[]</td>\n",
       "      <td>3a8ecc10-f888-48c0-9674-5c0ccd1fe93f</td>\n",
       "      <td>Peter &amp; the Silhouettes</td>\n",
       "      <td>0.0</td>\n",
       "      <td>[]</td>\n",
       "    </tr>\n",
       "    <tr>\n",
       "      <th>4</th>\n",
       "      <td>4hwEAtCJZa1LMgbuRpUWJB</td>\n",
       "      <td>4.0</td>\n",
       "      <td>[]</td>\n",
       "      <td>ca3f3ee1-c4a7-4bac-a16a-0b888a396c6b</td>\n",
       "      <td>The Lost Silhouettes</td>\n",
       "      <td>0.0</td>\n",
       "      <td>[]</td>\n",
       "    </tr>\n",
       "  </tbody>\n",
       "</table>\n",
       "</div>"
      ],
      "text/plain": [
       "                      _id  followers                      genres  \\\n",
       "0  3XSyTI9ct70ZheMESAv2st     3752.0                  [broadway]   \n",
       "1  2jYHSJBXjusgmYdrNeaRmg     1361.0  [jazz guitar, smooth jazz]   \n",
       "2  5LmehwqsJa7a4Ya5SaqXpx     1147.0                   [doo-wop]   \n",
       "3  10BFTSAfLauhKVmdby4zac        0.0                          []   \n",
       "4  4hwEAtCJZa1LMgbuRpUWJB        4.0                          []   \n",
       "\n",
       "                                  mb_id                     name  popularity  \\\n",
       "0  290e5513-55d3-426f-a4ba-1ac3ce589107             Zachary Levi        61.0   \n",
       "1  09cddf26-fe4a-493e-bb1d-64723892ed8d           Zachary Breaux        29.0   \n",
       "2  ca3f3ee1-c4a7-4bac-a16a-0b888a396c6b          The Silhouettes        37.0   \n",
       "3  3a8ecc10-f888-48c0-9674-5c0ccd1fe93f  Peter & the Silhouettes         0.0   \n",
       "4  ca3f3ee1-c4a7-4bac-a16a-0b888a396c6b     The Lost Silhouettes         0.0   \n",
       "\n",
       "  reduced_genres  \n",
       "0     [broadway]  \n",
       "1         [jazz]  \n",
       "2      [doo-wop]  \n",
       "3             []  \n",
       "4             []  "
      ]
     },
     "execution_count": 86,
     "metadata": {},
     "output_type": "execute_result"
    }
   ],
   "source": [
    "df.head()"
   ]
  },
  {
   "cell_type": "code",
   "execution_count": 87,
   "metadata": {},
   "outputs": [
    {
     "data": {
      "text/html": [
       "<div>\n",
       "<style scoped>\n",
       "    .dataframe tbody tr th:only-of-type {\n",
       "        vertical-align: middle;\n",
       "    }\n",
       "\n",
       "    .dataframe tbody tr th {\n",
       "        vertical-align: top;\n",
       "    }\n",
       "\n",
       "    .dataframe thead th {\n",
       "        text-align: right;\n",
       "    }\n",
       "</style>\n",
       "<table border=\"1\" class=\"dataframe\">\n",
       "  <thead>\n",
       "    <tr style=\"text-align: right;\">\n",
       "      <th></th>\n",
       "      <th>mb_id</th>\n",
       "      <th>gender</th>\n",
       "      <th>type</th>\n",
       "    </tr>\n",
       "  </thead>\n",
       "  <tbody>\n",
       "    <tr>\n",
       "      <th>1</th>\n",
       "      <td>49add228-eac5-4de8-836c-d75cde7369c3</td>\n",
       "      <td>unknown</td>\n",
       "      <td>Person</td>\n",
       "    </tr>\n",
       "    <tr>\n",
       "      <th>3</th>\n",
       "      <td>ca3f3ee1-c4a7-4bac-a16a-0b888a396c6b</td>\n",
       "      <td>unknown</td>\n",
       "      <td>Group</td>\n",
       "    </tr>\n",
       "    <tr>\n",
       "      <th>6</th>\n",
       "      <td>3e1bd546-d2a7-49cb-b38d-d70904a1d719</td>\n",
       "      <td>Male</td>\n",
       "      <td>Person</td>\n",
       "    </tr>\n",
       "    <tr>\n",
       "      <th>12</th>\n",
       "      <td>4c4b7c6f-9285-4d6a-bc10-e5c9e08045f8</td>\n",
       "      <td>unknown</td>\n",
       "      <td>Group</td>\n",
       "    </tr>\n",
       "    <tr>\n",
       "      <th>13</th>\n",
       "      <td>055f435f-dba6-4156-9050-6ac41113e45f</td>\n",
       "      <td>unknown</td>\n",
       "      <td>Group</td>\n",
       "    </tr>\n",
       "  </tbody>\n",
       "</table>\n",
       "</div>"
      ],
      "text/plain": [
       "                                   mb_id   gender    type\n",
       "1   49add228-eac5-4de8-836c-d75cde7369c3  unknown  Person\n",
       "3   ca3f3ee1-c4a7-4bac-a16a-0b888a396c6b  unknown   Group\n",
       "6   3e1bd546-d2a7-49cb-b38d-d70904a1d719     Male  Person\n",
       "12  4c4b7c6f-9285-4d6a-bc10-e5c9e08045f8  unknown   Group\n",
       "13  055f435f-dba6-4156-9050-6ac41113e45f  unknown   Group"
      ]
     },
     "execution_count": 87,
     "metadata": {},
     "output_type": "execute_result"
    }
   ],
   "source": [
    "df_mb.head()"
   ]
  },
  {
   "cell_type": "markdown",
   "metadata": {},
   "source": [
    "### Date of the beginning of the career\n",
    "\n",
    "For one of classification tasks the date of the beginning of the career is needed. In musicbrainz database this value is different for groups, where it means the foundation year (usually first album) and for single artist where it is their birthday."
   ]
  },
  {
   "cell_type": "code",
   "execution_count": 39,
   "metadata": {},
   "outputs": [],
   "source": [
    "cursormb_year = mb_artist_collection.find({}, {'begin_date_year':1})\n",
    "df_dates = pd.DataFrame(list(cursormb_year))\n",
    "df_dates = df_dates.rename(columns= {'_id': 'mb_id'})"
   ]
  },
  {
   "cell_type": "code",
   "execution_count": 40,
   "metadata": {},
   "outputs": [
    {
     "data": {
      "text/html": [
       "<div>\n",
       "<style scoped>\n",
       "    .dataframe tbody tr th:only-of-type {\n",
       "        vertical-align: middle;\n",
       "    }\n",
       "\n",
       "    .dataframe tbody tr th {\n",
       "        vertical-align: top;\n",
       "    }\n",
       "\n",
       "    .dataframe thead th {\n",
       "        text-align: right;\n",
       "    }\n",
       "</style>\n",
       "<table border=\"1\" class=\"dataframe\">\n",
       "  <thead>\n",
       "    <tr style=\"text-align: right;\">\n",
       "      <th></th>\n",
       "      <th>mb_id</th>\n",
       "      <th>begin_date_year</th>\n",
       "    </tr>\n",
       "  </thead>\n",
       "  <tbody>\n",
       "    <tr>\n",
       "      <th>0</th>\n",
       "      <td>8972b1c1-6482-4750-b51f-596d2edea8b1</td>\n",
       "      <td>NaN</td>\n",
       "    </tr>\n",
       "    <tr>\n",
       "      <th>1</th>\n",
       "      <td>49add228-eac5-4de8-836c-d75cde7369c3</td>\n",
       "      <td>NaN</td>\n",
       "    </tr>\n",
       "    <tr>\n",
       "      <th>2</th>\n",
       "      <td>c112a400-af49-4665-8bba-741531d962a1</td>\n",
       "      <td>NaN</td>\n",
       "    </tr>\n",
       "    <tr>\n",
       "      <th>3</th>\n",
       "      <td>ca3f3ee1-c4a7-4bac-a16a-0b888a396c6b</td>\n",
       "      <td>1956.0</td>\n",
       "    </tr>\n",
       "    <tr>\n",
       "      <th>4</th>\n",
       "      <td>7b4a548e-a01a-49b7-82e7-b49efeb9732c</td>\n",
       "      <td>NaN</td>\n",
       "    </tr>\n",
       "  </tbody>\n",
       "</table>\n",
       "</div>"
      ],
      "text/plain": [
       "                                  mb_id  begin_date_year\n",
       "0  8972b1c1-6482-4750-b51f-596d2edea8b1              NaN\n",
       "1  49add228-eac5-4de8-836c-d75cde7369c3              NaN\n",
       "2  c112a400-af49-4665-8bba-741531d962a1              NaN\n",
       "3  ca3f3ee1-c4a7-4bac-a16a-0b888a396c6b           1956.0\n",
       "4  7b4a548e-a01a-49b7-82e7-b49efeb9732c              NaN"
      ]
     },
     "execution_count": 40,
     "metadata": {},
     "output_type": "execute_result"
    }
   ],
   "source": [
    "df_dates.head()"
   ]
  },
  {
   "cell_type": "code",
   "execution_count": 41,
   "metadata": {},
   "outputs": [
    {
     "data": {
      "text/plain": [
       "<matplotlib.axes._subplots.AxesSubplot at 0x7f8fbbdb19e8>"
      ]
     },
     "execution_count": 41,
     "metadata": {},
     "output_type": "execute_result"
    },
    {
     "data": {
      "image/png": "[encoded data removed]",
      "text/plain": [
       "<matplotlib.figure.Figure at 0x7f8fbbdb50b8>"
      ]
     },
     "metadata": {},
     "output_type": "display_data"
    }
   ],
   "source": [
    "df_dates[(df_dates['begin_date_year']<2020) & (df_dates['begin_date_year']> 1800)].plot.hist(y='begin_date_year', bins=220, figsize=(15,8))"
   ]
  },
  {
   "cell_type": "code",
   "execution_count": 43,
   "metadata": {},
   "outputs": [
    {
     "ename": "NameError",
     "evalue": "name 'df_spotify_mb' is not defined",
     "output_type": "error",
     "traceback": [
      "\u001b[0;31m---------------------------------------------------------------------------\u001b[0m",
      "\u001b[0;31mNameError\u001b[0m                                 Traceback (most recent call last)",
      "\u001b[0;32m<ipython-input-43-92978b217a03>\u001b[0m in \u001b[0;36m<module>\u001b[0;34m()\u001b[0m\n\u001b[1;32m      1\u001b[0m \u001b[0;31m#plot histogram for groups\u001b[0m\u001b[0;34m\u001b[0m\u001b[0;34m\u001b[0m\u001b[0m\n\u001b[0;32m----> 2\u001b[0;31m \u001b[0mdf_spotify_mb\u001b[0m\u001b[0;34m[\u001b[0m\u001b[0;34m(\u001b[0m\u001b[0mdf_spotify_mb\u001b[0m\u001b[0;34m[\u001b[0m\u001b[0;34m'type'\u001b[0m\u001b[0;34m]\u001b[0m\u001b[0;34m==\u001b[0m\u001b[0;34m'Group'\u001b[0m\u001b[0;34m)\u001b[0m \u001b[0;34m&\u001b[0m \u001b[0;34m(\u001b[0m\u001b[0mdf_spotify_mb\u001b[0m\u001b[0;34m[\u001b[0m\u001b[0;34m'begin_date_year'\u001b[0m\u001b[0;34m]\u001b[0m\u001b[0;34m<\u001b[0m\u001b[0;36m2020\u001b[0m\u001b[0;34m)\u001b[0m \u001b[0;34m&\u001b[0m \u001b[0;34m(\u001b[0m\u001b[0mdf_spotify_mb\u001b[0m\u001b[0;34m[\u001b[0m\u001b[0;34m'begin_date_year'\u001b[0m\u001b[0;34m]\u001b[0m\u001b[0;34m>\u001b[0m \u001b[0;36m1900\u001b[0m\u001b[0;34m)\u001b[0m\u001b[0;34m]\u001b[0m\u001b[0;34m.\u001b[0m\u001b[0mplot\u001b[0m\u001b[0;34m.\u001b[0m\u001b[0mhist\u001b[0m\u001b[0;34m(\u001b[0m\u001b[0my\u001b[0m\u001b[0;34m=\u001b[0m\u001b[0;34m'begin_date_year'\u001b[0m\u001b[0;34m,\u001b[0m \u001b[0mbins\u001b[0m\u001b[0;34m=\u001b[0m\u001b[0;36m117\u001b[0m\u001b[0;34m,\u001b[0m \u001b[0mfigsize\u001b[0m\u001b[0;34m=\u001b[0m\u001b[0;34m(\u001b[0m\u001b[0;36m15\u001b[0m\u001b[0;34m,\u001b[0m\u001b[0;36m8\u001b[0m\u001b[0;34m)\u001b[0m\u001b[0;34m)\u001b[0m\u001b[0;34m\u001b[0m\u001b[0m\n\u001b[0m\u001b[1;32m      3\u001b[0m \u001b[0mplt\u001b[0m\u001b[0;34m.\u001b[0m\u001b[0mxlabel\u001b[0m\u001b[0;34m(\u001b[0m\u001b[0;34m\"Foundation year\"\u001b[0m\u001b[0;34m)\u001b[0m\u001b[0;34m\u001b[0m\u001b[0m\n\u001b[1;32m      4\u001b[0m \u001b[0mplt\u001b[0m\u001b[0;34m.\u001b[0m\u001b[0msavefig\u001b[0m\u001b[0;34m(\u001b[0m\u001b[0;34m\"figures/groups_foundation.png\"\u001b[0m\u001b[0;34m)\u001b[0m\u001b[0;34m\u001b[0m\u001b[0m\n",
      "\u001b[0;31mNameError\u001b[0m: name 'df_spotify_mb' is not defined"
     ]
    }
   ],
   "source": [
    "#plot histogram for groups\n",
    "df_spotify_mb[(df_spotify_mb['type']=='Group') & (df_spotify_mb['begin_date_year']<2020) & (df_spotify_mb['begin_date_year']> 1900)].plot.hist(y='begin_date_year', bins=117, figsize=(15,8))\n",
    "plt.xlabel(\"Foundation year\")\n",
    "plt.savefig(\"figures/groups_foundation.png\")"
   ]
  },
  {
   "cell_type": "code",
   "execution_count": null,
   "metadata": {},
   "outputs": [],
   "source": [
    "#plot histogram for single artists\n",
    "df_spotify_mb[(df_spotify_mb['type']=='Person') & (df_spotify_mb['begin_date_year']<2020) & (df_spotify_mb['begin_date_year']> 1900)].plot.hist(y='begin_date_year', bins=118, figsize=(15,8))"
   ]
  },
  {
   "cell_type": "markdown",
   "metadata": {},
   "source": [
    "### Merge genders and begin_years with the main dataset"
   ]
  },
  {
   "cell_type": "code",
   "execution_count": 100,
   "metadata": {},
   "outputs": [],
   "source": [
    "df_spotify_mb = df.merge(df_mb, left_on=\"mb_id\", right_on=\"mb_id\", how=\"left\")"
   ]
  },
  {
   "cell_type": "code",
   "execution_count": 101,
   "metadata": {},
   "outputs": [],
   "source": [
    "df_spotify_mb = df_spotify_mb.merge(df_dates, how='left', left_on='mb_id', right_on='mb_id')"
   ]
  },
  {
   "cell_type": "code",
   "execution_count": null,
   "metadata": {},
   "outputs": [],
   "source": [
    "df_spotify_mb['age'] = 2018-df_spotify_mb['begin_date_year']"
   ]
  },
  {
   "cell_type": "markdown",
   "metadata": {},
   "source": [
    "### Save created datased to csv file\n",
    " \n",
    "Since some changes were made in the dataset that will be useful for classification task, it has to be saved for later use."
   ]
  },
  {
   "cell_type": "code",
   "execution_count": 113,
   "metadata": {},
   "outputs": [],
   "source": [
    "df_spotify_mb.to_csv(\"dataset.csv\")"
   ]
  }
 ],
 "metadata": {
  "kernelspec": {
   "display_name": "Python 3",
   "language": "python",
   "name": "python3"
  },
  "language_info": {
   "codemirror_mode": {
    "name": "ipython",
    "version": 3
   },
   "file_extension": ".py",
   "mimetype": "text/x-python",
   "name": "python",
   "nbconvert_exporter": "python",
   "pygments_lexer": "ipython3",
   "version": "3.6.4"
  },
  "notify_time": "10",
  "toc": {
   "base_numbering": 1,
   "nav_menu": {},
   "number_sections": true,
   "sideBar": true,
   "skip_h1_title": true,
   "title_cell": "Table of Contents",
   "title_sidebar": "Contents",
   "toc_cell": false,
   "toc_position": {},
   "toc_section_display": true,
   "toc_window_display": true
  }
 },
 "nbformat": 4,
 "nbformat_minor": 2
}
