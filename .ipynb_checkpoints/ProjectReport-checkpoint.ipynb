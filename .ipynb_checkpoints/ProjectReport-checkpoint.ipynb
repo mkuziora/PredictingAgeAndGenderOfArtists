{
 "cells": [
  {
   "cell_type": "markdown",
   "metadata": {
    "toc": true
   },
   "source": [
    "<h1>Table of Contents<span class=\"tocSkip\"></span></h1>\n",
    "<div class=\"toc\"><ul class=\"toc-item\"><li><span><a href=\"#Introduction\" data-toc-modified-id=\"Introduction-1\"><span class=\"toc-item-num\">1&nbsp;&nbsp;</span>Introduction</a></span><ul class=\"toc-item\"><li><span><a href=\"#Motivation\" data-toc-modified-id=\"Motivation-1.1\"><span class=\"toc-item-num\">1.1&nbsp;&nbsp;</span>Motivation</a></span></li><li><span><a href=\"#Workflow\" data-toc-modified-id=\"Workflow-1.2\"><span class=\"toc-item-num\">1.2&nbsp;&nbsp;</span>Workflow</a></span></li></ul></li><li><span><a href=\"#Data-gathering-and-dataset-preparation\" data-toc-modified-id=\"Data-gathering-and-dataset-preparation-2\"><span class=\"toc-item-num\">2&nbsp;&nbsp;</span>Data gathering and dataset preparation</a></span><ul class=\"toc-item\"><li><span><a href=\"#Data-downloading\" data-toc-modified-id=\"Data-downloading-2.1\"><span class=\"toc-item-num\">2.1&nbsp;&nbsp;</span>Data downloading</a></span></li><li><span><a href=\"#Dataset-preparation\" data-toc-modified-id=\"Dataset-preparation-2.2\"><span class=\"toc-item-num\">2.2&nbsp;&nbsp;</span>Dataset preparation</a></span><ul class=\"toc-item\"><li><span><a href=\"#Dataset-merging\" data-toc-modified-id=\"Dataset-merging-2.2.1\"><span class=\"toc-item-num\">2.2.1&nbsp;&nbsp;</span>Dataset merging</a></span></li><li><span><a href=\"#Songs-features\" data-toc-modified-id=\"Songs-features-2.2.2\"><span class=\"toc-item-num\">2.2.2&nbsp;&nbsp;</span>Songs features</a></span></li><li><span><a href=\"#Lyrics\" data-toc-modified-id=\"Lyrics-2.2.3\"><span class=\"toc-item-num\">2.2.3&nbsp;&nbsp;</span>Lyrics</a></span></li><li><span><a href=\"#Summary\" data-toc-modified-id=\"Summary-2.2.4\"><span class=\"toc-item-num\">2.2.4&nbsp;&nbsp;</span>Summary</a></span></li></ul></li></ul></li><li><span><a href=\"#Data-analysis\" data-toc-modified-id=\"Data-analysis-3\"><span class=\"toc-item-num\">3&nbsp;&nbsp;</span>Data analysis</a></span><ul class=\"toc-item\"><li><span><a href=\"#Popularity\" data-toc-modified-id=\"Popularity-3.1\"><span class=\"toc-item-num\">3.1&nbsp;&nbsp;</span>Popularity</a></span></li><li><span><a href=\"#Followers\" data-toc-modified-id=\"Followers-3.2\"><span class=\"toc-item-num\">3.2&nbsp;&nbsp;</span>Followers</a></span></li><li><span><a href=\"#Music-genres\" data-toc-modified-id=\"Music-genres-3.3\"><span class=\"toc-item-num\">3.3&nbsp;&nbsp;</span>Music genres</a></span></li><li><span><a href=\"#Genders\" data-toc-modified-id=\"Genders-3.4\"><span class=\"toc-item-num\">3.4&nbsp;&nbsp;</span>Genders</a></span></li></ul></li><li><span><a href=\"#Classification\" data-toc-modified-id=\"Classification-4\"><span class=\"toc-item-num\">4&nbsp;&nbsp;</span>Classification</a></span><ul class=\"toc-item\"><li><span><a href=\"#Gender-classification\" data-toc-modified-id=\"Gender-classification-4.1\"><span class=\"toc-item-num\">4.1&nbsp;&nbsp;</span>Gender classification</a></span><ul class=\"toc-item\"><li><span><a href=\"#Using-only-music-features\" data-toc-modified-id=\"Using-only-music-features-4.1.1\"><span class=\"toc-item-num\">4.1.1&nbsp;&nbsp;</span>Using only music features</a></span></li><li><span><a href=\"#Using-music-features-and-full-lyrics\" data-toc-modified-id=\"Using-music-features-and-full-lyrics-4.1.2\"><span class=\"toc-item-num\">4.1.2&nbsp;&nbsp;</span>Using music features and full lyrics</a></span></li><li><span><a href=\"#Using-music-features-and-reduced-lyrics\" data-toc-modified-id=\"Using-music-features-and-reduced-lyrics-4.1.3\"><span class=\"toc-item-num\">4.1.3&nbsp;&nbsp;</span>Using music features and reduced lyrics</a></span></li></ul></li><li><span><a href=\"#Age-prediction\" data-toc-modified-id=\"Age-prediction-4.2\"><span class=\"toc-item-num\">4.2&nbsp;&nbsp;</span>Age prediction</a></span></li><li><span><a href=\"#Career-length-prediction\" data-toc-modified-id=\"Career-length-prediction-4.3\"><span class=\"toc-item-num\">4.3&nbsp;&nbsp;</span>Career length prediction</a></span></li></ul></li><li><span><a href=\"#Summary\" data-toc-modified-id=\"Summary-5\"><span class=\"toc-item-num\">5&nbsp;&nbsp;</span>Summary</a></span></li><li><span><a href=\"#References\" data-toc-modified-id=\"References-6\"><span class=\"toc-item-num\">6&nbsp;&nbsp;</span>References</a></span></li></ul></div>"
   ]
  },
  {
   "cell_type": "markdown",
   "metadata": {},
   "source": [
    "# Artist's gender and age prediction based on music features and lyrics"
   ]
  },
  {
   "cell_type": "markdown",
   "metadata": {},
   "source": [
    "## Introduction"
   ]
  },
  {
   "cell_type": "markdown",
   "metadata": {},
   "source": [
    "The main goal of this project is to figure out if it is possible to predict age and gender of the music artists based on their songs' characteristics and lyrics, and predict possible length of artists' career. This project also includes data collection and analysis.  \n",
    "In the past there were several attempts aiming to predict age and gender based on different data: social media activity, tweets, photos, speech. TODO: Add references to past project on the same topic\n",
    "\n",
    " ### Motivation\n",
    "Age and gender prediction may be used in completing existing datasets in which those information is not present but it might be useful to add it, for example for statistical purposes, for streaming services (like Spotify). Such services may be also interested in the outcomes of data analysis part. From career length prediction may benefit organizations which handle discovering and promoting new artist. In situations when they have to make decision if it is worth to invest and promote some artist, such information may be used to make the process easier and more accurate. \n",
    "\n",
    "### Workflow\n",
    "The workflow of this project was following: collecting data from different sources, merging collected data to obtain useful dataset, exploratory data analysis, experiments with state-of-the-art machine learning algorithms, analysis of the outcomes. Each part had its own difficulties and challenges and is describe in more details in the following sections. \n"
   ]
  },
  {
   "cell_type": "markdown",
   "metadata": {},
   "source": [
    "## Data gathering and dataset preparation\n",
    "\n",
    "### Data downloading\n",
    "First part of the project was focused on finding resources with music data that were free and open to use, and gathering as much data as possible for later use. After some web research three main data sources were chosen: \"Musicbrainz\" database, \"Spotify API\", \"1 million songs dataset\". The motivation behind using more than one source, was that none of available sources was fully complete (consisted all type of information that were thought as necessary). For example albums information in Musicbrainz was very messy and seemd to be incomplete in many cases. On the contrary, in Spotify this information was correct but gender information was not present here. Thanks to that approach, emerged dataset is more complete than any of already existing datasets. It is also expandable and can be easily updated in the future. All the downloaded data is stored in the local instance of MongoDB database.  \n",
    "\n",
    "This process was very problematic due to limitations of used sources and APIs. For example, it was not possible to browse Spotify API and download all the artists that they store in the database, some search parameters must be used in order to get this data. Unfortunately it also did not help a lot - while trying to search artist by country it quickly turned out that, because of the parameter that limits the upper bound of returned index, it was still not possible to download everything. This is why, another approach was used - first download artist from Musicbrainz and then, use this data to download data from Spotify.  \n",
    "\n",
    "Musicbrainz API was very user friendly and easy to use but here the problem was the download speed. Even after creating mirror server on local machine and using querying this server it was too slow. The solution was to use the local instance of their database. Unfortunately the documentation of the database was very general and limited, while structure of the database very complicated. After some reverse-engineering, all needed tables and fields were found. Then data from different tables was merged and saved in MongoDB - using convention one entry for one artist with all information about this artist.\n",
    "\n",
    "Next step was to create collection with spotify artists. Some of downloaded artist info have already had the Spotify ID, the rest of artist were downloaded using names of artists from Musicbrainz collection: for each Musicbrainz artist the request with name of this artist were sent to the Spotify API and as a response the list of artist with same or similar name was returned (usually 5 to 10 artists). Last step was to download albums for each artist. \n",
    "\n",
    "\n",
    "This process resulted in creation of following MongoDB collections:  \n",
    "1.mb_artists_albums  \n",
    "2.spotify_artist_albums  \n",
    "3.artist_geolocations  \n",
    "4.artist_wikidata  \n",
    "\n",
    "\n",
    "1.mb_artists_albums ():\n",
    " - _id - musicbrainz unique id\n",
    " - db_id - id in the musicbrainz database\n",
    " - name - artist name\n",
    " - begin_date_year - artist birthday or, if it is a group, year of foundation\n",
    " - type - 'Group' or 'Person'\n",
    " - area:\n",
    "     - name - name of country of origin\n",
    "     - iso_366_1 - iso code of the country\n",
    " - gender - gender of the artist; if it is a group then value is 'unknown'\n",
    " - urls - list of artist's profiles/information on other websites\n",
    " - albumes:\n",
    "     - _id - album id in the mb database\n",
    "     - name - album name\n",
    "     - type - type of the recording\n",
    "     - release year\n",
    "     - rating - rating in mb database (usually is null, so not very important)\n",
    "\n",
    "\n",
    "2.spotify_artist_albums:\n",
    " - _id - spotify id\n",
    " - followers:\n",
    "  - href\n",
    "  - total - total number of followers\n",
    " - genres - list of the artist's music genres\n",
    " - mb_info: - list of possible 'fits' with musicbrainz artists (may be deleted)\n",
    "  - mb_name - artist name in musicbrainz database\n",
    "  - mb_id - musicbrainz id\n",
    "  - artist_distance - names edit distance\n",
    "  - similar_albumes - number of similar albumes in both sources\n",
    " - name - artist name\n",
    " - popularity - current value of popularity in spotify (should be updated from time to time)\n",
    " - albums:\n",
    "  - _id - id of the album in spotify\n",
    "  - album_group\n",
    "  - album_type - single, EP etc.\n",
    "  - artists - list of artists that appears on this album with id and name\n",
    "  - name - album name\n",
    "  - release_date - date of the album release\n",
    "  - release_precision - year, month, day - depends on the format of the release date\n",
    " - mb_id - id of this artist in musicbrainz db \n",
    " \n",
    " \n",
    "3.artist_geolocation:\n",
    " - _id - musicbrainz id of the artist\n",
    " - name - name of the artist\n",
    " - latitude\n",
    " - longtitude\n",
    " - place - city and state for USA, city and country for the rest of countries\n",
    " - country - ISO code of the country of artist origin\n",
    "\n",
    "4.artist_wikidata:\n",
    " - _id - wikidata id\n",
    " - gender\n",
    " - date_of_birth\n",
    " - genres - music genres\n",
    " - musicbrainz_id\n",
    " - wikipedia_urls - links to all wikipedia websites (in different languages)\n",
    " \n",
    "\n",
    "Althought the whole process was quite automatic and very easy to implement, it was also the most time consuming. Due to the limitations coming from APIs (like limited number of allowed requests) and some networking problems, many of the processes must have been rerun to be sure that all of the needed data was downloaded correctly. \n",
    "\n",
    "\n",
    "For more details on the data downloading part and python code, please refer to the following notebooks: <a href=\"Data downloading.ipynb\">Data downloading</a>, <a href=\"Albums downloading.ipynb\">Albums downloading</a>, <a href=\"Spotify data downloading.ipynb\">Spotify data downloading</a>\n"
   ]
  },
  {
   "cell_type": "markdown",
   "metadata": {},
   "source": [
    "### Dataset preparation\n",
    "After collecting a lot of data from different sources it must have been merged to create one dataset, useful for machine learning tasks. It has been done in few iterations, depending on the available type of information. This part was done in parallel with the data analysis part to achieve optimal results. \n",
    "\n",
    "#### Dataset merging\n",
    "As pointed out before some artists have already had both Musicbrainz and Spotify IDs, so it was very easy to match those entries from two databases. For the rest of them more complicated approach needed to be applied: first, similarity between names was computed and sets of the artists with most similar names were created. In each of those sets (usually 5-10 artists) similarities between albums' names were computed and the artist entries with the biggest number of albums with similarities above some predefined threshold were connected to each other.  \n",
    "While this method worked quite well for artists that were more popular or for those who had a lot of albums in both databases some mistakes might have occured. In this dataset it is not very problematic thought: some of data (eg. lyrics) were very limited and available only for the most popular artists, so those less popular, for which merging method might not worked perfectly will probably be omitted in the next part. \n",
    "\n",
    "#### Songs features\n",
    "In order to avoid downloading of unnecessary data most popular songs with features were fetched only for those artists, who were 'matched' in previous step. While it might be useful to have all of the artists' songs, due to the time limitation, it was decided to download only the most popular ones (according to Spotify), which was about 5 to 10 songs for each artist. Each song has set of features defined by Spotify, some of them are danceability, instrumentalness, energy. They are going to be used as features in vectors for machine learning algorithms, so the mean of all features over songs of one artist was computed, to create only one feature vector for artist. \n",
    "\n",
    "#### Lyrics\n",
    "Lyrics downloaded from musiXmatch dataset (https://labrosa.ee.columbia.edu/millionsong/musixmatch). It was set of preprocessed lyrics in the bag-of-words format: each track is described as the word-counts for a dictionary of the top 5,000 words across the whole set. Since this dataset was prepared to work easily with \"1 million songs dataset\", lyrics were matched with the artist in our dataset using Musicbrainz IDs. Similar to songs features, number of lyrics was different for each artist, so first those vectors were averaged for each artist. Last step of lyrics preprocessing was to treat whole set of lyris as a document and transform it using tf-idf method. Thanks to this operation the bigger importance was given to the less popular words. \n",
    "\n",
    "#### Summary\n",
    "\n",
    "The result of this part is the one dataset, with one vector for each artist that can be directly used with machine learning algorithms. For more information, please refer to the following notebook: <a href=\"Dataset preparation.ipynb\">Dataset preparation</a>"
   ]
  },
  {
   "cell_type": "markdown",
   "metadata": {},
   "source": [
    "## Data analysis\n",
    "\n",
    "This part consist of analysis of collected data. The reason of such analysis is to get some insights on what format and type of values are there, deciding on what fields can be removed (for example when they are to noisy) and what can be useful for classification task. Also some preprocessing of those fields can be done here, in case there is a need to change the type of variable etc. \n",
    "This part was divided into two notebooks: <a href=\"Data analysis.ipynb\">Data analysis</a>, <a href=\"Data on maps.ipynb\">Data on maps</a>.\n",
    "\n",
    "On the map below there is a total number of artists by country. The country with highest number of artists is USA but this can mean either that in this country there is highest number of artists or this is just the characteristic of the data."
   ]
  },
  {
   "cell_type": "code",
   "execution_count": 5,
   "metadata": {},
   "outputs": [
    {
     "data": {
      "text/html": [
       "\n",
       "        <iframe\n",
       "            width=\"1000\"\n",
       "            height=\"700\"\n",
       "            src=\"figures/map1.html\"\n",
       "            frameborder=\"0\"\n",
       "            allowfullscreen\n",
       "        ></iframe>\n",
       "        "
      ],
      "text/plain": [
       "<IPython.lib.display.IFrame at 0x7f6af017feb8>"
      ]
     },
     "execution_count": 5,
     "metadata": {},
     "output_type": "execute_result"
    }
   ],
   "source": [
    "from IPython.display import display, HTML ,IFrame\n",
    "IFrame('figures/map1.html', width=1000,height=700)"
   ]
  },
  {
   "cell_type": "markdown",
   "metadata": {},
   "source": [
    "### Popularity\n",
    "\n",
    "Popularity is a value defined by Spotify. The range of this value is between 0 and 100, and according to Spotify it is determined based on the number of times the artist's songs was played, number of followers. What is important is that recent plays are more valuable than older ones, so artists with newer songs will probably be more popular than some artists that were popular few years ago.\n",
    "\n",
    "<img src=\"figures/artist_popularity.png\">\n",
    "\n",
    "\n",
    "\n",
    "### Followers\n",
    "Value taken from Spotify, meaning how many listeners decided to 'follow' artist (which mens to receive information about new songs etc.) Because of large number of artists with small number of followers, both axes in the plot below are in logarythmic scale.\n",
    "\n",
    "<img src=\"figures/followers.png\">\n",
    "\n",
    "\n",
    "\n",
    "While, by intuition those two values(popularity and followers) should be correlated, the value of correlation is about 0.23, which means very weak correlation.\n",
    "\n",
    "### Music genres\n",
    "\n",
    "Music genres were taken from Spotify dataset and they are defined by artists themselves, which means that there is no bounded set of possible values for that variable. The goal is to check number of genres, their frequency and based on those values reduce this number by merging similar genres and removing the least popular ones.  \n",
    "Before the reduction there were 1634 distinct values of genres. Merging the most similar ones was done by combining classes with same names or using knowledge about music genres. For example categories 'pop rock' and 'pop rap' were added to the 'pop' category and 'salsa', 'merengue' to the category 'latin'. After this operation there are about 600 genres left, which is three times less than the original value.|\n",
    "\n",
    "\n",
    "### Genders\n",
    "\n",
    "In Musicbrainz database there are four values for artist genders - Male, Female, Other, unknown and few values for the type (Person, Group etc.), only for group 'Person' there is a distinction between genders. For types other than 'Person' the value of gender is unknown. \n",
    "\n",
    "\n",
    "|    Type   | Number |\n",
    "|:---------:|--------|\n",
    "| Choir     | 4294   |\n",
    "| Group     | 312170 |\n",
    "| Orchestra | 4511   |\n",
    "| Other     | 1863   |\n",
    "| Person    | 685688 |\n",
    "| Character | 4660   |\n",
    "\n",
    "\n",
    "|  Gender | Number |\n",
    "|:-------:|--------|\n",
    "| Male    | 382694 |\n",
    "| Female  | 104242 |\n",
    "| Other   | 541    |\n",
    "| unknown | 525709 |\n",
    "\n",
    "\n",
    "Disproportion between Male and Female artists is noticable and it differs for countries. "
   ]
  },
  {
   "cell_type": "code",
   "execution_count": 6,
   "metadata": {},
   "outputs": [
    {
     "data": {
      "text/html": [
       "\n",
       "        <iframe\n",
       "            width=\"1000\"\n",
       "            height=\"700\"\n",
       "            src=\"figures/map2.html\"\n",
       "            frameborder=\"0\"\n",
       "            allowfullscreen\n",
       "        ></iframe>\n",
       "        "
      ],
      "text/plain": [
       "<IPython.lib.display.IFrame at 0x7f6af017ff98>"
      ]
     },
     "execution_count": 6,
     "metadata": {},
     "output_type": "execute_result"
    }
   ],
   "source": [
    "IFrame('figures/map2.html', width=1000,height=700)"
   ]
  },
  {
   "cell_type": "markdown",
   "metadata": {},
   "source": [
    "## Classification\n",
    "\n",
    "The code and detail for this part are in notebook: <a href=\"Classification.ipynb\">Classification</a>\n",
    "\n",
    "The aim of this part is to find out if it is possible to guess artists' gender and age based on their songs. Different approaches to problem will be tested: different classification algorithms, different combinations of datasets(music features, lyrics, genres).\n",
    "\n",
    "Basic set of features is the following:  \n",
    " <img src=figures/features.png>\n",
    " \n",
    "Both lyrics and genres are stored in the sparse matrix format. They are transformed and added to the dataset when needed as next features of vectors. Not all of those features are used in all cases.\n",
    "\n",
    "In all cases dataset was split for training and testing set. Training set, during the training phase was further split to validation set.\n",
    "\n",
    "### Gender classification\n",
    "\n",
    "As a baseline for this classificator first, 'dumb' way of gender prediction was applied. It was based on tossing a biased coin and counting the accuracy of the prediction. While in the dataset there is about 22% of women and 78%, the biased coin showed value 1(Female) 22% of times. The experiment was to toss a coin for each artist in the dataset and compare the result with true value. The result - baseline accuracy was 65%.\n",
    "\n",
    "Each tested model was crossvalidated and grid search was used to find the best parameters. Below, there are results of the best models for each algorithm and combination of features.\n",
    "\n",
    "#### Using only music features\n",
    "\n",
    "First simpler dataset was used to predict gender - vectors contained only spotify music features. Three algorithms were tested: logistic regression,random forest and neural network. As a metric accuracy and precision was used. \n",
    "\n",
    "<b>Logistic regression</b>\n",
    "\n",
    "<img src=\"figures/gender-logreg.png\" >\n",
    "accuracy score = 0.64\n",
    "\n",
    "<b>Random Forest</b>\n",
    "<img src=\"figures/gender_forest.png\">\n",
    "accuracy score = 0.79\n",
    "\n",
    "<b>Neural network</b>\n",
    "<img src=\"figures/gender_nn.png\">\n",
    "accuracy score = 0.79\n",
    "\n",
    "\n",
    "#### Using music features and full lyrics\n",
    "\n",
    "\n",
    "<b>Logistic regression</b>\n",
    "\n",
    "<img src=\"figures/gender_logreg_all.png\" >\n",
    "accuracy score = 0.64\n",
    "\n",
    "<b>Random Forest</b>\n",
    "<img src=\"figures/gender_forest_all.png\">\n",
    "accuracy score = 0.71\n",
    "\n",
    "<b>Neural network</b>\n",
    "<img src=\"figures/gender_nn.png\">\n",
    "accuracy score = 0.64\n",
    "\n",
    "It is very difficult to decide which one works the best, since the results were very similar.\n",
    "\n",
    "#### Using music features and reduced lyrics\n",
    "\n",
    "Use few different methods to reduce number of features. Currently it is 5000 for lyrics and 600 for genres. Then try some classificators using different representations of the data.\n",
    "\n",
    "Methods for genres:  \n",
    " - chi2\n",
    " - PCA\n",
    "\n",
    "Methods for lyrics:  \n",
    " - SVD (Latent Semantic Analysis)\n",
    " - Non-negative matrix factorization\n",
    " \n",
    "\n",
    "PCA uses an orthogonal transformation to convert a set of observations of possibly correlated variables into a set of values of linearly uncorrelated variables called principal components.\n",
    "Chi-square test measures dependence between stochastic variables and then, the features that are the most likely to be independent of class are removed, because they might be irrelevant for classification.\n",
    "SVD (Singluar Value Decompositions) performs linear dimensionality reduction by factorization of a matrix.\n",
    "Non-negative matrix factorization works similar to SVD but here, the original matrix is decomposed on two (not three as in SVD) matrices.\n",
    "\n",
    "\n",
    "After dimensions of lyrics and genres was reduced, the Random Forest algorithm was run on such data. Those are some results:\n",
    "\n",
    "<b>Genres - PCA 10 dim., lyrics - LSA</b>\n",
    "\n",
    "<img src=\"figures/gender_pca10_lsa.png\">\n",
    "\n",
    "<b>Genres - PCA 10 dim., lyrics - NMF</b>\n",
    "\n",
    "<img src=\"figures/gender_pca10_nmf.png\">\n",
    "\n",
    "<b>Genres - CHI2 10 dim., lyrics - LSA</b>\n",
    "\n",
    "<img src=\"figures/genred_gen10_lsa.png\">\n",
    "\n",
    "<b>Genres - CHI2 10 dim., lyrics - NMF</b>\n",
    "\n",
    "<img src=\"figures/gender_10_nmf.png\">\n",
    "\n",
    "Dimensionality reduction results are almost the same as th results with full dimensional vectors. It is worth to use it, as reducing size of vectors increased speed of training."
   ]
  },
  {
   "cell_type": "markdown",
   "metadata": {},
   "source": [
    "### Age prediction\n",
    "\n",
    "The idea is to split artist by age to four groups of similar size and then create classificators for predicting the age. The only classificator that will be used is the random forest, since it worked the best in previous cases.\n",
    "\n",
    "After analyzing the distribution of age, it was decided to split the data on four following age gropus:   \n",
    "0: 0-40  \n",
    "1: 40-57  \n",
    "2: 57-78  \n",
    "3: 78-... \n",
    "\n",
    "<img src=\"figures/age.png\">\n",
    "\n",
    "Confusion matrix:\n",
    "<img src=\"figures/age_conf.png\">\n",
    "\n",
    "Those results, even thought they were the best among tested models, are rather bad than good. From confusion matrix it can be duducted that most of artists were classified to the first group.\n",
    "The conclusion is that it is very difficult to guess artist age\n",
    "\n",
    "\n",
    "### Career length prediction\n",
    "\n",
    "In this part the career lenght will be predicted. Algorithms that will be tried are ridge regression and neural network.\n",
    "\n",
    "<b> Data preparation</b>\n",
    "The goal is to predict career lengt, so prediction should be done only for artists that ended their career. Unfortunately, it is not possible to be 100% sure, if artist finished career, so only artists that have not released any new album during last four years are taken into account. Carrer length is the number of years between first and last album.\n",
    "\n",
    "Distribution of the career length:\n",
    "<img src=\"figures/careerlength.png\">\n",
    "\n",
    "<b> Ridge regression</b>\n",
    "\n",
    "For the best model, the Mean Absolut Error was 5,68. It means that the prediction can be done within +/- 5,6 years.\n",
    "\n",
    "<b> Neural network </b>\n",
    "\n",
    "Using neural network the MAE is 6.04. It is slightly worse than using previous algorithm but the diffrence is not big.\n",
    "\n",
    "<b> Conclusion </b>\n",
    "\n",
    "Only by type of music and songs lyrics we can predict the career length with quite small error - 5,6 years."
   ]
  },
  {
   "cell_type": "markdown",
   "metadata": {},
   "source": [
    "## Summary\n",
    "\n",
    "From the above results it is clear to see that predicting age or gender is not an easy task. There may be many reasons for that. It is possible that the dataset was not informative enough for this task, the other option is that it is very often that artists do not write their songs by themselves. It may be also that the world of music is oblivious to gender and age and those factors, simply does not matter in this field.\n",
    "\n",
    "What was suprising, is the accuracy for predicting career length. Maybe using some more sophisticated methods it would be possible to achieve even better results, which may be very useful for music producents while searching for new talented artists."
   ]
  },
  {
   "cell_type": "markdown",
   "metadata": {},
   "source": [
    "## References\n",
    "\n",
    "[1] https://spotify.com  \n",
    "[2] https://musicbrainz.org/  \n",
    "[3] https://labrosa.ee.columbia.edu/millionsong/  \n",
    "[4] https://www.musixmatch.com/  \n",
    "[5] http://scikit-learn.org/stable/index.html  "
   ]
  },
  {
   "cell_type": "code",
   "execution_count": null,
   "metadata": {},
   "outputs": [],
   "source": []
  }
 ],
 "metadata": {
  "kernelspec": {
   "display_name": "Python 3",
   "language": "python",
   "name": "python3"
  },
  "language_info": {
   "codemirror_mode": {
    "name": "ipython",
    "version": 3
   },
   "file_extension": ".py",
   "mimetype": "text/x-python",
   "name": "python",
   "nbconvert_exporter": "python",
   "pygments_lexer": "ipython3",
   "version": "3.6.4"
  },
  "toc": {
   "base_numbering": "1",
   "nav_menu": {},
   "number_sections": true,
   "sideBar": true,
   "skip_h1_title": true,
   "title_cell": "Table of Contents",
   "title_sidebar": "Contents",
   "toc_cell": true,
   "toc_position": {},
   "toc_section_display": true,
   "toc_window_display": true
  },
  "varInspector": {
   "cols": {
    "lenName": 16,
    "lenType": 16,
    "lenVar": 40
   },
   "kernels_config": {
    "python": {
     "delete_cmd_postfix": "",
     "delete_cmd_prefix": "del ",
     "library": "var_list.py",
     "varRefreshCmd": "print(var_dic_list())"
    },
    "r": {
     "delete_cmd_postfix": ") ",
     "delete_cmd_prefix": "rm(",
     "library": "var_list.r",
     "varRefreshCmd": "cat(var_dic_list()) "
    }
   },
   "types_to_exclude": [
    "module",
    "function",
    "builtin_function_or_method",
    "instance",
    "_Feature"
   ],
   "window_display": false
  }
 },
 "nbformat": 4,
 "nbformat_minor": 2
}
