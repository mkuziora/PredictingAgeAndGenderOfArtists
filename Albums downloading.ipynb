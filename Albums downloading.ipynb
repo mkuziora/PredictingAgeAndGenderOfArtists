{
 "cells": [
  {
   "cell_type": "markdown",
   "metadata": {},
   "source": [
    "# Albums downloading\n",
    "\n",
    "Last step of data downloading was to fetch albums of artists from both Spotify and Musicbrainz datasets. Main reason for that was to make it possible to match artists from both databases using similarity in albums' names and dates (more on this topic in 'data merging' part here: TODO - add link). Secondary reason was to get more insights in the artists data."
   ]
  },
  {
   "cell_type": "code",
   "execution_count": 1,
   "metadata": {},
   "outputs": [],
   "source": [
    "import spotipy\n",
    "import spotipy.oauth2 as oauth2\n",
    "import spotipy.util as util\n",
    "from IPython.display import clear_output\n",
    "from pymongo import MongoClient, errors\n",
    "import time\n",
    "import musicbrainzngs\n",
    "import sys\n",
    "from datapackage import Package\n",
    "import psycopg2"
   ]
  },
  {
   "cell_type": "code",
   "execution_count": 2,
   "metadata": {},
   "outputs": [
    {
     "name": "stdout",
     "output_type": "stream",
     "text": [
      "BQC7q92MBvmm2IELx_JT0i8LRbgPIDOUT1tDXZIBcbf9cprLMrHMekFwYk2qPr5SExKcB7PYEKq6YWN0xpw\n"
     ]
    }
   ],
   "source": [
    "SPOTIPY_CLIENT_ID = 'd70e66cbc22e4e1287c50c97b54c2457'\n",
    "SPOTIPY_CLIENT_SECRET = 'e20d58cae494486392723da75a3ef393'\n",
    "SPOTIPY_REDIRECT_URI = 'http://localhost/?code=...'\n",
    "\n",
    "credentials = oauth2.SpotifyClientCredentials(\n",
    "client_id=\"d70e66cbc22e4e1287c50c97b54c2457\",\n",
    "client_secret=\"e20d58cae494486392723da75a3ef393\")\n",
    "\n",
    "token = credentials.get_access_token()\n",
    "print(token)\n",
    "spotify = spotipy.Spotify(auth=token)\n",
    "\n",
    "db_client = MongoClient('localhost', 27017)\n",
    "db = db_client.musicdata"
   ]
  },
  {
   "cell_type": "markdown",
   "metadata": {},
   "source": [
    "## Download albums from Spotify\n",
    "\n",
    "For Spotify dataset only artists with popularity graten than zero were taken into account while downloading albums. The reason for that was that this process was very time-consuming and at this point preliminary decision was made to do the analysis and classification part using only data for more popular artists."
   ]
  },
  {
   "cell_type": "code",
   "execution_count": 3,
   "metadata": {},
   "outputs": [],
   "source": [
    "def fetch_albums(_id, offset,result):\n",
    "    keys = ['album_group', 'album_type','artists', 'available-markets', 'id','name', 'release_date', 'release_date_precision', 'type']\n",
    "    fetched = spotify.artist_albums(_id, limit=50, offset = offset)\n",
    "\n",
    "    items = fetched['items']\n",
    "    albums =[]\n",
    "    for it in items:\n",
    "        album = {k:v for k, v in it.items() if k in keys}\n",
    "        albums.append(album)\n",
    "    \n",
    "    result.append(albums)\n",
    "    \n",
    "    if fetched['next'] != None:\n",
    "        return fetch_albums(_id, offset+50, result)\n",
    "    \n",
    "    return result"
   ]
  },
  {
   "cell_type": "code",
   "execution_count": 34,
   "metadata": {
    "scrolled": false
   },
   "outputs": [
    {
     "name": "stdout",
     "output_type": "stream",
     "text": [
      "487387\n"
     ]
    }
   ],
   "source": [
    "artist_collection = db.get_collection(\"artists_spotify_bynames\")\n",
    "albums_collection = db.get_collection(\"albums_spotify\")\n",
    "keys = ['album_group', 'album_type','artists', 'available-markets', 'id','name', 'release_date', 'release_date_precision', 'type']\n",
    "num = 0\n",
    "not_fetched = []\n",
    "\n",
    "for artist in artist_collection.find({'popularity': {'$gt': 0}},no_cursor_timeout=True):\n",
    "    clear_output(wait=True)\n",
    "    print(num)\n",
    "    num +=1\n",
    "    _id = artist['_id']\n",
    "    try:\n",
    "        albums = fetch_albums(_id,0, [])\n",
    "    except spotipy.client.SpotifyException as err:\n",
    "        if err.code == 401:\n",
    "            print(\"Spotipy 401 error:\", err.msg)\n",
    "            not_fetched.append(_id)\n",
    "            time.sleep(60)\n",
    "            continue\n",
    "        else:\n",
    "            print(\"Spotipy error:\", err.code, err.http_status, err.msg)\n",
    "            token = credentials.get_access_token()\n",
    "            print(token)\n",
    "            spotify = spotipy.Spotify(auth=token)\n",
    "            not_fetched.append(_id)\n",
    "            continue\n",
    "    except Exception as err:\n",
    "        print(\"Exception \", err)\n",
    "        time.sleep(20)\n",
    "        not_fetched.append(_id)\n",
    "        continue\n",
    "        \n",
    "    artist_albums = {'_id':_id, 'albums':albums }\n",
    "    albums_collection.update_one({'_id':artist_albums['_id']}, {\"$set\": artist_albums}, upsert=True)\n",
    "    #print(artist_albums)\n",
    "\n"
   ]
  },
  {
   "cell_type": "code",
   "execution_count": 37,
   "metadata": {},
   "outputs": [
    {
     "name": "stdout",
     "output_type": "stream",
     "text": [
      "61\n"
     ]
    }
   ],
   "source": [
    "#try again to download albums for artists that were not fetched before due to some errors\n",
    "print(len(not_fetched))\n",
    "for id in not_fetched:\n",
    "    try:\n",
    "        albums = fetch_albums(_id,0, [])\n",
    "    except spotipy.client.SpotifyException as err:\n",
    "        if err.code == 401:\n",
    "            print(\"Spotipy 401 error:\", err.msg)\n",
    "            not_fetched.append(_id)\n",
    "            time.sleep(60)\n",
    "            continue\n",
    "        else:\n",
    "            print(\"Spotipy error:\", err.code, err.http_status, err.msg)\n",
    "            token = credentials.get_access_token()\n",
    "            print(token)\n",
    "            spotify = spotipy.Spotify(auth=token)\n",
    "            not_fetched.append(_id)\n",
    "            continue\n",
    "    except Exception as err:\n",
    "        print(\"Exception \", err)\n",
    "        time.sleep(20)\n",
    "        not_fetched.append(_id)\n",
    "        continue\n",
    "        \n",
    "    artist_albums = {'_id':_id, 'albums':albums }\n",
    "    albums_collection.update_one({'_id':artist_albums['_id']}, {\"$set\": artist_albums}, upsert=True) "
   ]
  },
  {
   "cell_type": "markdown",
   "metadata": {},
   "source": [
    "## Download albums from Musicbrainz\n",
    "\n",
    "Since this data was downloaded from local database, time was not a problem as in previous case. This is why all albums for all artists were fetched."
   ]
  },
  {
   "cell_type": "code",
   "execution_count": 3,
   "metadata": {},
   "outputs": [],
   "source": []
  },
  {
   "cell_type": "code",
   "execution_count": 4,
   "metadata": {},
   "outputs": [],
   "source": [
    "# Connect to an existing database\n",
    "conn = psycopg2.connect(dbname=\"musicbrainz_db\",user='musicbrainz', host=\"localhost\",password=\"musicbrainz\")\n",
    "   \n",
    "\n",
    "# Open a cursor to perform database operations\n",
    "cur = conn.cursor()\n",
    "\n",
    "#dictionary for release type\n",
    "release_type = {}\n",
    "\n",
    "cur.execute(\"SELECT id, name FROM release_group_primary_type\")\n",
    "types = cur.fetchall()\n",
    "for t in types:\n",
    "    release_type[t[0]] = t[1]"
   ]
  },
  {
   "cell_type": "code",
   "execution_count": 5,
   "metadata": {},
   "outputs": [
    {
     "name": "stdout",
     "output_type": "stream",
     "text": [
      "{1: 'Album', 2: 'Single', 3: 'EP', 12: 'Broadcast', 11: 'Other'}\n"
     ]
    }
   ],
   "source": [
    "print(release_type)"
   ]
  },
  {
   "cell_type": "code",
   "execution_count": 6,
   "metadata": {},
   "outputs": [],
   "source": [
    "alb_collection = db.get_collection(\"albums_musicbrainz\")"
   ]
  },
  {
   "cell_type": "code",
   "execution_count": 7,
   "metadata": {},
   "outputs": [
    {
     "name": "stdout",
     "output_type": "stream",
     "text": [
      "1318077\n"
     ]
    }
   ],
   "source": [
    "mb_artists = db.get_collection(\"artists_mb\")\n",
    "artists = {}\n",
    "for artist in mb_artists.find():\n",
    "    artists[artist['db_id']] = artist['_id']\n",
    "\n",
    "    \n",
    "print(len(artists))\n",
    "not_found = []"
   ]
  },
  {
   "cell_type": "code",
   "execution_count": 8,
   "metadata": {},
   "outputs": [
    {
     "name": "stdout",
     "output_type": "stream",
     "text": [
      "8972b1c1-6482-4750-b51f-596d2edea8b1\n"
     ]
    }
   ],
   "source": [
    "print(artists.get(805192))"
   ]
  },
  {
   "cell_type": "code",
   "execution_count": 10,
   "metadata": {},
   "outputs": [],
   "source": [
    "cur.execute(\"SELECT RG.id, RG.name, RG.artist_credit, RG.type, RGM.first_release_date_year, RGM.rating FROM release_group RG INNER JOIN release_group_meta RGM ON RG.id = RGM.id\")\n",
    "num = 0\n",
    "\n",
    "for album in cur:\n",
    "    artist_id = artists.get(album[2])\n",
    "       \n",
    "    album ={\n",
    "        '_id': album[0],\n",
    "        'name': album[1],\n",
    "        'artist_id': artist_id,\n",
    "        'type': release_type.get(album[3], 'unknown'),\n",
    "        'release_year': album[4],\n",
    "        'rating': album[5]\n",
    "    }\n",
    "\n",
    "    alb_collection.insert_one(album)\n"
   ]
  },
  {
   "cell_type": "code",
   "execution_count": null,
   "metadata": {},
   "outputs": [],
   "source": []
  }
 ],
 "metadata": {
  "kernelspec": {
   "display_name": "Python 3",
   "language": "python",
   "name": "python3"
  },
  "language_info": {
   "codemirror_mode": {
    "name": "ipython",
    "version": 3
   },
   "file_extension": ".py",
   "mimetype": "text/x-python",
   "name": "python",
   "nbconvert_exporter": "python",
   "pygments_lexer": "ipython3",
   "version": "3.6.4"
  },
  "toc": {
   "base_numbering": 1,
   "nav_menu": {},
   "number_sections": true,
   "sideBar": true,
   "skip_h1_title": true,
   "title_cell": "Table of Contents",
   "title_sidebar": "Contents",
   "toc_cell": false,
   "toc_position": {},
   "toc_section_display": true,
   "toc_window_display": true
  }
 },
 "nbformat": 4,
 "nbformat_minor": 2
}
