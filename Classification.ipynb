{
 "cells": [
  {
   "cell_type": "markdown",
   "metadata": {},
   "source": [
    "# Gender, age and length of career classificaiton\n",
    "\n",
    "The aim of this part is to find out if it is possible to guess artists' gender and age based on their songs. Different approaches to problem will be tested: different classification algorithms, different combinations of datasets(music features, lyrics, genres)."
   ]
  },
  {
   "cell_type": "code",
   "execution_count": 1,
   "metadata": {},
   "outputs": [
    {
     "name": "stderr",
     "output_type": "stream",
     "text": [
      "/home/marta/anaconda3/lib/python3.6/site-packages/h5py/__init__.py:36: FutureWarning: Conversion of the second argument of issubdtype from `float` to `np.floating` is deprecated. In future, it will be treated as `np.float64 == np.dtype(float).type`.\n",
      "  from ._conv import register_converters as _register_converters\n",
      "Using TensorFlow backend.\n"
     ]
    }
   ],
   "source": [
    "import random\n",
    "import ast\n",
    "import scipy\n",
    "import pickle\n",
    "import collections\n",
    "import pandas as pd\n",
    "import numpy as np\n",
    "from scipy.sparse import csr_matrix, save_npz, load_npz\n",
    "from sklearn.svm import SVC\n",
    "from sklearn import linear_model\n",
    "from sklearn.ensemble import RandomForestClassifier\n",
    "from sklearn.feature_selection import SelectKBest, chi2\n",
    "from sklearn.decomposition import PCA, TruncatedSVD, NMF\n",
    "from sklearn.pipeline import make_pipeline\n",
    "from sklearn.preprocessing import Normalizer\n",
    "from sklearn.linear_model import LogisticRegression\n",
    "from sklearn.model_selection import train_test_split\n",
    "from sklearn.metrics import classification_report, confusion_matrix, make_scorer, accuracy_score, precision_score\n",
    "from sklearn.model_selection import GridSearchCV\n",
    "from sklearn.neural_network import MLPRegressor\n",
    "from sklearn import model_selection\n",
    "from sklearn import metrics\n",
    "from sklearn import preprocessing\n",
    "from keras.models import Sequential\n",
    "from keras.layers import Dense, Activation, Dropout, Input\n",
    "from keras.utils import to_categorical\n",
    "from keras.models import Model\n",
    "\n",
    "%matplotlib inline\n",
    "import matplotlib.pyplot as plt\n",
    "import seaborn as sns; sns.set(style=\"ticks\", color_codes=True)"
   ]
  },
  {
   "cell_type": "markdown",
   "metadata": {},
   "source": [
    "## Load datasets\n",
    "\n",
    "All datasets were created and saved in previous steps, so now they can be directly loaded and used without the need to compute everything from scratch each time.\n",
    "\n",
    "There is still more than one file but they were created in such way, so that it would be easy to use only part of data (e.g. only music features without lyrics or combination of all available data) and vectors are stored in the same order, so the matrices have to be appended to each other."
   ]
  },
  {
   "cell_type": "code",
   "execution_count": 2,
   "metadata": {},
   "outputs": [],
   "source": [
    "#Dataset with averaged values of songs features for each artist\n",
    "\n",
    "#sparse matrix with music genres in the same order as entries in artist_songs\n",
    "genres_sparse = load_npz(\"data/genres_sparse.npz\")\n",
    "genres_sparse = genres_sparse.tocsr()\n",
    "\n",
    "#sparse matrix with lyrics tfidf matrices for each artist (same order as in artist_songs)\n",
    "lyrics_tfidf = load_npz(\"data/lyrics_tfidf.npz\")\n",
    "\n",
    "#dataframe with songs features for each artist\n",
    "#need to change format of genres to numeric\n",
    "artist_songs = pd.read_csv(\"data/artist_songs.csv\")\n",
    "artist_songs['gender'] = pd.to_numeric(artist_songs['gender'], errors='coerce')\n",
    "\n",
    "#albums data\n",
    "albums_info = pd.read_csv(\"data/albums_info.csv\")\n",
    "albums_info = albums_info.drop(columns=['Unnamed: 0'])"
   ]
  },
  {
   "cell_type": "code",
   "execution_count": 3,
   "metadata": {},
   "outputs": [
    {
     "data": {
      "text/html": [
       "<div>\n",
       "<style scoped>\n",
       "    .dataframe tbody tr th:only-of-type {\n",
       "        vertical-align: middle;\n",
       "    }\n",
       "\n",
       "    .dataframe tbody tr th {\n",
       "        vertical-align: top;\n",
       "    }\n",
       "\n",
       "    .dataframe thead th {\n",
       "        text-align: right;\n",
       "    }\n",
       "</style>\n",
       "<table border=\"1\" class=\"dataframe\">\n",
       "  <thead>\n",
       "    <tr style=\"text-align: right;\">\n",
       "      <th></th>\n",
       "      <th>artist_id</th>\n",
       "      <th>first_album</th>\n",
       "      <th>last_album</th>\n",
       "      <th>number_of_albums</th>\n",
       "      <th>titles</th>\n",
       "    </tr>\n",
       "  </thead>\n",
       "  <tbody>\n",
       "    <tr>\n",
       "      <th>0</th>\n",
       "      <td>3XSyTI9ct70ZheMESAv2st</td>\n",
       "      <td>2010</td>\n",
       "      <td>2018</td>\n",
       "      <td>46</td>\n",
       "      <td>['ディズニー マジカル・ワールド 〜ベスト・オブ・アラン・メンケン〜', 'ラプンツェル ...</td>\n",
       "    </tr>\n",
       "    <tr>\n",
       "      <th>1</th>\n",
       "      <td>5BxcZnUcETSt90VlbsdugI</td>\n",
       "      <td>2017</td>\n",
       "      <td>2018</td>\n",
       "      <td>4</td>\n",
       "      <td>['feelings', 'Melodies', 'Mission', 'On My Way']</td>\n",
       "    </tr>\n",
       "    <tr>\n",
       "      <th>2</th>\n",
       "      <td>2jYHSJBXjusgmYdrNeaRmg</td>\n",
       "      <td>1994</td>\n",
       "      <td>2017</td>\n",
       "      <td>6</td>\n",
       "      <td>['Uptown Groove', 'Laidback', 'The Way We Prai...</td>\n",
       "    </tr>\n",
       "    <tr>\n",
       "      <th>3</th>\n",
       "      <td>3PvJOPfvRASwmEQTvNxEdK</td>\n",
       "      <td>2017</td>\n",
       "      <td>2017</td>\n",
       "      <td>1</td>\n",
       "      <td>['Dress Code']</td>\n",
       "    </tr>\n",
       "    <tr>\n",
       "      <th>4</th>\n",
       "      <td>3QYTmCDKIFaBgDCfwlZjdU</td>\n",
       "      <td>2014</td>\n",
       "      <td>2018</td>\n",
       "      <td>7</td>\n",
       "      <td>['Songs from the Mud', 'In Bloom', \"I'm Danger...</td>\n",
       "    </tr>\n",
       "  </tbody>\n",
       "</table>\n",
       "</div>"
      ],
      "text/plain": [
       "                artist_id  first_album  last_album  number_of_albums  \\\n",
       "0  3XSyTI9ct70ZheMESAv2st         2010        2018                46   \n",
       "1  5BxcZnUcETSt90VlbsdugI         2017        2018                 4   \n",
       "2  2jYHSJBXjusgmYdrNeaRmg         1994        2017                 6   \n",
       "3  3PvJOPfvRASwmEQTvNxEdK         2017        2017                 1   \n",
       "4  3QYTmCDKIFaBgDCfwlZjdU         2014        2018                 7   \n",
       "\n",
       "                                              titles  \n",
       "0  ['ディズニー マジカル・ワールド 〜ベスト・オブ・アラン・メンケン〜', 'ラプンツェル ...  \n",
       "1   ['feelings', 'Melodies', 'Mission', 'On My Way']  \n",
       "2  ['Uptown Groove', 'Laidback', 'The Way We Prai...  \n",
       "3                                     ['Dress Code']  \n",
       "4  ['Songs from the Mud', 'In Bloom', \"I'm Danger...  "
      ]
     },
     "execution_count": 3,
     "metadata": {},
     "output_type": "execute_result"
    }
   ],
   "source": [
    "albums_info.head()"
   ]
  },
  {
   "cell_type": "code",
   "execution_count": 4,
   "metadata": {
    "scrolled": true
   },
   "outputs": [
    {
     "name": "stdout",
     "output_type": "stream",
     "text": [
      "<class 'pandas.core.frame.DataFrame'>\n",
      "RangeIndex: 739298 entries, 0 to 739297\n",
      "Data columns (total 21 columns):\n",
      "_id                 739297 non-null object\n",
      "followers           739253 non-null float64\n",
      "mb_id               739298 non-null object\n",
      "popularity          738885 non-null float64\n",
      "reduced_genres      738885 non-null object\n",
      "gender              546464 non-null float64\n",
      "type                546741 non-null object\n",
      "begin_date_year     182520 non-null float64\n",
      "danceability        369093 non-null float64\n",
      "energy              369093 non-null float64\n",
      "key                 369093 non-null float64\n",
      "loudness            369093 non-null float64\n",
      "mode                369093 non-null float64\n",
      "speechiness         369093 non-null float64\n",
      "acousticness        369093 non-null float64\n",
      "instrumentalness    369093 non-null float64\n",
      "liveness            369093 non-null float64\n",
      "valence             369093 non-null float64\n",
      "tempo               369093 non-null float64\n",
      "duration_ms         369093 non-null float64\n",
      "age                 182520 non-null float64\n",
      "dtypes: float64(17), object(4)\n",
      "memory usage: 118.4+ MB\n"
     ]
    }
   ],
   "source": [
    "artist_songs.info()"
   ]
  },
  {
   "cell_type": "markdown",
   "metadata": {},
   "source": [
    "## Feature analysis\n"
   ]
  },
  {
   "cell_type": "code",
   "execution_count": 52,
   "metadata": {},
   "outputs": [
    {
     "name": "stderr",
     "output_type": "stream",
     "text": [
      "/home/marta/anaconda3/lib/python3.6/site-packages/ipykernel_launcher.py:6: SettingWithCopyWarning: \n",
      "A value is trying to be set on a copy of a slice from a DataFrame.\n",
      "Try using .loc[row_indexer,col_indexer] = value instead\n",
      "\n",
      "See the caveats in the documentation: http://pandas.pydata.org/pandas-docs/stable/indexing.html#indexing-view-versus-copy\n",
      "  \n",
      "/home/marta/anaconda3/lib/python3.6/site-packages/ipykernel_launcher.py:7: SettingWithCopyWarning: \n",
      "A value is trying to be set on a copy of a slice from a DataFrame.\n",
      "Try using .loc[row_indexer,col_indexer] = value instead\n",
      "\n",
      "See the caveats in the documentation: http://pandas.pydata.org/pandas-docs/stable/indexing.html#indexing-view-versus-copy\n",
      "  import sys\n"
     ]
    }
   ],
   "source": [
    "music_features = artist_songs[['followers', 'popularity','danceability', 'energy', 'key', 'loudness', 'mode',\n",
    "       'speechiness', 'acousticness', 'instrumentalness', 'liveness',\n",
    "       'valence', 'gender', 'age','type']]\n",
    "\n",
    "\n",
    "music_features['lyrics'] = list(lyrics_tfidf)\n",
    "music_features['genres'] = list(genres_sparse)\n",
    "\n",
    "music_features = music_features[(music_features['gender']!=0)]"
   ]
  },
  {
   "cell_type": "code",
   "execution_count": 6,
   "metadata": {},
   "outputs": [
    {
     "data": {
      "text/html": [
       "<div>\n",
       "<style scoped>\n",
       "    .dataframe tbody tr th:only-of-type {\n",
       "        vertical-align: middle;\n",
       "    }\n",
       "\n",
       "    .dataframe tbody tr th {\n",
       "        vertical-align: top;\n",
       "    }\n",
       "\n",
       "    .dataframe thead th {\n",
       "        text-align: right;\n",
       "    }\n",
       "</style>\n",
       "<table border=\"1\" class=\"dataframe\">\n",
       "  <thead>\n",
       "    <tr style=\"text-align: right;\">\n",
       "      <th></th>\n",
       "      <th>followers</th>\n",
       "      <th>popularity</th>\n",
       "      <th>danceability</th>\n",
       "      <th>energy</th>\n",
       "      <th>key</th>\n",
       "      <th>loudness</th>\n",
       "      <th>mode</th>\n",
       "      <th>speechiness</th>\n",
       "      <th>acousticness</th>\n",
       "      <th>instrumentalness</th>\n",
       "      <th>liveness</th>\n",
       "      <th>valence</th>\n",
       "      <th>gender</th>\n",
       "      <th>age</th>\n",
       "      <th>lyrics</th>\n",
       "      <th>genres</th>\n",
       "    </tr>\n",
       "  </thead>\n",
       "  <tbody>\n",
       "    <tr>\n",
       "      <th>0</th>\n",
       "      <td>3752.0</td>\n",
       "      <td>61.0</td>\n",
       "      <td>0.5459</td>\n",
       "      <td>0.440100</td>\n",
       "      <td>6.4</td>\n",
       "      <td>-9.4249</td>\n",
       "      <td>0.8</td>\n",
       "      <td>0.14020</td>\n",
       "      <td>0.756500</td>\n",
       "      <td>3.180000e-07</td>\n",
       "      <td>0.15880</td>\n",
       "      <td>0.65750</td>\n",
       "      <td>2.0</td>\n",
       "      <td>38.0</td>\n",
       "      <td></td>\n",
       "      <td>(0, 417)\\t1.0</td>\n",
       "    </tr>\n",
       "    <tr>\n",
       "      <th>1</th>\n",
       "      <td>1361.0</td>\n",
       "      <td>29.0</td>\n",
       "      <td>0.6975</td>\n",
       "      <td>0.554100</td>\n",
       "      <td>5.8</td>\n",
       "      <td>-11.2578</td>\n",
       "      <td>0.4</td>\n",
       "      <td>0.04146</td>\n",
       "      <td>0.311739</td>\n",
       "      <td>7.196700e-01</td>\n",
       "      <td>0.09388</td>\n",
       "      <td>0.69470</td>\n",
       "      <td>2.0</td>\n",
       "      <td>58.0</td>\n",
       "      <td></td>\n",
       "      <td>(0, 201)\\t1.0</td>\n",
       "    </tr>\n",
       "    <tr>\n",
       "      <th>80</th>\n",
       "      <td>18.0</td>\n",
       "      <td>22.0</td>\n",
       "      <td>0.2168</td>\n",
       "      <td>0.197430</td>\n",
       "      <td>5.5</td>\n",
       "      <td>-17.0261</td>\n",
       "      <td>0.7</td>\n",
       "      <td>0.04539</td>\n",
       "      <td>0.911800</td>\n",
       "      <td>7.174316e-01</td>\n",
       "      <td>0.22717</td>\n",
       "      <td>0.08244</td>\n",
       "      <td>2.0</td>\n",
       "      <td>58.0</td>\n",
       "      <td></td>\n",
       "      <td></td>\n",
       "    </tr>\n",
       "    <tr>\n",
       "      <th>93</th>\n",
       "      <td>9.0</td>\n",
       "      <td>14.0</td>\n",
       "      <td>0.2470</td>\n",
       "      <td>0.076460</td>\n",
       "      <td>7.1</td>\n",
       "      <td>-22.4985</td>\n",
       "      <td>0.7</td>\n",
       "      <td>0.04495</td>\n",
       "      <td>0.955600</td>\n",
       "      <td>6.515000e-01</td>\n",
       "      <td>0.11944</td>\n",
       "      <td>0.11742</td>\n",
       "      <td>2.0</td>\n",
       "      <td>51.0</td>\n",
       "      <td></td>\n",
       "      <td></td>\n",
       "    </tr>\n",
       "    <tr>\n",
       "      <th>98</th>\n",
       "      <td>40.0</td>\n",
       "      <td>20.0</td>\n",
       "      <td>0.3998</td>\n",
       "      <td>0.054605</td>\n",
       "      <td>6.8</td>\n",
       "      <td>-27.5582</td>\n",
       "      <td>0.6</td>\n",
       "      <td>0.04613</td>\n",
       "      <td>0.994500</td>\n",
       "      <td>9.059000e-01</td>\n",
       "      <td>0.09894</td>\n",
       "      <td>0.21079</td>\n",
       "      <td>1.0</td>\n",
       "      <td>91.0</td>\n",
       "      <td></td>\n",
       "      <td></td>\n",
       "    </tr>\n",
       "  </tbody>\n",
       "</table>\n",
       "</div>"
      ],
      "text/plain": [
       "    followers  popularity  danceability    energy  key  loudness  mode  \\\n",
       "0      3752.0        61.0        0.5459  0.440100  6.4   -9.4249   0.8   \n",
       "1      1361.0        29.0        0.6975  0.554100  5.8  -11.2578   0.4   \n",
       "80       18.0        22.0        0.2168  0.197430  5.5  -17.0261   0.7   \n",
       "93        9.0        14.0        0.2470  0.076460  7.1  -22.4985   0.7   \n",
       "98       40.0        20.0        0.3998  0.054605  6.8  -27.5582   0.6   \n",
       "\n",
       "    speechiness  acousticness  instrumentalness  liveness  valence  gender  \\\n",
       "0       0.14020      0.756500      3.180000e-07   0.15880  0.65750     2.0   \n",
       "1       0.04146      0.311739      7.196700e-01   0.09388  0.69470     2.0   \n",
       "80      0.04539      0.911800      7.174316e-01   0.22717  0.08244     2.0   \n",
       "93      0.04495      0.955600      6.515000e-01   0.11944  0.11742     2.0   \n",
       "98      0.04613      0.994500      9.059000e-01   0.09894  0.21079     1.0   \n",
       "\n",
       "     age lyrics           genres  \n",
       "0   38.0           (0, 417)\\t1.0  \n",
       "1   58.0           (0, 201)\\t1.0  \n",
       "80  58.0                          \n",
       "93  51.0                          \n",
       "98  91.0                          "
      ]
     },
     "execution_count": 6,
     "metadata": {},
     "output_type": "execute_result"
    }
   ],
   "source": [
    "music_features = music_features.dropna()\n",
    "music_features.head()"
   ]
  },
  {
   "cell_type": "code",
   "execution_count": 7,
   "metadata": {},
   "outputs": [],
   "source": []
  },
  {
   "cell_type": "code",
   "execution_count": 21,
   "metadata": {},
   "outputs": [
    {
     "data": {
      "text/plain": [
       "(129682, 15)"
      ]
     },
     "execution_count": 21,
     "metadata": {},
     "output_type": "execute_result"
    }
   ],
   "source": [
    "music_features.shape"
   ]
  },
  {
   "cell_type": "code",
   "execution_count": 7,
   "metadata": {},
   "outputs": [],
   "source": [
    "X = music_features[['followers', 'popularity','danceability', 'energy', 'key', 'loudness', 'mode',\n",
    "       'speechiness', 'acousticness', 'instrumentalness', 'liveness',\n",
    "       'valence']]\n",
    "y = music_features[['gender']].values"
   ]
  },
  {
   "cell_type": "code",
   "execution_count": null,
   "metadata": {
    "scrolled": true
   },
   "outputs": [],
   "source": [
    "g = sns.pairplot(music_features)"
   ]
  },
  {
   "cell_type": "code",
   "execution_count": 10,
   "metadata": {
    "collapsed": true
   },
   "outputs": [
    {
     "ename": "KeyboardInterrupt",
     "evalue": "",
     "output_type": "error",
     "traceback": [
      "\u001b[0;31m---------------------------------------------------------------------------\u001b[0m",
      "\u001b[0;31mKeyboardInterrupt\u001b[0m                         Traceback (most recent call last)",
      "\u001b[0;32m<ipython-input-10-84debe52c874>\u001b[0m in \u001b[0;36m<module>\u001b[0;34m()\u001b[0m\n\u001b[0;32m----> 1\u001b[0;31m \u001b[0mg\u001b[0m \u001b[0;34m=\u001b[0m \u001b[0msns\u001b[0m\u001b[0;34m.\u001b[0m\u001b[0mpairplot\u001b[0m\u001b[0;34m(\u001b[0m\u001b[0mmusic_features\u001b[0m\u001b[0;34m,\u001b[0m \u001b[0mhue\u001b[0m\u001b[0;34m=\u001b[0m\u001b[0;34m'gender'\u001b[0m\u001b[0;34m)\u001b[0m\u001b[0;34m\u001b[0m\u001b[0m\n\u001b[0m",
      "\u001b[0;32m~/anaconda3/lib/python3.6/site-packages/seaborn/axisgrid.py\u001b[0m in \u001b[0;36mpairplot\u001b[0;34m(data, hue, hue_order, palette, vars, x_vars, y_vars, kind, diag_kind, markers, size, aspect, dropna, plot_kws, diag_kws, grid_kws)\u001b[0m\n\u001b[1;32m   2039\u001b[0m                     \u001b[0mhue_order\u001b[0m\u001b[0;34m=\u001b[0m\u001b[0mhue_order\u001b[0m\u001b[0;34m,\u001b[0m \u001b[0mpalette\u001b[0m\u001b[0;34m=\u001b[0m\u001b[0mpalette\u001b[0m\u001b[0;34m,\u001b[0m\u001b[0;34m\u001b[0m\u001b[0m\n\u001b[1;32m   2040\u001b[0m                     \u001b[0mdiag_sharey\u001b[0m\u001b[0;34m=\u001b[0m\u001b[0mdiag_sharey\u001b[0m\u001b[0;34m,\u001b[0m\u001b[0;34m\u001b[0m\u001b[0m\n\u001b[0;32m-> 2041\u001b[0;31m                     size=size, aspect=aspect, dropna=dropna, **grid_kws)\n\u001b[0m\u001b[1;32m   2042\u001b[0m \u001b[0;34m\u001b[0m\u001b[0m\n\u001b[1;32m   2043\u001b[0m     \u001b[0;31m# Add the markers here as PairGrid has figured out how many levels of the\u001b[0m\u001b[0;34m\u001b[0m\u001b[0;34m\u001b[0m\u001b[0m\n",
      "\u001b[0;32m~/anaconda3/lib/python3.6/site-packages/seaborn/axisgrid.py\u001b[0m in \u001b[0;36m__init__\u001b[0;34m(self, data, hue, hue_order, palette, hue_kws, vars, x_vars, y_vars, diag_sharey, size, aspect, despine, dropna)\u001b[0m\n\u001b[1;32m   1268\u001b[0m         \u001b[0;32mif\u001b[0m \u001b[0mdespine\u001b[0m\u001b[0;34m:\u001b[0m\u001b[0;34m\u001b[0m\u001b[0m\n\u001b[1;32m   1269\u001b[0m             \u001b[0mutils\u001b[0m\u001b[0;34m.\u001b[0m\u001b[0mdespine\u001b[0m\u001b[0;34m(\u001b[0m\u001b[0mfig\u001b[0m\u001b[0;34m=\u001b[0m\u001b[0mfig\u001b[0m\u001b[0;34m)\u001b[0m\u001b[0;34m\u001b[0m\u001b[0m\n\u001b[0;32m-> 1270\u001b[0;31m         \u001b[0mfig\u001b[0m\u001b[0;34m.\u001b[0m\u001b[0mtight_layout\u001b[0m\u001b[0;34m(\u001b[0m\u001b[0;34m)\u001b[0m\u001b[0;34m\u001b[0m\u001b[0m\n\u001b[0m\u001b[1;32m   1271\u001b[0m \u001b[0;34m\u001b[0m\u001b[0m\n\u001b[1;32m   1272\u001b[0m     \u001b[0;32mdef\u001b[0m \u001b[0mmap\u001b[0m\u001b[0;34m(\u001b[0m\u001b[0mself\u001b[0m\u001b[0;34m,\u001b[0m \u001b[0mfunc\u001b[0m\u001b[0;34m,\u001b[0m \u001b[0;34m**\u001b[0m\u001b[0mkwargs\u001b[0m\u001b[0;34m)\u001b[0m\u001b[0;34m:\u001b[0m\u001b[0;34m\u001b[0m\u001b[0m\n",
      "\u001b[0;32m~/anaconda3/lib/python3.6/site-packages/matplotlib/figure.py\u001b[0m in \u001b[0;36mtight_layout\u001b[0;34m(self, renderer, pad, h_pad, w_pad, rect)\u001b[0m\n\u001b[1;32m   2028\u001b[0m         kwargs = get_tight_layout_figure(\n\u001b[1;32m   2029\u001b[0m             \u001b[0mself\u001b[0m\u001b[0;34m,\u001b[0m \u001b[0mself\u001b[0m\u001b[0;34m.\u001b[0m\u001b[0maxes\u001b[0m\u001b[0;34m,\u001b[0m \u001b[0msubplotspec_list\u001b[0m\u001b[0;34m,\u001b[0m \u001b[0mrenderer\u001b[0m\u001b[0;34m,\u001b[0m\u001b[0;34m\u001b[0m\u001b[0m\n\u001b[0;32m-> 2030\u001b[0;31m             pad=pad, h_pad=h_pad, w_pad=w_pad, rect=rect)\n\u001b[0m\u001b[1;32m   2031\u001b[0m         \u001b[0mself\u001b[0m\u001b[0;34m.\u001b[0m\u001b[0msubplots_adjust\u001b[0m\u001b[0;34m(\u001b[0m\u001b[0;34m**\u001b[0m\u001b[0mkwargs\u001b[0m\u001b[0;34m)\u001b[0m\u001b[0;34m\u001b[0m\u001b[0m\n\u001b[1;32m   2032\u001b[0m \u001b[0;34m\u001b[0m\u001b[0m\n",
      "\u001b[0;32m~/anaconda3/lib/python3.6/site-packages/matplotlib/tight_layout.py\u001b[0m in \u001b[0;36mget_tight_layout_figure\u001b[0;34m(fig, axes_list, subplotspec_list, renderer, pad, h_pad, w_pad, rect)\u001b[0m\n\u001b[1;32m    349\u001b[0m                                      \u001b[0msubplot_list\u001b[0m\u001b[0;34m=\u001b[0m\u001b[0msubplot_list\u001b[0m\u001b[0;34m,\u001b[0m\u001b[0;34m\u001b[0m\u001b[0m\n\u001b[1;32m    350\u001b[0m                                      \u001b[0max_bbox_list\u001b[0m\u001b[0;34m=\u001b[0m\u001b[0max_bbox_list\u001b[0m\u001b[0;34m,\u001b[0m\u001b[0;34m\u001b[0m\u001b[0m\n\u001b[0;32m--> 351\u001b[0;31m                                      pad=pad, h_pad=h_pad, w_pad=w_pad)\n\u001b[0m\u001b[1;32m    352\u001b[0m \u001b[0;34m\u001b[0m\u001b[0m\n\u001b[1;32m    353\u001b[0m     \u001b[0;32mif\u001b[0m \u001b[0mrect\u001b[0m \u001b[0;32mis\u001b[0m \u001b[0;32mnot\u001b[0m \u001b[0;32mNone\u001b[0m\u001b[0;34m:\u001b[0m\u001b[0;34m\u001b[0m\u001b[0m\n",
      "\u001b[0;32m~/anaconda3/lib/python3.6/site-packages/matplotlib/tight_layout.py\u001b[0m in \u001b[0;36mauto_adjust_subplotpars\u001b[0;34m(fig, renderer, nrows_ncols, num1num2_list, subplot_list, ax_bbox_list, pad, h_pad, w_pad, rect)\u001b[0m\n\u001b[1;32m    127\u001b[0m             \u001b[0;32mcontinue\u001b[0m\u001b[0;34m\u001b[0m\u001b[0m\n\u001b[1;32m    128\u001b[0m \u001b[0;34m\u001b[0m\u001b[0m\n\u001b[0;32m--> 129\u001b[0;31m         tight_bbox_raw = union([ax.get_tightbbox(renderer) for ax in subplots\n\u001b[0m\u001b[1;32m    130\u001b[0m                                 if ax.get_visible()])\n\u001b[1;32m    131\u001b[0m         tight_bbox = TransformedBbox(tight_bbox_raw,\n",
      "\u001b[0;32m~/anaconda3/lib/python3.6/site-packages/matplotlib/tight_layout.py\u001b[0m in \u001b[0;36m<listcomp>\u001b[0;34m(.0)\u001b[0m\n\u001b[1;32m    128\u001b[0m \u001b[0;34m\u001b[0m\u001b[0m\n\u001b[1;32m    129\u001b[0m         tight_bbox_raw = union([ax.get_tightbbox(renderer) for ax in subplots\n\u001b[0;32m--> 130\u001b[0;31m                                 if ax.get_visible()])\n\u001b[0m\u001b[1;32m    131\u001b[0m         tight_bbox = TransformedBbox(tight_bbox_raw,\n\u001b[1;32m    132\u001b[0m                                      fig.transFigure.inverted())\n",
      "\u001b[0;32m~/anaconda3/lib/python3.6/site-packages/matplotlib/axes/_base.py\u001b[0m in \u001b[0;36mget_tightbbox\u001b[0;34m(self, renderer, call_axes_locator)\u001b[0m\n\u001b[1;32m   4017\u001b[0m             \u001b[0mbb\u001b[0m\u001b[0;34m.\u001b[0m\u001b[0mappend\u001b[0m\u001b[0;34m(\u001b[0m\u001b[0mbb_xaxis\u001b[0m\u001b[0;34m)\u001b[0m\u001b[0;34m\u001b[0m\u001b[0m\n\u001b[1;32m   4018\u001b[0m \u001b[0;34m\u001b[0m\u001b[0m\n\u001b[0;32m-> 4019\u001b[0;31m         \u001b[0mbb_yaxis\u001b[0m \u001b[0;34m=\u001b[0m \u001b[0mself\u001b[0m\u001b[0;34m.\u001b[0m\u001b[0myaxis\u001b[0m\u001b[0;34m.\u001b[0m\u001b[0mget_tightbbox\u001b[0m\u001b[0;34m(\u001b[0m\u001b[0mrenderer\u001b[0m\u001b[0;34m)\u001b[0m\u001b[0;34m\u001b[0m\u001b[0m\n\u001b[0m\u001b[1;32m   4020\u001b[0m         \u001b[0;32mif\u001b[0m \u001b[0mbb_yaxis\u001b[0m\u001b[0;34m:\u001b[0m\u001b[0;34m\u001b[0m\u001b[0m\n\u001b[1;32m   4021\u001b[0m             \u001b[0mbb\u001b[0m\u001b[0;34m.\u001b[0m\u001b[0mappend\u001b[0m\u001b[0;34m(\u001b[0m\u001b[0mbb_yaxis\u001b[0m\u001b[0;34m)\u001b[0m\u001b[0;34m\u001b[0m\u001b[0m\n",
      "\u001b[0;32m~/anaconda3/lib/python3.6/site-packages/matplotlib/axis.py\u001b[0m in \u001b[0;36mget_tightbbox\u001b[0;34m(self, renderer)\u001b[0m\n\u001b[1;32m   1088\u001b[0m             \u001b[0;32mreturn\u001b[0m\u001b[0;34m\u001b[0m\u001b[0m\n\u001b[1;32m   1089\u001b[0m \u001b[0;34m\u001b[0m\u001b[0m\n\u001b[0;32m-> 1090\u001b[0;31m         \u001b[0mticks_to_draw\u001b[0m \u001b[0;34m=\u001b[0m \u001b[0mself\u001b[0m\u001b[0;34m.\u001b[0m\u001b[0m_update_ticks\u001b[0m\u001b[0;34m(\u001b[0m\u001b[0mrenderer\u001b[0m\u001b[0;34m)\u001b[0m\u001b[0;34m\u001b[0m\u001b[0m\n\u001b[0m\u001b[1;32m   1091\u001b[0m         ticklabelBoxes, ticklabelBoxes2 = self._get_tick_bboxes(ticks_to_draw,\n\u001b[1;32m   1092\u001b[0m                                                                 renderer)\n",
      "\u001b[0;32m~/anaconda3/lib/python3.6/site-packages/matplotlib/axis.py\u001b[0m in \u001b[0;36m_update_ticks\u001b[0;34m(self, renderer)\u001b[0m\n\u001b[1;32m    972\u001b[0m \u001b[0;34m\u001b[0m\u001b[0m\n\u001b[1;32m    973\u001b[0m         \u001b[0minterval\u001b[0m \u001b[0;34m=\u001b[0m \u001b[0mself\u001b[0m\u001b[0;34m.\u001b[0m\u001b[0mget_view_interval\u001b[0m\u001b[0;34m(\u001b[0m\u001b[0;34m)\u001b[0m\u001b[0;34m\u001b[0m\u001b[0m\n\u001b[0;32m--> 974\u001b[0;31m         \u001b[0mtick_tups\u001b[0m \u001b[0;34m=\u001b[0m \u001b[0mlist\u001b[0m\u001b[0;34m(\u001b[0m\u001b[0mself\u001b[0m\u001b[0;34m.\u001b[0m\u001b[0miter_ticks\u001b[0m\u001b[0;34m(\u001b[0m\u001b[0;34m)\u001b[0m\u001b[0;34m)\u001b[0m\u001b[0;34m\u001b[0m\u001b[0m\n\u001b[0m\u001b[1;32m    975\u001b[0m         \u001b[0;32mif\u001b[0m \u001b[0mself\u001b[0m\u001b[0;34m.\u001b[0m\u001b[0m_smart_bounds\u001b[0m \u001b[0;32mand\u001b[0m \u001b[0mtick_tups\u001b[0m\u001b[0;34m:\u001b[0m\u001b[0;34m\u001b[0m\u001b[0m\n\u001b[1;32m    976\u001b[0m             \u001b[0;31m# handle inverted limits\u001b[0m\u001b[0;34m\u001b[0m\u001b[0;34m\u001b[0m\u001b[0m\n",
      "\u001b[0;32m~/anaconda3/lib/python3.6/site-packages/matplotlib/axis.py\u001b[0m in \u001b[0;36miter_ticks\u001b[0;34m(self)\u001b[0m\n\u001b[1;32m    916\u001b[0m         \"\"\"\n\u001b[1;32m    917\u001b[0m         \u001b[0mmajorLocs\u001b[0m \u001b[0;34m=\u001b[0m \u001b[0mself\u001b[0m\u001b[0;34m.\u001b[0m\u001b[0mmajor\u001b[0m\u001b[0;34m.\u001b[0m\u001b[0mlocator\u001b[0m\u001b[0;34m(\u001b[0m\u001b[0;34m)\u001b[0m\u001b[0;34m\u001b[0m\u001b[0m\n\u001b[0;32m--> 918\u001b[0;31m         \u001b[0mmajorTicks\u001b[0m \u001b[0;34m=\u001b[0m \u001b[0mself\u001b[0m\u001b[0;34m.\u001b[0m\u001b[0mget_major_ticks\u001b[0m\u001b[0;34m(\u001b[0m\u001b[0mlen\u001b[0m\u001b[0;34m(\u001b[0m\u001b[0mmajorLocs\u001b[0m\u001b[0;34m)\u001b[0m\u001b[0;34m)\u001b[0m\u001b[0;34m\u001b[0m\u001b[0m\n\u001b[0m\u001b[1;32m    919\u001b[0m         \u001b[0mself\u001b[0m\u001b[0;34m.\u001b[0m\u001b[0mmajor\u001b[0m\u001b[0;34m.\u001b[0m\u001b[0mformatter\u001b[0m\u001b[0;34m.\u001b[0m\u001b[0mset_locs\u001b[0m\u001b[0;34m(\u001b[0m\u001b[0mmajorLocs\u001b[0m\u001b[0;34m)\u001b[0m\u001b[0;34m\u001b[0m\u001b[0m\n\u001b[1;32m    920\u001b[0m         majorLabels = [self.major.formatter(val, i)\n",
      "\u001b[0;32m~/anaconda3/lib/python3.6/site-packages/matplotlib/axis.py\u001b[0m in \u001b[0;36mget_major_ticks\u001b[0;34m(self, numticks)\u001b[0m\n\u001b[1;32m   1341\u001b[0m             \u001b[0;31m# update the new tick label properties from the old\u001b[0m\u001b[0;34m\u001b[0m\u001b[0;34m\u001b[0m\u001b[0m\n\u001b[1;32m   1342\u001b[0m             \u001b[0;32mfor\u001b[0m \u001b[0mi\u001b[0m \u001b[0;32min\u001b[0m \u001b[0mrange\u001b[0m\u001b[0;34m(\u001b[0m\u001b[0mnumticks\u001b[0m \u001b[0;34m-\u001b[0m \u001b[0mlen\u001b[0m\u001b[0;34m(\u001b[0m\u001b[0mself\u001b[0m\u001b[0;34m.\u001b[0m\u001b[0mmajorTicks\u001b[0m\u001b[0;34m)\u001b[0m\u001b[0;34m)\u001b[0m\u001b[0;34m:\u001b[0m\u001b[0;34m\u001b[0m\u001b[0m\n\u001b[0;32m-> 1343\u001b[0;31m                 \u001b[0mtick\u001b[0m \u001b[0;34m=\u001b[0m \u001b[0mself\u001b[0m\u001b[0;34m.\u001b[0m\u001b[0m_get_tick\u001b[0m\u001b[0;34m(\u001b[0m\u001b[0mmajor\u001b[0m\u001b[0;34m=\u001b[0m\u001b[0;32mTrue\u001b[0m\u001b[0;34m)\u001b[0m\u001b[0;34m\u001b[0m\u001b[0m\n\u001b[0m\u001b[1;32m   1344\u001b[0m                 \u001b[0mself\u001b[0m\u001b[0;34m.\u001b[0m\u001b[0mmajorTicks\u001b[0m\u001b[0;34m.\u001b[0m\u001b[0mappend\u001b[0m\u001b[0;34m(\u001b[0m\u001b[0mtick\u001b[0m\u001b[0;34m)\u001b[0m\u001b[0;34m\u001b[0m\u001b[0m\n\u001b[1;32m   1345\u001b[0m \u001b[0;34m\u001b[0m\u001b[0m\n",
      "\u001b[0;32m~/anaconda3/lib/python3.6/site-packages/matplotlib/axis.py\u001b[0m in \u001b[0;36m_get_tick\u001b[0;34m(self, major)\u001b[0m\n\u001b[1;32m   2095\u001b[0m         \u001b[0;32melse\u001b[0m\u001b[0;34m:\u001b[0m\u001b[0;34m\u001b[0m\u001b[0m\n\u001b[1;32m   2096\u001b[0m             \u001b[0mtick_kw\u001b[0m \u001b[0;34m=\u001b[0m \u001b[0mself\u001b[0m\u001b[0;34m.\u001b[0m\u001b[0m_minor_tick_kw\u001b[0m\u001b[0;34m\u001b[0m\u001b[0m\n\u001b[0;32m-> 2097\u001b[0;31m         \u001b[0;32mreturn\u001b[0m \u001b[0mYTick\u001b[0m\u001b[0;34m(\u001b[0m\u001b[0mself\u001b[0m\u001b[0;34m.\u001b[0m\u001b[0maxes\u001b[0m\u001b[0;34m,\u001b[0m \u001b[0;36m0\u001b[0m\u001b[0;34m,\u001b[0m \u001b[0;34m''\u001b[0m\u001b[0;34m,\u001b[0m \u001b[0mmajor\u001b[0m\u001b[0;34m=\u001b[0m\u001b[0mmajor\u001b[0m\u001b[0;34m,\u001b[0m \u001b[0;34m**\u001b[0m\u001b[0mtick_kw\u001b[0m\u001b[0;34m)\u001b[0m\u001b[0;34m\u001b[0m\u001b[0m\n\u001b[0m\u001b[1;32m   2098\u001b[0m \u001b[0;34m\u001b[0m\u001b[0m\n\u001b[1;32m   2099\u001b[0m     \u001b[0;32mdef\u001b[0m \u001b[0m_get_label\u001b[0m\u001b[0;34m(\u001b[0m\u001b[0mself\u001b[0m\u001b[0;34m)\u001b[0m\u001b[0;34m:\u001b[0m\u001b[0;34m\u001b[0m\u001b[0m\n",
      "\u001b[0;32m~/anaconda3/lib/python3.6/site-packages/matplotlib/axis.py\u001b[0m in \u001b[0;36m__init__\u001b[0;34m(self, axes, loc, label, size, width, color, tickdir, pad, labelsize, labelcolor, zorder, gridOn, tick1On, tick2On, label1On, label2On, major, labelrotation)\u001b[0m\n\u001b[1;32m    154\u001b[0m         \u001b[0mself\u001b[0m\u001b[0;34m.\u001b[0m\u001b[0mtick1line\u001b[0m \u001b[0;34m=\u001b[0m \u001b[0mself\u001b[0m\u001b[0;34m.\u001b[0m\u001b[0m_get_tick1line\u001b[0m\u001b[0;34m(\u001b[0m\u001b[0;34m)\u001b[0m\u001b[0;34m\u001b[0m\u001b[0m\n\u001b[1;32m    155\u001b[0m         \u001b[0mself\u001b[0m\u001b[0;34m.\u001b[0m\u001b[0mtick2line\u001b[0m \u001b[0;34m=\u001b[0m \u001b[0mself\u001b[0m\u001b[0;34m.\u001b[0m\u001b[0m_get_tick2line\u001b[0m\u001b[0;34m(\u001b[0m\u001b[0;34m)\u001b[0m\u001b[0;34m\u001b[0m\u001b[0m\n\u001b[0;32m--> 156\u001b[0;31m         \u001b[0mself\u001b[0m\u001b[0;34m.\u001b[0m\u001b[0mgridline\u001b[0m \u001b[0;34m=\u001b[0m \u001b[0mself\u001b[0m\u001b[0;34m.\u001b[0m\u001b[0m_get_gridline\u001b[0m\u001b[0;34m(\u001b[0m\u001b[0;34m)\u001b[0m\u001b[0;34m\u001b[0m\u001b[0m\n\u001b[0m\u001b[1;32m    157\u001b[0m \u001b[0;34m\u001b[0m\u001b[0m\n\u001b[1;32m    158\u001b[0m         \u001b[0mself\u001b[0m\u001b[0;34m.\u001b[0m\u001b[0mlabel1\u001b[0m \u001b[0;34m=\u001b[0m \u001b[0mself\u001b[0m\u001b[0;34m.\u001b[0m\u001b[0m_get_text1\u001b[0m\u001b[0;34m(\u001b[0m\u001b[0;34m)\u001b[0m\u001b[0;34m\u001b[0m\u001b[0m\n",
      "\u001b[0;32m~/anaconda3/lib/python3.6/site-packages/matplotlib/axis.py\u001b[0m in \u001b[0;36m_get_gridline\u001b[0;34m(self)\u001b[0m\n\u001b[1;32m    593\u001b[0m                           \u001b[0mlinewidth\u001b[0m\u001b[0;34m=\u001b[0m\u001b[0mrcParams\u001b[0m\u001b[0;34m[\u001b[0m\u001b[0;34m'grid.linewidth'\u001b[0m\u001b[0;34m]\u001b[0m\u001b[0;34m,\u001b[0m\u001b[0;34m\u001b[0m\u001b[0m\n\u001b[1;32m    594\u001b[0m                           \u001b[0malpha\u001b[0m\u001b[0;34m=\u001b[0m\u001b[0mrcParams\u001b[0m\u001b[0;34m[\u001b[0m\u001b[0;34m'grid.alpha'\u001b[0m\u001b[0;34m]\u001b[0m\u001b[0;34m,\u001b[0m\u001b[0;34m\u001b[0m\u001b[0m\n\u001b[0;32m--> 595\u001b[0;31m                           markersize=0)\n\u001b[0m\u001b[1;32m    596\u001b[0m \u001b[0;34m\u001b[0m\u001b[0m\n\u001b[1;32m    597\u001b[0m         \u001b[0ml\u001b[0m\u001b[0;34m.\u001b[0m\u001b[0mset_transform\u001b[0m\u001b[0;34m(\u001b[0m\u001b[0mself\u001b[0m\u001b[0;34m.\u001b[0m\u001b[0maxes\u001b[0m\u001b[0;34m.\u001b[0m\u001b[0mget_yaxis_transform\u001b[0m\u001b[0;34m(\u001b[0m\u001b[0mwhich\u001b[0m\u001b[0;34m=\u001b[0m\u001b[0;34m'grid'\u001b[0m\u001b[0;34m)\u001b[0m\u001b[0;34m)\u001b[0m\u001b[0;34m\u001b[0m\u001b[0m\n",
      "\u001b[0;32m~/anaconda3/lib/python3.6/site-packages/matplotlib/lines.py\u001b[0m in \u001b[0;36m__init__\u001b[0;34m(self, xdata, ydata, linewidth, linestyle, color, marker, markersize, markeredgewidth, markeredgecolor, markerfacecolor, markerfacecoloralt, fillstyle, antialiased, dash_capstyle, solid_capstyle, dash_joinstyle, solid_joinstyle, pickradius, drawstyle, markevery, **kwargs)\u001b[0m\n\u001b[1;32m    293\u001b[0m                              in zip(self._x, self._y)]))\n\u001b[1;32m    294\u001b[0m \u001b[0;34m\u001b[0m\u001b[0m\n\u001b[0;32m--> 295\u001b[0;31m     def __init__(self, xdata, ydata,\n\u001b[0m\u001b[1;32m    296\u001b[0m                  \u001b[0mlinewidth\u001b[0m\u001b[0;34m=\u001b[0m\u001b[0;32mNone\u001b[0m\u001b[0;34m,\u001b[0m  \u001b[0;31m# all Nones default to rc\u001b[0m\u001b[0;34m\u001b[0m\u001b[0m\n\u001b[1;32m    297\u001b[0m                  \u001b[0mlinestyle\u001b[0m\u001b[0;34m=\u001b[0m\u001b[0;32mNone\u001b[0m\u001b[0;34m,\u001b[0m\u001b[0;34m\u001b[0m\u001b[0m\n",
      "\u001b[0;31mKeyboardInterrupt\u001b[0m: "
     ]
    },
    {
     "data": {
      "image/png": "[encoded data removed]",
      "text/plain": [
       "<matplotlib.figure.Figure at 0x7fa3ec377f28>"
      ]
     },
     "metadata": {},
     "output_type": "display_data"
    }
   ],
   "source": [
    "g = sns.pairplot(X, hue='gender')"
   ]
  },
  {
   "cell_type": "markdown",
   "metadata": {},
   "source": [
    "### Dimensionality reduction and features selection for genres array and lyrics array\n",
    "\n",
    "Use few different methods to reduce number of features. Currently it is 5000 for lyrics and 600 for genres. Then try some classificators using different representations of the data.\n",
    "\n",
    "Methods for genres:  \n",
    " - chi2\n",
    " - PCA\n",
    "\n",
    "Methods for lyrics:  \n",
    " - SVD (Latent Semantic Analysis)\n",
    " - Non-negative matrix factorization\n",
    "\n",
    "\n"
   ]
  },
  {
   "cell_type": "code",
   "execution_count": 7,
   "metadata": {},
   "outputs": [],
   "source": [
    "genres = scipy.sparse.vstack(music_features['genres'])\n",
    "lyrics = scipy.sparse.vstack(music_features['lyrics'])"
   ]
  },
  {
   "cell_type": "code",
   "execution_count": 15,
   "metadata": {},
   "outputs": [],
   "source": [
    "k_best_10 = SelectKBest(chi2, 10)\n",
    "genres_10 = k_best_10.fit_transform(scipy.sparse.vstack(music_features['genres']),y)\n",
    "\n",
    "k_best_20 = SelectKBest(chi2, 20)\n",
    "genres_20 = k_best_20.fit_transform(scipy.sparse.vstack(music_features['genres']),y)\n",
    "\n",
    "k_best_60 = SelectKBest(chi2,60)\n",
    "genres_60 = k_best_60.fit_transform(scipy.sparse.vstack(music_features['genres']), y)"
   ]
  },
  {
   "cell_type": "code",
   "execution_count": 15,
   "metadata": {},
   "outputs": [],
   "source": [
    "\n",
    "pca = PCA(n_components=10)\n",
    "genres_pca10 = pca.fit(genres.toarray()).transform(genres.toarray())"
   ]
  },
  {
   "cell_type": "code",
   "execution_count": 16,
   "metadata": {},
   "outputs": [],
   "source": [
    "\n",
    "\n",
    "svd = TruncatedSVD(100)\n",
    "normalizer = Normalizer(copy=False)\n",
    "lsa = make_pipeline(svd, normalizer)\n",
    "\n",
    "lyrics_lsa = lsa.fit_transform(lyrics)"
   ]
  },
  {
   "cell_type": "code",
   "execution_count": 17,
   "metadata": {},
   "outputs": [],
   "source": [
    "nmf = NMF(n_components=100, random_state=0)\n",
    "lyrics_nmf = nmf.fit_transform(lyrics)"
   ]
  },
  {
   "cell_type": "markdown",
   "metadata": {},
   "source": [
    "# Classification\n",
    "\n",
    "The aim of this part is to find out if it is possible to guess artists' gender and age based on their songs. Different approaches to problem will be tested: different classification algorithms, different combinations of datasets(music features, lyrics, genres)."
   ]
  },
  {
   "cell_type": "markdown",
   "metadata": {},
   "source": [
    "## Gender classification\n",
    "'dumb' random classification will be used to set the base values of classification accuracy. Accuracy of tested algorithms will be compared with this value."
   ]
  },
  {
   "cell_type": "code",
   "execution_count": 29,
   "metadata": {},
   "outputs": [
    {
     "name": "stdout",
     "output_type": "stream",
     "text": [
      "           key\n",
      "gender        \n",
      "1.0      28566\n",
      "2.0     101116\n"
     ]
    }
   ],
   "source": [
    "#count frequencies of genders\n",
    "gender_freq = music_features[['key', 'gender']].groupby('gender').count()\n",
    "print(gender_freq)"
   ]
  },
  {
   "cell_type": "code",
   "execution_count": 24,
   "metadata": {},
   "outputs": [],
   "source": [
    "#there are four possible values of genders - to make it easier choose only 'Male' and 'Female' values\n",
    "#unknown value is often asociated with groups, bands, etc.\n",
    "dataset_genders = music_features.drop(music_features[(music_features.gender != 1) & (music_features.gender != 2)].index)\n",
    "gender_freq = dataset_genders.groupby('gender').count()\n"
   ]
  },
  {
   "cell_type": "code",
   "execution_count": 30,
   "metadata": {},
   "outputs": [],
   "source": [
    "female_number = gender_freq['key'][1]\n",
    "male_number = gender_freq['key'][2]\n",
    "total = female_number + male_number\n",
    "\n",
    "f_ratio = female_number/total\n",
    "m_ratio = male_number/total"
   ]
  },
  {
   "cell_type": "code",
   "execution_count": 31,
   "metadata": {},
   "outputs": [
    {
     "name": "stdout",
     "output_type": "stream",
     "text": [
      "0.2202772936876359 0.7797227063123641\n"
     ]
    }
   ],
   "source": [
    "print(f_ratio, m_ratio)"
   ]
  },
  {
   "cell_type": "code",
   "execution_count": 32,
   "metadata": {},
   "outputs": [],
   "source": [
    "#function to 'predict' one of two values with biased frequency\n",
    "\n",
    "# assume sum of bias is 1\n",
    "def pred(bound):\n",
    "    randNumb = random.random() # in [0,1)\n",
    "    if randNumb <= bound:\n",
    "        return 1\n",
    "    else:\n",
    "        return 2\n"
   ]
  },
  {
   "cell_type": "code",
   "execution_count": 33,
   "metadata": {},
   "outputs": [
    {
     "name": "stdout",
     "output_type": "stream",
     "text": [
      "Female ratio is 0.21\n"
     ]
    }
   ],
   "source": [
    "#test the prediction function\n",
    "female_n = 0\n",
    "for i in range(0,1000):\n",
    "    res = pred(f_ratio)\n",
    "    if res == 1:\n",
    "        female_n += 1\n",
    "        \n",
    "print(\"Female ratio is \" + str(female_n/1000))"
   ]
  },
  {
   "cell_type": "code",
   "execution_count": 37,
   "metadata": {},
   "outputs": [],
   "source": [
    "correctly_classified = 0\n",
    "for index, artist in dataset_genders.iterrows():\n",
    "    predicted_gender = pred(f_ratio)\n",
    "    if artist.gender == predicted_gender:\n",
    "        correctly_classified += 1"
   ]
  },
  {
   "cell_type": "code",
   "execution_count": 38,
   "metadata": {},
   "outputs": [],
   "source": [
    "baseline_accuracy = correctly_classified/len(dataset_genders)"
   ]
  },
  {
   "cell_type": "code",
   "execution_count": 39,
   "metadata": {},
   "outputs": [
    {
     "name": "stdout",
     "output_type": "stream",
     "text": [
      "0.6564519362748878\n"
     ]
    }
   ],
   "source": [
    "print(baseline_accuracy)"
   ]
  },
  {
   "cell_type": "markdown",
   "metadata": {},
   "source": [
    "### Classification using only music features"
   ]
  },
  {
   "cell_type": "code",
   "execution_count": 8,
   "metadata": {},
   "outputs": [],
   "source": [
    "data = music_features[['danceability', 'energy', 'key', 'loudness', 'mode',\n",
    "       'speechiness', 'acousticness', 'instrumentalness', 'liveness',\n",
    "       'valence', 'gender']].dropna()\n",
    "data = data[ (data.gender.isin([1,2]))]"
   ]
  },
  {
   "cell_type": "code",
   "execution_count": 9,
   "metadata": {},
   "outputs": [
    {
     "data": {
      "text/plain": [
       "(129682, 11)"
      ]
     },
     "execution_count": 9,
     "metadata": {},
     "output_type": "execute_result"
    }
   ],
   "source": [
    "data.shape"
   ]
  },
  {
   "cell_type": "code",
   "execution_count": 10,
   "metadata": {},
   "outputs": [
    {
     "name": "stdout",
     "output_type": "stream",
     "text": [
      "(129682, 10) (129682, 1)\n"
     ]
    }
   ],
   "source": [
    "X = data[['danceability', 'energy', 'key', 'loudness', 'mode',\n",
    "       'speechiness', 'acousticness', 'instrumentalness', 'liveness',\n",
    "       'valence']].values\n",
    "y = data[['gender']].values\n",
    "y=y-1\n",
    "print(X.shape, y.shape)"
   ]
  },
  {
   "cell_type": "code",
   "execution_count": 11,
   "metadata": {},
   "outputs": [],
   "source": [
    "y=y.astype('int')\n",
    "y=y.reshape((y.shape[0],))"
   ]
  },
  {
   "cell_type": "code",
   "execution_count": 12,
   "metadata": {},
   "outputs": [],
   "source": [
    "X_train, X_test, y_train, y_test = train_test_split(X, y, test_size=0.3, random_state=42,stratify=y)"
   ]
  },
  {
   "cell_type": "code",
   "execution_count": 13,
   "metadata": {},
   "outputs": [],
   "source": [
    "def tp(y_true, y_pred): return confusion_matrix(y_true, y_pred)[0, 0]\n",
    "def tn(y_true, y_pred): return confusion_matrix(y_true, y_pred)[0, 1]\n",
    "def fp(y_true, y_pred): return confusion_matrix(y_true, y_pred)[1, 0]\n",
    "def fn(y_true, y_pred): return confusion_matrix(y_true, y_pred)[1, 1]"
   ]
  },
  {
   "cell_type": "markdown",
   "metadata": {},
   "source": [
    "#### Logistic Regression"
   ]
  },
  {
   "cell_type": "code",
   "execution_count": 46,
   "metadata": {},
   "outputs": [
    {
     "data": {
      "text/plain": [
       "GridSearchCV(cv=10, error_score='raise',\n",
       "       estimator=LogisticRegression(C=1.0, class_weight='balanced', dual=False,\n",
       "          fit_intercept=True, intercept_scaling=1, max_iter=200,\n",
       "          multi_class='ovr', n_jobs=1, penalty='l2', random_state=None,\n",
       "          solver='liblinear', tol=0.0001, verbose=0, warm_start=False),\n",
       "       fit_params=None, iid=True, n_jobs=-1,\n",
       "       param_grid={'C': [1, 3, 7, 10], 'penalty': ['l2', 'l2'], 'class_weight': ['balanced', {0: 4, 1: 1}, {0: 10, 1: 1}]},\n",
       "       pre_dispatch='2*n_jobs', refit='Accuracy',\n",
       "       return_train_score='warn',\n",
       "       scoring={'AUC': 'roc_auc', 'Accuracy': make_scorer(accuracy_score), 'precision': 'precision', 'recall': 'recall', 'tp': make_scorer(tp), 'tn': make_scorer(tn), 'fp': make_scorer(fp), 'fn': make_scorer(fn)},\n",
       "       verbose=0)"
      ]
     },
     "execution_count": 46,
     "metadata": {},
     "output_type": "execute_result"
    }
   ],
   "source": [
    "parameters = {'C':[1,3,7,10], 'penalty': ['l2', 'l2'], 'class_weight': ['balanced',{0:4,1:1}, {0:10,1:1}]}\n",
    "scoring = {'AUC': 'roc_auc', 'Accuracy': make_scorer(accuracy_score), 'precision': 'precision', 'recall': 'recall',\n",
    "            'tp' : make_scorer(tp), 'tn' : make_scorer(tn),\n",
    "           'fp' : make_scorer(fp), 'fn' : make_scorer(fn)}\n",
    "log_reg = LogisticRegression(max_iter=200,class_weight='balanced')\n",
    "clf = GridSearchCV(log_reg, parameters,cv=10, scoring=scoring, refit = 'Accuracy', n_jobs=-1)\n",
    "clf.fit(X_train, y_train)"
   ]
  },
  {
   "cell_type": "code",
   "execution_count": 47,
   "metadata": {},
   "outputs": [],
   "source": [
    "y_predicted = clf.predict(X_test)\n",
    "class_report = classification_report(y_test, y_predicted)"
   ]
  },
  {
   "cell_type": "code",
   "execution_count": 48,
   "metadata": {},
   "outputs": [
    {
     "name": "stdout",
     "output_type": "stream",
     "text": [
      "             precision    recall  f1-score   support\n",
      "\n",
      "          0       0.33      0.67      0.45      8570\n",
      "          1       0.87      0.62      0.73     30335\n",
      "\n",
      "avg / total       0.75      0.63      0.66     38905\n",
      "\n"
     ]
    }
   ],
   "source": [
    "print(class_report)"
   ]
  },
  {
   "cell_type": "code",
   "execution_count": 61,
   "metadata": {},
   "outputs": [
    {
     "data": {
      "text/plain": [
       "array([[ 5740,  2830],\n",
       "       [11467, 18868]])"
      ]
     },
     "execution_count": 61,
     "metadata": {},
     "output_type": "execute_result"
    }
   ],
   "source": [
    "confusion_matrix(y_test, y_predicted)"
   ]
  },
  {
   "cell_type": "code",
   "execution_count": 62,
   "metadata": {},
   "outputs": [
    {
     "name": "stdout",
     "output_type": "stream",
     "text": [
      "0.6325151008867754\n"
     ]
    }
   ],
   "source": [
    "print(accuracy_score(y_test, y_predicted))"
   ]
  },
  {
   "cell_type": "code",
   "execution_count": null,
   "metadata": {
    "scrolled": true
   },
   "outputs": [],
   "source": [
    "pickle.dump(clf,open(\"results/logreg_cv_report.pkl\", 'wb'))\n",
    "pickle.dump(class_report, open(\"results/logreg_class_report\", \"wb\"))"
   ]
  },
  {
   "cell_type": "markdown",
   "metadata": {},
   "source": [
    "#### SVM"
   ]
  },
  {
   "cell_type": "code",
   "execution_count": 14,
   "metadata": {},
   "outputs": [
    {
     "name": "stderr",
     "output_type": "stream",
     "text": [
      "Process ForkPoolWorker-24:\n",
      "Process ForkPoolWorker-22:\n",
      "Process ForkPoolWorker-23:\n",
      "Process ForkPoolWorker-21:\n",
      "Traceback (most recent call last):\n",
      "Traceback (most recent call last):\n",
      "Traceback (most recent call last):\n",
      "  File \"/home/marta/anaconda3/lib/python3.6/multiprocessing/process.py\", line 258, in _bootstrap\n",
      "    self.run()\n",
      "  File \"/home/marta/anaconda3/lib/python3.6/multiprocessing/process.py\", line 258, in _bootstrap\n",
      "    self.run()\n",
      "  File \"/home/marta/anaconda3/lib/python3.6/multiprocessing/process.py\", line 258, in _bootstrap\n",
      "    self.run()\n",
      "  File \"/home/marta/anaconda3/lib/python3.6/multiprocessing/process.py\", line 93, in run\n",
      "    self._target(*self._args, **self._kwargs)\n",
      "  File \"/home/marta/anaconda3/lib/python3.6/multiprocessing/process.py\", line 93, in run\n",
      "    self._target(*self._args, **self._kwargs)\n",
      "  File \"/home/marta/anaconda3/lib/python3.6/multiprocessing/process.py\", line 93, in run\n",
      "    self._target(*self._args, **self._kwargs)\n",
      "  File \"/home/marta/anaconda3/lib/python3.6/multiprocessing/pool.py\", line 108, in worker\n",
      "    task = get()\n",
      "  File \"/home/marta/anaconda3/lib/python3.6/site-packages/sklearn/externals/joblib/pool.py\", line 360, in get\n",
      "    racquire()\n",
      "  File \"/home/marta/anaconda3/lib/python3.6/multiprocessing/pool.py\", line 108, in worker\n",
      "    task = get()\n",
      "  File \"/home/marta/anaconda3/lib/python3.6/multiprocessing/pool.py\", line 108, in worker\n",
      "    task = get()\n",
      "  File \"/home/marta/anaconda3/lib/python3.6/site-packages/sklearn/externals/joblib/pool.py\", line 360, in get\n",
      "    racquire()\n",
      "KeyboardInterrupt\n",
      "  File \"/home/marta/anaconda3/lib/python3.6/site-packages/sklearn/externals/joblib/pool.py\", line 360, in get\n",
      "    racquire()\n",
      "Traceback (most recent call last):\n",
      "KeyboardInterrupt\n"
     ]
    },
    {
     "ename": "KeyboardInterrupt",
     "evalue": "",
     "output_type": "error",
     "traceback": [
      "\u001b[0;31m---------------------------------------------------------------------------\u001b[0m",
      "\u001b[0;31mKeyboardInterrupt\u001b[0m                         Traceback (most recent call last)",
      "\u001b[0;32m<ipython-input-14-4d6be71f665a>\u001b[0m in \u001b[0;36m<module>\u001b[0;34m()\u001b[0m\n\u001b[1;32m      7\u001b[0m \u001b[0msvm\u001b[0m \u001b[0;34m=\u001b[0m \u001b[0mSVC\u001b[0m\u001b[0;34m(\u001b[0m\u001b[0;34m)\u001b[0m\u001b[0;34m\u001b[0m\u001b[0m\n\u001b[1;32m      8\u001b[0m \u001b[0mclf_svm\u001b[0m \u001b[0;34m=\u001b[0m \u001b[0mGridSearchCV\u001b[0m\u001b[0;34m(\u001b[0m\u001b[0msvm\u001b[0m\u001b[0;34m,\u001b[0m \u001b[0mparameters\u001b[0m\u001b[0;34m,\u001b[0m\u001b[0mcv\u001b[0m\u001b[0;34m=\u001b[0m\u001b[0;36m5\u001b[0m\u001b[0;34m,\u001b[0m \u001b[0mscoring\u001b[0m\u001b[0;34m=\u001b[0m\u001b[0mscoring\u001b[0m\u001b[0;34m,\u001b[0m \u001b[0mrefit\u001b[0m \u001b[0;34m=\u001b[0m \u001b[0;34m'Accuracy'\u001b[0m\u001b[0;34m,\u001b[0m \u001b[0mn_jobs\u001b[0m\u001b[0;34m=\u001b[0m\u001b[0;34m-\u001b[0m\u001b[0;36m1\u001b[0m\u001b[0;34m)\u001b[0m\u001b[0;34m\u001b[0m\u001b[0m\n\u001b[0;32m----> 9\u001b[0;31m \u001b[0mclf_svm\u001b[0m\u001b[0;34m.\u001b[0m\u001b[0mfit\u001b[0m\u001b[0;34m(\u001b[0m\u001b[0mX_train\u001b[0m\u001b[0;34m,\u001b[0m \u001b[0my_train\u001b[0m\u001b[0;34m)\u001b[0m\u001b[0;34m\u001b[0m\u001b[0m\n\u001b[0m",
      "\u001b[0;32m~/anaconda3/lib/python3.6/site-packages/sklearn/model_selection/_search.py\u001b[0m in \u001b[0;36mfit\u001b[0;34m(self, X, y, groups, **fit_params)\u001b[0m\n\u001b[1;32m    637\u001b[0m                                   error_score=self.error_score)\n\u001b[1;32m    638\u001b[0m           for parameters, (train, test) in product(candidate_params,\n\u001b[0;32m--> 639\u001b[0;31m                                                    cv.split(X, y, groups)))\n\u001b[0m\u001b[1;32m    640\u001b[0m \u001b[0;34m\u001b[0m\u001b[0m\n\u001b[1;32m    641\u001b[0m         \u001b[0;31m# if one choose to see train score, \"out\" will contain train score info\u001b[0m\u001b[0;34m\u001b[0m\u001b[0;34m\u001b[0m\u001b[0m\n",
      "\u001b[0;32m~/anaconda3/lib/python3.6/site-packages/sklearn/externals/joblib/parallel.py\u001b[0m in \u001b[0;36m__call__\u001b[0;34m(self, iterable)\u001b[0m\n\u001b[1;32m    787\u001b[0m                 \u001b[0;31m# consumption.\u001b[0m\u001b[0;34m\u001b[0m\u001b[0;34m\u001b[0m\u001b[0m\n\u001b[1;32m    788\u001b[0m                 \u001b[0mself\u001b[0m\u001b[0;34m.\u001b[0m\u001b[0m_iterating\u001b[0m \u001b[0;34m=\u001b[0m \u001b[0;32mFalse\u001b[0m\u001b[0;34m\u001b[0m\u001b[0m\n\u001b[0;32m--> 789\u001b[0;31m             \u001b[0mself\u001b[0m\u001b[0;34m.\u001b[0m\u001b[0mretrieve\u001b[0m\u001b[0;34m(\u001b[0m\u001b[0;34m)\u001b[0m\u001b[0;34m\u001b[0m\u001b[0m\n\u001b[0m\u001b[1;32m    790\u001b[0m             \u001b[0;31m# Make sure that we get a last message telling us we are done\u001b[0m\u001b[0;34m\u001b[0m\u001b[0;34m\u001b[0m\u001b[0m\n\u001b[1;32m    791\u001b[0m             \u001b[0melapsed_time\u001b[0m \u001b[0;34m=\u001b[0m \u001b[0mtime\u001b[0m\u001b[0;34m.\u001b[0m\u001b[0mtime\u001b[0m\u001b[0;34m(\u001b[0m\u001b[0;34m)\u001b[0m \u001b[0;34m-\u001b[0m \u001b[0mself\u001b[0m\u001b[0;34m.\u001b[0m\u001b[0m_start_time\u001b[0m\u001b[0;34m\u001b[0m\u001b[0m\n",
      "\u001b[0;32m~/anaconda3/lib/python3.6/site-packages/sklearn/externals/joblib/parallel.py\u001b[0m in \u001b[0;36mretrieve\u001b[0;34m(self)\u001b[0m\n\u001b[1;32m    697\u001b[0m             \u001b[0;32mtry\u001b[0m\u001b[0;34m:\u001b[0m\u001b[0;34m\u001b[0m\u001b[0m\n\u001b[1;32m    698\u001b[0m                 \u001b[0;32mif\u001b[0m \u001b[0mgetattr\u001b[0m\u001b[0;34m(\u001b[0m\u001b[0mself\u001b[0m\u001b[0;34m.\u001b[0m\u001b[0m_backend\u001b[0m\u001b[0;34m,\u001b[0m \u001b[0;34m'supports_timeout'\u001b[0m\u001b[0;34m,\u001b[0m \u001b[0;32mFalse\u001b[0m\u001b[0;34m)\u001b[0m\u001b[0;34m:\u001b[0m\u001b[0;34m\u001b[0m\u001b[0m\n\u001b[0;32m--> 699\u001b[0;31m                     \u001b[0mself\u001b[0m\u001b[0;34m.\u001b[0m\u001b[0m_output\u001b[0m\u001b[0;34m.\u001b[0m\u001b[0mextend\u001b[0m\u001b[0;34m(\u001b[0m\u001b[0mjob\u001b[0m\u001b[0;34m.\u001b[0m\u001b[0mget\u001b[0m\u001b[0;34m(\u001b[0m\u001b[0mtimeout\u001b[0m\u001b[0;34m=\u001b[0m\u001b[0mself\u001b[0m\u001b[0;34m.\u001b[0m\u001b[0mtimeout\u001b[0m\u001b[0;34m)\u001b[0m\u001b[0;34m)\u001b[0m\u001b[0;34m\u001b[0m\u001b[0m\n\u001b[0m\u001b[1;32m    700\u001b[0m                 \u001b[0;32melse\u001b[0m\u001b[0;34m:\u001b[0m\u001b[0;34m\u001b[0m\u001b[0m\n\u001b[1;32m    701\u001b[0m                     \u001b[0mself\u001b[0m\u001b[0;34m.\u001b[0m\u001b[0m_output\u001b[0m\u001b[0;34m.\u001b[0m\u001b[0mextend\u001b[0m\u001b[0;34m(\u001b[0m\u001b[0mjob\u001b[0m\u001b[0;34m.\u001b[0m\u001b[0mget\u001b[0m\u001b[0;34m(\u001b[0m\u001b[0;34m)\u001b[0m\u001b[0;34m)\u001b[0m\u001b[0;34m\u001b[0m\u001b[0m\n",
      "\u001b[0;32m~/anaconda3/lib/python3.6/multiprocessing/pool.py\u001b[0m in \u001b[0;36mget\u001b[0;34m(self, timeout)\u001b[0m\n\u001b[1;32m    636\u001b[0m \u001b[0;34m\u001b[0m\u001b[0m\n\u001b[1;32m    637\u001b[0m     \u001b[0;32mdef\u001b[0m \u001b[0mget\u001b[0m\u001b[0;34m(\u001b[0m\u001b[0mself\u001b[0m\u001b[0;34m,\u001b[0m \u001b[0mtimeout\u001b[0m\u001b[0;34m=\u001b[0m\u001b[0;32mNone\u001b[0m\u001b[0;34m)\u001b[0m\u001b[0;34m:\u001b[0m\u001b[0;34m\u001b[0m\u001b[0m\n\u001b[0;32m--> 638\u001b[0;31m         \u001b[0mself\u001b[0m\u001b[0;34m.\u001b[0m\u001b[0mwait\u001b[0m\u001b[0;34m(\u001b[0m\u001b[0mtimeout\u001b[0m\u001b[0;34m)\u001b[0m\u001b[0;34m\u001b[0m\u001b[0m\n\u001b[0m\u001b[1;32m    639\u001b[0m         \u001b[0;32mif\u001b[0m \u001b[0;32mnot\u001b[0m \u001b[0mself\u001b[0m\u001b[0;34m.\u001b[0m\u001b[0mready\u001b[0m\u001b[0;34m(\u001b[0m\u001b[0;34m)\u001b[0m\u001b[0;34m:\u001b[0m\u001b[0;34m\u001b[0m\u001b[0m\n\u001b[1;32m    640\u001b[0m             \u001b[0;32mraise\u001b[0m \u001b[0mTimeoutError\u001b[0m\u001b[0;34m\u001b[0m\u001b[0m\n",
      "\u001b[0;32m~/anaconda3/lib/python3.6/multiprocessing/pool.py\u001b[0m in \u001b[0;36mwait\u001b[0;34m(self, timeout)\u001b[0m\n\u001b[1;32m    633\u001b[0m \u001b[0;34m\u001b[0m\u001b[0m\n\u001b[1;32m    634\u001b[0m     \u001b[0;32mdef\u001b[0m \u001b[0mwait\u001b[0m\u001b[0;34m(\u001b[0m\u001b[0mself\u001b[0m\u001b[0;34m,\u001b[0m \u001b[0mtimeout\u001b[0m\u001b[0;34m=\u001b[0m\u001b[0;32mNone\u001b[0m\u001b[0;34m)\u001b[0m\u001b[0;34m:\u001b[0m\u001b[0;34m\u001b[0m\u001b[0m\n\u001b[0;32m--> 635\u001b[0;31m         \u001b[0mself\u001b[0m\u001b[0;34m.\u001b[0m\u001b[0m_event\u001b[0m\u001b[0;34m.\u001b[0m\u001b[0mwait\u001b[0m\u001b[0;34m(\u001b[0m\u001b[0mtimeout\u001b[0m\u001b[0;34m)\u001b[0m\u001b[0;34m\u001b[0m\u001b[0m\n\u001b[0m\u001b[1;32m    636\u001b[0m \u001b[0;34m\u001b[0m\u001b[0m\n\u001b[1;32m    637\u001b[0m     \u001b[0;32mdef\u001b[0m \u001b[0mget\u001b[0m\u001b[0;34m(\u001b[0m\u001b[0mself\u001b[0m\u001b[0;34m,\u001b[0m \u001b[0mtimeout\u001b[0m\u001b[0;34m=\u001b[0m\u001b[0;32mNone\u001b[0m\u001b[0;34m)\u001b[0m\u001b[0;34m:\u001b[0m\u001b[0;34m\u001b[0m\u001b[0m\n",
      "\u001b[0;32m~/anaconda3/lib/python3.6/threading.py\u001b[0m in \u001b[0;36mwait\u001b[0;34m(self, timeout)\u001b[0m\n\u001b[1;32m    549\u001b[0m             \u001b[0msignaled\u001b[0m \u001b[0;34m=\u001b[0m \u001b[0mself\u001b[0m\u001b[0;34m.\u001b[0m\u001b[0m_flag\u001b[0m\u001b[0;34m\u001b[0m\u001b[0m\n\u001b[1;32m    550\u001b[0m             \u001b[0;32mif\u001b[0m \u001b[0;32mnot\u001b[0m \u001b[0msignaled\u001b[0m\u001b[0;34m:\u001b[0m\u001b[0;34m\u001b[0m\u001b[0m\n\u001b[0;32m--> 551\u001b[0;31m                 \u001b[0msignaled\u001b[0m \u001b[0;34m=\u001b[0m \u001b[0mself\u001b[0m\u001b[0;34m.\u001b[0m\u001b[0m_cond\u001b[0m\u001b[0;34m.\u001b[0m\u001b[0mwait\u001b[0m\u001b[0;34m(\u001b[0m\u001b[0mtimeout\u001b[0m\u001b[0;34m)\u001b[0m\u001b[0;34m\u001b[0m\u001b[0m\n\u001b[0m\u001b[1;32m    552\u001b[0m             \u001b[0;32mreturn\u001b[0m \u001b[0msignaled\u001b[0m\u001b[0;34m\u001b[0m\u001b[0m\n\u001b[1;32m    553\u001b[0m \u001b[0;34m\u001b[0m\u001b[0m\n",
      "\u001b[0;32m~/anaconda3/lib/python3.6/threading.py\u001b[0m in \u001b[0;36mwait\u001b[0;34m(self, timeout)\u001b[0m\n\u001b[1;32m    293\u001b[0m         \u001b[0;32mtry\u001b[0m\u001b[0;34m:\u001b[0m    \u001b[0;31m# restore state no matter what (e.g., KeyboardInterrupt)\u001b[0m\u001b[0;34m\u001b[0m\u001b[0m\n\u001b[1;32m    294\u001b[0m             \u001b[0;32mif\u001b[0m \u001b[0mtimeout\u001b[0m \u001b[0;32mis\u001b[0m \u001b[0;32mNone\u001b[0m\u001b[0;34m:\u001b[0m\u001b[0;34m\u001b[0m\u001b[0m\n\u001b[0;32m--> 295\u001b[0;31m                 \u001b[0mwaiter\u001b[0m\u001b[0;34m.\u001b[0m\u001b[0macquire\u001b[0m\u001b[0;34m(\u001b[0m\u001b[0;34m)\u001b[0m\u001b[0;34m\u001b[0m\u001b[0m\n\u001b[0m\u001b[1;32m    296\u001b[0m                 \u001b[0mgotit\u001b[0m \u001b[0;34m=\u001b[0m \u001b[0;32mTrue\u001b[0m\u001b[0;34m\u001b[0m\u001b[0m\n\u001b[1;32m    297\u001b[0m             \u001b[0;32melse\u001b[0m\u001b[0;34m:\u001b[0m\u001b[0;34m\u001b[0m\u001b[0m\n",
      "\u001b[0;31mKeyboardInterrupt\u001b[0m: "
     ]
    }
   ],
   "source": [
    "#parameters = {'C':[1,10], 'gamma': [1e-3, 'auto'],\n",
    "#              'class_weight': ['balanced']}\n",
    "parameters = {'C':[1], 'gamma': [ 'auto'],\n",
    "              'class_weight': ['balanced']}\n",
    "scoring = {'AUC': 'roc_auc', 'Accuracy': make_scorer(accuracy_score), 'precision': 'precision', 'recall': 'recall',\n",
    "            'tp' : make_scorer(tp), 'tn' : make_scorer(tn),\n",
    "           'fp' : make_scorer(fp), 'fn' : make_scorer(fn)}\n",
    "\n",
    "svm = SVC()\n",
    "clf_svm = GridSearchCV(svm, parameters,cv=5, scoring=scoring, refit = 'Accuracy', n_jobs=-1)\n",
    "clf_svm.fit(X_train, y_train)"
   ]
  },
  {
   "cell_type": "code",
   "execution_count": null,
   "metadata": {},
   "outputs": [],
   "source": [
    "clf = SVC(class_weight='balanced')\n",
    "clf.fit(X_train, y_train)"
   ]
  },
  {
   "cell_type": "code",
   "execution_count": null,
   "metadata": {},
   "outputs": [],
   "source": [
    "y_pred = clf.predict(X_test)\n",
    "print(classification_report(y_test, y_pred))"
   ]
  },
  {
   "cell_type": "code",
   "execution_count": null,
   "metadata": {},
   "outputs": [],
   "source": [
    "confusion_matrix(y_test, y_pred)"
   ]
  },
  {
   "cell_type": "code",
   "execution_count": null,
   "metadata": {},
   "outputs": [],
   "source": [
    "pickle.dump(clf,open(\"results/svm_cv_report.pkl\", 'wb'))\n",
    "pickle.dump(class_report, open(\"results/svm_class_report\", \"wb\"))"
   ]
  },
  {
   "cell_type": "markdown",
   "metadata": {},
   "source": [
    "#### Random Forest"
   ]
  },
  {
   "cell_type": "code",
   "execution_count": 50,
   "metadata": {},
   "outputs": [
    {
     "data": {
      "text/plain": [
       "GridSearchCV(cv=5, error_score='raise',\n",
       "       estimator=RandomForestClassifier(bootstrap=True, class_weight='balanced',\n",
       "            criterion='gini', max_depth=None, max_features='auto',\n",
       "            max_leaf_nodes=None, min_impurity_decrease=0.0,\n",
       "            min_impurity_split=None, min_samples_leaf=1,\n",
       "            min_samples_split=2, min_weight_fraction_leaf=0.0,\n",
       "            n_estimators=10, n_jobs=1, oob_score=False, random_state=None,\n",
       "            verbose=0, warm_start=False),\n",
       "       fit_params=None, iid=True, n_jobs=12,\n",
       "       param_grid={'n_estimators': [100, 400, 600], 'max_features': ['auto', None], 'class_weight': ['balanced', {0: 10, 1: 1}]},\n",
       "       pre_dispatch='2*n_jobs', refit='Accuracy',\n",
       "       return_train_score='warn',\n",
       "       scoring={'AUC': 'roc_auc', 'Accuracy': make_scorer(accuracy_score), 'precision': 'precision', 'recall': 'recall', 'tp': make_scorer(tp), 'tn': make_scorer(tn), 'fp': make_scorer(fp), 'fn': make_scorer(fn)},\n",
       "       verbose=0)"
      ]
     },
     "execution_count": 50,
     "metadata": {},
     "output_type": "execute_result"
    }
   ],
   "source": [
    "parameters = {'n_estimators':[100,400, 600], 'max_features': ['auto', None],\n",
    "             'class_weight': ['balanced', {0:10,1:1}]}\n",
    "\n",
    "scoring = {'AUC': 'roc_auc', 'Accuracy': make_scorer(accuracy_score), 'precision': 'precision', 'recall': 'recall',\n",
    "            'tp' : make_scorer(tp), 'tn' : make_scorer(tn),\n",
    "           'fp' : make_scorer(fp), 'fn' : make_scorer(fn)}\n",
    "\n",
    "dtc = RandomForestClassifier(class_weight='balanced')\n",
    "clf_dtc = GridSearchCV(dtc, parameters,cv=5, scoring=scoring, refit = 'Accuracy', n_jobs=12)\n",
    "clf_dtc.fit(X_train, y_train)\n"
   ]
  },
  {
   "cell_type": "code",
   "execution_count": null,
   "metadata": {
    "scrolled": true
   },
   "outputs": [],
   "source": [
    "clf_dtc.cv_results_"
   ]
  },
  {
   "cell_type": "code",
   "execution_count": 51,
   "metadata": {},
   "outputs": [],
   "source": [
    "y_pred_dtc = clf_dtc.predict(X_test) "
   ]
  },
  {
   "cell_type": "code",
   "execution_count": 52,
   "metadata": {
    "scrolled": true
   },
   "outputs": [
    {
     "name": "stdout",
     "output_type": "stream",
     "text": [
      "             precision    recall  f1-score   support\n",
      "\n",
      "          0       0.57      0.13      0.21      8570\n",
      "          1       0.80      0.97      0.88     30335\n",
      "\n",
      "avg / total       0.75      0.79      0.73     38905\n",
      "\n"
     ]
    }
   ],
   "source": [
    "print(classification_report(y_test, y_pred_dtc))"
   ]
  },
  {
   "cell_type": "code",
   "execution_count": 59,
   "metadata": {},
   "outputs": [
    {
     "name": "stdout",
     "output_type": "stream",
     "text": [
      "[[ 1121  7449]\n",
      " [  847 29488]]\n"
     ]
    }
   ],
   "source": [
    "print(confusion_matrix(y_test,y_pred_dtc))"
   ]
  },
  {
   "cell_type": "code",
   "execution_count": 60,
   "metadata": {},
   "outputs": [
    {
     "name": "stdout",
     "output_type": "stream",
     "text": [
      "0.786762626911708\n"
     ]
    }
   ],
   "source": [
    "print(accuracy_score(y_test, y_pred_dtc))"
   ]
  },
  {
   "cell_type": "code",
   "execution_count": 54,
   "metadata": {},
   "outputs": [],
   "source": [
    "class_report = classification_report(y_test, y_pred_dtc)\n",
    "pickle.dump(clf_dtc,open(\"results/randomforest_cv_report.pkl\", 'wb'))\n",
    "pickle.dump(class_report, open(\"results/randomforest_class_report\", \"wb\"))"
   ]
  },
  {
   "cell_type": "markdown",
   "metadata": {},
   "source": [
    "#### Neural Network"
   ]
  },
  {
   "cell_type": "code",
   "execution_count": null,
   "metadata": {},
   "outputs": [],
   "source": []
  },
  {
   "cell_type": "code",
   "execution_count": 15,
   "metadata": {},
   "outputs": [],
   "source": [
    "y_train_c = to_categorical(y_train)\n",
    "y_test_c = to_categorical(y_test)"
   ]
  },
  {
   "cell_type": "code",
   "execution_count": 28,
   "metadata": {},
   "outputs": [
    {
     "data": {
      "text/plain": [
       "array([[0., 1.],\n",
       "       [0., 1.],\n",
       "       [0., 1.],\n",
       "       ...,\n",
       "       [0., 1.],\n",
       "       [1., 0.],\n",
       "       [0., 1.]], dtype=float32)"
      ]
     },
     "execution_count": 28,
     "metadata": {},
     "output_type": "execute_result"
    }
   ],
   "source": []
  },
  {
   "cell_type": "code",
   "execution_count": 25,
   "metadata": {},
   "outputs": [],
   "source": [
    "\n",
    "inp = Input(shape=(X_train.shape[1],))\n",
    "l0 = Dropout(0.2)(inp)\n",
    "l1 = Dense(128, input_dim=X_train.shape[1], activation ='relu')(inp)\n",
    "l2 = Dropout(0.2)(l1)\n",
    "l3 = Dense(92, activation = 'relu')(l2)\n",
    "l4 = Dense(2, activation='sigmoid')(l3)\n",
    "\n",
    "model = Model(inp, l4)\n",
    "model.compile(optimizer='adam',\n",
    "              loss='categorical_crossentropy',\n",
    "              metrics=['accuracy'])"
   ]
  },
  {
   "cell_type": "code",
   "execution_count": 31,
   "metadata": {
    "scrolled": true
   },
   "outputs": [
    {
     "name": "stdout",
     "output_type": "stream",
     "text": [
      "Train on 54466 samples, validate on 36311 samples\n",
      "Epoch 1/50\n",
      "54466/54466 [==============================] - 2s 31us/step - loss: 0.4664 - acc: 0.7870 - val_loss: 0.4709 - val_acc: 0.7829\n",
      "Epoch 2/50\n",
      "54466/54466 [==============================] - 2s 30us/step - loss: 0.4658 - acc: 0.7868 - val_loss: 0.4750 - val_acc: 0.7826\n",
      "Epoch 3/50\n",
      "54466/54466 [==============================] - 2s 30us/step - loss: 0.4665 - acc: 0.7862 - val_loss: 0.4705 - val_acc: 0.7828\n",
      "Epoch 4/50\n",
      "54466/54466 [==============================] - 2s 31us/step - loss: 0.4658 - acc: 0.7872 - val_loss: 0.4716 - val_acc: 0.7833\n",
      "Epoch 5/50\n",
      "54466/54466 [==============================] - 2s 30us/step - loss: 0.4666 - acc: 0.7870 - val_loss: 0.4726 - val_acc: 0.7826\n",
      "Epoch 6/50\n",
      "54466/54466 [==============================] - 2s 32us/step - loss: 0.4658 - acc: 0.7872 - val_loss: 0.4709 - val_acc: 0.7836\n",
      "Epoch 7/50\n",
      "54466/54466 [==============================] - 2s 30us/step - loss: 0.4666 - acc: 0.7857 - val_loss: 0.4707 - val_acc: 0.7838\n",
      "Epoch 8/50\n",
      "54466/54466 [==============================] - 2s 31us/step - loss: 0.4659 - acc: 0.7863 - val_loss: 0.4718 - val_acc: 0.7826\n",
      "Epoch 9/50\n",
      "54466/54466 [==============================] - 2s 30us/step - loss: 0.4652 - acc: 0.7874 - val_loss: 0.4728 - val_acc: 0.7815\n",
      "Epoch 10/50\n",
      "54466/54466 [==============================] - 2s 30us/step - loss: 0.4649 - acc: 0.7871 - val_loss: 0.4723 - val_acc: 0.7824\n",
      "Epoch 11/50\n",
      "54466/54466 [==============================] - 2s 30us/step - loss: 0.4655 - acc: 0.7872 - val_loss: 0.4705 - val_acc: 0.7830\n",
      "Epoch 12/50\n",
      "54466/54466 [==============================] - 2s 31us/step - loss: 0.4651 - acc: 0.7865 - val_loss: 0.4715 - val_acc: 0.7809\n",
      "Epoch 13/50\n",
      "54466/54466 [==============================] - 2s 33us/step - loss: 0.4656 - acc: 0.7869 - val_loss: 0.4710 - val_acc: 0.7828\n",
      "Epoch 14/50\n",
      "54466/54466 [==============================] - 2s 33us/step - loss: 0.4650 - acc: 0.7875 - val_loss: 0.4707 - val_acc: 0.7826\n",
      "Epoch 15/50\n",
      "54466/54466 [==============================] - 2s 33us/step - loss: 0.4647 - acc: 0.7870 - val_loss: 0.4706 - val_acc: 0.7832\n",
      "Epoch 16/50\n",
      "54466/54466 [==============================] - 2s 33us/step - loss: 0.4650 - acc: 0.7868 - val_loss: 0.4735 - val_acc: 0.7817\n",
      "Epoch 17/50\n",
      "54466/54466 [==============================] - 2s 33us/step - loss: 0.4651 - acc: 0.7875 - val_loss: 0.4704 - val_acc: 0.7820\n",
      "Epoch 18/50\n",
      "54466/54466 [==============================] - 2s 34us/step - loss: 0.4644 - acc: 0.7872 - val_loss: 0.4709 - val_acc: 0.7832\n",
      "Epoch 19/50\n",
      "54466/54466 [==============================] - 2s 33us/step - loss: 0.4644 - acc: 0.7880 - val_loss: 0.4708 - val_acc: 0.7823\n",
      "Epoch 20/50\n",
      "54466/54466 [==============================] - 2s 32us/step - loss: 0.4644 - acc: 0.7879 - val_loss: 0.4721 - val_acc: 0.7823\n",
      "Epoch 21/50\n",
      "54466/54466 [==============================] - 2s 31us/step - loss: 0.4639 - acc: 0.7873 - val_loss: 0.4720 - val_acc: 0.7811\n",
      "Epoch 22/50\n",
      "54466/54466 [==============================] - 2s 32us/step - loss: 0.4642 - acc: 0.7878 - val_loss: 0.4708 - val_acc: 0.7831\n",
      "Epoch 23/50\n",
      "54466/54466 [==============================] - 2s 32us/step - loss: 0.4645 - acc: 0.7879 - val_loss: 0.4730 - val_acc: 0.7800\n",
      "Epoch 24/50\n",
      "54466/54466 [==============================] - 2s 34us/step - loss: 0.4638 - acc: 0.7877 - val_loss: 0.4703 - val_acc: 0.7831\n",
      "Epoch 25/50\n",
      "54466/54466 [==============================] - 2s 32us/step - loss: 0.4643 - acc: 0.7872 - val_loss: 0.4728 - val_acc: 0.7792\n",
      "Epoch 26/50\n",
      "54466/54466 [==============================] - 2s 33us/step - loss: 0.4637 - acc: 0.7877 - val_loss: 0.4724 - val_acc: 0.7819\n",
      "Epoch 27/50\n",
      "54466/54466 [==============================] - 2s 32us/step - loss: 0.4640 - acc: 0.7883 - val_loss: 0.4718 - val_acc: 0.7816\n",
      "Epoch 28/50\n",
      "54466/54466 [==============================] - 2s 32us/step - loss: 0.4638 - acc: 0.7881 - val_loss: 0.4708 - val_acc: 0.7825\n",
      "Epoch 29/50\n",
      "54466/54466 [==============================] - 2s 33us/step - loss: 0.4639 - acc: 0.7873 - val_loss: 0.4771 - val_acc: 0.7817\n",
      "Epoch 30/50\n",
      "54466/54466 [==============================] - 2s 32us/step - loss: 0.4640 - acc: 0.7876 - val_loss: 0.4724 - val_acc: 0.7833\n",
      "Epoch 31/50\n",
      "54466/54466 [==============================] - 2s 32us/step - loss: 0.4633 - acc: 0.7883 - val_loss: 0.4716 - val_acc: 0.7810\n",
      "Epoch 32/50\n",
      "54466/54466 [==============================] - 2s 34us/step - loss: 0.4635 - acc: 0.7885 - val_loss: 0.4712 - val_acc: 0.7830\n",
      "Epoch 33/50\n",
      "54466/54466 [==============================] - 2s 32us/step - loss: 0.4631 - acc: 0.7873 - val_loss: 0.4718 - val_acc: 0.7821\n",
      "Epoch 34/50\n",
      "54466/54466 [==============================] - 2s 34us/step - loss: 0.4637 - acc: 0.7877 - val_loss: 0.4714 - val_acc: 0.7828\n",
      "Epoch 35/50\n",
      "54466/54466 [==============================] - 2s 34us/step - loss: 0.4627 - acc: 0.7887 - val_loss: 0.4709 - val_acc: 0.7850\n",
      "Epoch 36/50\n",
      "54466/54466 [==============================] - 2s 34us/step - loss: 0.4628 - acc: 0.7893 - val_loss: 0.4754 - val_acc: 0.7825\n",
      "Epoch 37/50\n",
      "54466/54466 [==============================] - 2s 33us/step - loss: 0.4629 - acc: 0.7875 - val_loss: 0.4722 - val_acc: 0.7809\n",
      "Epoch 38/50\n",
      "54466/54466 [==============================] - 2s 33us/step - loss: 0.4632 - acc: 0.7879 - val_loss: 0.4711 - val_acc: 0.7837\n",
      "Epoch 39/50\n",
      "54466/54466 [==============================] - 2s 33us/step - loss: 0.4631 - acc: 0.7880 - val_loss: 0.4728 - val_acc: 0.7811\n",
      "Epoch 40/50\n",
      "54466/54466 [==============================] - 2s 32us/step - loss: 0.4630 - acc: 0.7883 - val_loss: 0.4715 - val_acc: 0.7822\n",
      "Epoch 41/50\n",
      "54466/54466 [==============================] - 2s 33us/step - loss: 0.4627 - acc: 0.7871 - val_loss: 0.4706 - val_acc: 0.7832\n",
      "Epoch 42/50\n",
      "54466/54466 [==============================] - 2s 34us/step - loss: 0.4623 - acc: 0.7885 - val_loss: 0.4719 - val_acc: 0.7820\n",
      "Epoch 43/50\n",
      "54466/54466 [==============================] - 2s 33us/step - loss: 0.4623 - acc: 0.7888 - val_loss: 0.4713 - val_acc: 0.7830\n",
      "Epoch 44/50\n",
      "54466/54466 [==============================] - 2s 34us/step - loss: 0.4617 - acc: 0.7890 - val_loss: 0.4711 - val_acc: 0.7830\n",
      "Epoch 45/50\n",
      "54466/54466 [==============================] - 2s 33us/step - loss: 0.4625 - acc: 0.7883 - val_loss: 0.4712 - val_acc: 0.7837\n",
      "Epoch 46/50\n",
      "54466/54466 [==============================] - 2s 33us/step - loss: 0.4619 - acc: 0.7885 - val_loss: 0.4729 - val_acc: 0.7819\n",
      "Epoch 47/50\n",
      "54466/54466 [==============================] - 2s 32us/step - loss: 0.4626 - acc: 0.7873 - val_loss: 0.4700 - val_acc: 0.7829\n",
      "Epoch 48/50\n",
      "54466/54466 [==============================] - 2s 32us/step - loss: 0.4619 - acc: 0.7885 - val_loss: 0.4707 - val_acc: 0.7824\n",
      "Epoch 49/50\n",
      "54466/54466 [==============================] - 2s 34us/step - loss: 0.4621 - acc: 0.7891 - val_loss: 0.4709 - val_acc: 0.7841\n",
      "Epoch 50/50\n",
      "54466/54466 [==============================] - 2s 33us/step - loss: 0.4620 - acc: 0.7890 - val_loss: 0.4707 - val_acc: 0.7816\n"
     ]
    }
   ],
   "source": [
    "#history = model.fit(X_train,y_train_c, validation_data=(X_test,y_test_c), epochs=50, class_weight={0:1,1:10}, batch_size=128)\n",
    "history = model.fit(X_train,y_train_c, validation_split=0.4, epochs=50, class_weight={0:10,1:1} batch_size=128)"
   ]
  },
  {
   "cell_type": "code",
   "execution_count": 32,
   "metadata": {},
   "outputs": [
    {
     "data": {
      "text/plain": [
       "{'batch_size': 128,\n",
       " 'do_validation': True,\n",
       " 'epochs': 50,\n",
       " 'metrics': ['loss', 'acc', 'val_loss', 'val_acc'],\n",
       " 'samples': 54466,\n",
       " 'steps': None,\n",
       " 'verbose': 1}"
      ]
     },
     "execution_count": 32,
     "metadata": {},
     "output_type": "execute_result"
    }
   ],
   "source": [
    "history.params"
   ]
  },
  {
   "cell_type": "code",
   "execution_count": 40,
   "metadata": {},
   "outputs": [],
   "source": [
    "y_pred = model.predict(X_test)\n",
    "\n",
    "y_pred_res = y_pred.argmax(axis=1)"
   ]
  },
  {
   "cell_type": "code",
   "execution_count": 41,
   "metadata": {},
   "outputs": [
    {
     "data": {
      "text/plain": [
       "array([1, 1, 1, ..., 1, 1, 1])"
      ]
     },
     "execution_count": 41,
     "metadata": {},
     "output_type": "execute_result"
    }
   ],
   "source": [
    "y_pred_res"
   ]
  },
  {
   "cell_type": "code",
   "execution_count": 42,
   "metadata": {},
   "outputs": [
    {
     "name": "stdout",
     "output_type": "stream",
     "text": [
      "             precision    recall  f1-score   support\n",
      "\n",
      "          0       0.57      0.12      0.20      8570\n",
      "          1       0.80      0.97      0.88     30335\n",
      "\n",
      "avg / total       0.75      0.79      0.73     38905\n",
      "\n"
     ]
    }
   ],
   "source": [
    "print(classification_report(y_test, y_pred_res))"
   ]
  },
  {
   "cell_type": "code",
   "execution_count": 43,
   "metadata": {},
   "outputs": [
    {
     "name": "stdout",
     "output_type": "stream",
     "text": [
      "0.7866084050893202\n"
     ]
    }
   ],
   "source": [
    "print(accuracy_score(y_test, y_pred_res))"
   ]
  },
  {
   "cell_type": "code",
   "execution_count": 44,
   "metadata": {},
   "outputs": [
    {
     "name": "stdout",
     "output_type": "stream",
     "text": [
      "[[ 1065  7505]\n",
      " [  797 29538]]\n"
     ]
    }
   ],
   "source": [
    "print(confusion_matrix(y_test,y_pred_res))"
   ]
  },
  {
   "cell_type": "markdown",
   "metadata": {},
   "source": [
    "### Classification using combination of features"
   ]
  },
  {
   "cell_type": "code",
   "execution_count": 5,
   "metadata": {},
   "outputs": [
    {
     "data": {
      "text/plain": [
       "Index(['followers', 'popularity', 'danceability', 'energy', 'key', 'loudness',\n",
       "       'mode', 'speechiness', 'acousticness', 'instrumentalness', 'liveness',\n",
       "       'valence', 'gender', 'lyrics', 'genres'],\n",
       "      dtype='object')"
      ]
     },
     "execution_count": 5,
     "metadata": {},
     "output_type": "execute_result"
    }
   ],
   "source": [
    "music_features.columns"
   ]
  },
  {
   "cell_type": "code",
   "execution_count": 51,
   "metadata": {},
   "outputs": [],
   "source": [
    "data = music_features[['danceability', 'energy', 'key', 'loudness', 'mode',\n",
    "       'speechiness', 'acousticness', 'instrumentalness', 'liveness',\n",
    "       'valence', 'gender']].dropna()\n",
    "data = data[ (data.gender.isin([1,2]))]"
   ]
  },
  {
   "cell_type": "code",
   "execution_count": 52,
   "metadata": {},
   "outputs": [
    {
     "name": "stdout",
     "output_type": "stream",
     "text": [
      "(129682, 10) (129682, 1)\n"
     ]
    }
   ],
   "source": [
    "X = data[['danceability', 'energy', 'key', 'loudness', 'mode',\n",
    "       'speechiness', 'acousticness', 'instrumentalness', 'liveness',\n",
    "       'valence']].values\n",
    "y = data[['gender']].values\n",
    "y=y-1\n",
    "print(X.shape, y.shape)"
   ]
  },
  {
   "cell_type": "code",
   "execution_count": 53,
   "metadata": {},
   "outputs": [],
   "source": [
    "y=y.astype('int')\n",
    "y=y.reshape((y.shape[0],))"
   ]
  },
  {
   "cell_type": "code",
   "execution_count": 54,
   "metadata": {},
   "outputs": [
    {
     "name": "stdout",
     "output_type": "stream",
     "text": [
      "(129682, 5010)\n"
     ]
    }
   ],
   "source": [
    "#X_gen = np.concatenate((X,genres.toarray()), axis=1)\n",
    "X_gen_lyr = np.concatenate((X, lyrics.toarray()), axis=1)\n",
    "print(X_gen_lyr.shape)\n",
    "X_train, X_test, y_train, y_test = train_test_split(X_gen_lyr, y, test_size=0.3, random_state=42,stratify=y)\n"
   ]
  },
  {
   "cell_type": "code",
   "execution_count": 12,
   "metadata": {},
   "outputs": [],
   "source": [
    "X = []\n",
    "X_gen = []\n",
    "X_gen_lyr = []\n",
    "albums_info = []\n",
    "artist_songs =[]\n",
    "data = []\n",
    "music_features = []"
   ]
  },
  {
   "cell_type": "code",
   "execution_count": 16,
   "metadata": {},
   "outputs": [],
   "source": [
    "import os"
   ]
  },
  {
   "cell_type": "code",
   "execution_count": 17,
   "metadata": {},
   "outputs": [],
   "source": [
    "os.environ['JOBLIB_TEMP_FOLDER'] = \"/home/marta\""
   ]
  },
  {
   "cell_type": "markdown",
   "metadata": {},
   "source": [
    "#### Logistic regression"
   ]
  },
  {
   "cell_type": "code",
   "execution_count": 27,
   "metadata": {},
   "outputs": [
    {
     "data": {
      "text/plain": [
       "GridSearchCV(cv=3, error_score='raise',\n",
       "       estimator=LogisticRegression(C=1.0, class_weight='balanced', dual=False,\n",
       "          fit_intercept=True, intercept_scaling=1, max_iter=200,\n",
       "          multi_class='ovr', n_jobs=1, penalty='l2', random_state=None,\n",
       "          solver='liblinear', tol=0.0001, verbose=0, warm_start=False),\n",
       "       fit_params=None, iid=True, n_jobs=12, param_grid={'C': [1]},\n",
       "       pre_dispatch='2*n_jobs', refit='Accuracy',\n",
       "       return_train_score='warn',\n",
       "       scoring={'AUC': 'roc_auc', 'Accuracy': make_scorer(accuracy_score), 'precision': 'precision', 'recall': 'recall', 'tp': make_scorer(tp), 'tn': make_scorer(tn), 'fp': make_scorer(fp), 'fn': make_scorer(fn)},\n",
       "       verbose=0)"
      ]
     },
     "execution_count": 27,
     "metadata": {},
     "output_type": "execute_result"
    }
   ],
   "source": [
    "#parameters = {'C':[1,7,10], 'class_weight': ['balanced',{0:4,1:1}, {0:10,1:1}]}\n",
    "parameters = {'C' :[1]}\n",
    "scoring = {'AUC': 'roc_auc', 'Accuracy': make_scorer(accuracy_score), 'precision': 'precision', 'recall': 'recall',\n",
    "            'tp' : make_scorer(tp), 'tn' : make_scorer(tn),\n",
    "           'fp' : make_scorer(fp), 'fn' : make_scorer(fn)}\n",
    "log_reg_all = LogisticRegression(max_iter=200,class_weight='balanced')\n",
    "clf_all = GridSearchCV(log_reg_all, parameters,cv=3, scoring=scoring, refit = 'Accuracy', n_jobs=12)\n",
    "clf_all.fit(X_train, y_train)"
   ]
  },
  {
   "cell_type": "code",
   "execution_count": 28,
   "metadata": {},
   "outputs": [],
   "source": [
    "y_pred_lr_all = clf_all.predict(X_test)"
   ]
  },
  {
   "cell_type": "code",
   "execution_count": 29,
   "metadata": {},
   "outputs": [
    {
     "name": "stdout",
     "output_type": "stream",
     "text": [
      "             precision    recall  f1-score   support\n",
      "\n",
      "          0       0.34      0.67      0.45      8570\n",
      "          1       0.87      0.63      0.73     30335\n",
      "\n",
      "avg / total       0.75      0.64      0.67     38905\n",
      "\n"
     ]
    }
   ],
   "source": [
    "print(classification_report(y_test, y_pred_lr_all))"
   ]
  },
  {
   "cell_type": "code",
   "execution_count": 30,
   "metadata": {},
   "outputs": [
    {
     "data": {
      "text/plain": [
       "array([[ 5727,  2843],\n",
       "       [11142, 19193]])"
      ]
     },
     "execution_count": 30,
     "metadata": {},
     "output_type": "execute_result"
    }
   ],
   "source": [
    "confusion_matrix(y_test,y_pred_lr_all)"
   ]
  },
  {
   "cell_type": "code",
   "execution_count": 33,
   "metadata": {},
   "outputs": [
    {
     "name": "stdout",
     "output_type": "stream",
     "text": [
      "0.6405346356509446\n"
     ]
    }
   ],
   "source": [
    "print(accuracy_score(y_test, y_pred_lr_all))"
   ]
  },
  {
   "cell_type": "markdown",
   "metadata": {},
   "source": [
    "#### Random forest"
   ]
  },
  {
   "cell_type": "code",
   "execution_count": null,
   "metadata": {
    "scrolled": true
   },
   "outputs": [],
   "source": [
    "#parameters = {'n_estimators':[400,600],  'max_features': ['auto', 'log2', ],\n",
    "#             'class_weight': ['balanced']}\n",
    "parameters = {'n_estimators':[600],  'max_features': ['auto' ],\n",
    "             'class_weight': ['balanced']}\n",
    "\n",
    "scoring = {'AUC': 'roc_auc', 'Accuracy': make_scorer(accuracy_score), 'precision': 'precision', 'recall': 'recall',\n",
    "            'tp' : make_scorer(tp), 'tn' : make_scorer(tn),\n",
    "           'fp' : make_scorer(fp), 'fn' : make_scorer(fn)}\n",
    "\n",
    "dtc_all = RandomForestClassifier(class_weight='balanced')\n",
    "clf_dtc_all = GridSearchCV(dtc_all, parameters,cv=3, scoring=scoring, refit = 'Accuracy', n_jobs=12)\n",
    "clf_dtc_all.fit(X_train, y_train)\n"
   ]
  },
  {
   "cell_type": "code",
   "execution_count": null,
   "metadata": {},
   "outputs": [],
   "source": [
    "y_pred_dtc_all = clf_dtc_all.predict(X_test)"
   ]
  },
  {
   "cell_type": "code",
   "execution_count": null,
   "metadata": {
    "scrolled": true
   },
   "outputs": [],
   "source": [
    "print(classification_report(y_test, y_pred_dtc_all))"
   ]
  },
  {
   "cell_type": "code",
   "execution_count": null,
   "metadata": {},
   "outputs": [],
   "source": [
    "confusion_matrix(y_test, y_pred_dtc_all)"
   ]
  },
  {
   "cell_type": "code",
   "execution_count": null,
   "metadata": {},
   "outputs": [],
   "source": [
    "class_report = classification_report(y_test, y_pred_dtc_all)\n",
    "pickle.dump(clf_dtc_all,open(\"results/randomforest_all_cv_report.pkl\", 'wb'))\n",
    "pickle.dump(class_report, open(\"results/randomforest_all_class_report\", \"wb\"))"
   ]
  },
  {
   "cell_type": "code",
   "execution_count": 49,
   "metadata": {},
   "outputs": [],
   "source": [
    "clf_dtc_all = pickle.load(open(\"results/randomforest_all_cv_report.pkl\", 'rb'))\n",
    "#report = pickle.load(open(\"results/randomforest_all_class_report\", \"rb\"))"
   ]
  },
  {
   "cell_type": "code",
   "execution_count": 55,
   "metadata": {},
   "outputs": [
    {
     "name": "stdout",
     "output_type": "stream",
     "text": [
      "             precision    recall  f1-score   support\n",
      "\n",
      "          0       0.39      0.54      0.45      8570\n",
      "          1       0.85      0.76      0.81     30335\n",
      "\n",
      "avg / total       0.75      0.71      0.73     38905\n",
      "\n"
     ]
    },
    {
     "data": {
      "text/plain": [
       "array([[ 4588,  3982],\n",
       "       [ 7151, 23184]])"
      ]
     },
     "execution_count": 55,
     "metadata": {},
     "output_type": "execute_result"
    }
   ],
   "source": [
    "y_pred_dtc_all = clf_dtc_all.predict(X_test)\n",
    "print(classification_report(y_test, y_pred_dtc_all))\n",
    "confusion_matrix(y_test, y_pred_dtc_all)"
   ]
  },
  {
   "cell_type": "code",
   "execution_count": 56,
   "metadata": {},
   "outputs": [
    {
     "name": "stdout",
     "output_type": "stream",
     "text": [
      "0.7138414085593111\n"
     ]
    }
   ],
   "source": [
    "print(accuracy_score(y_test, y_pred_dtc_all))"
   ]
  },
  {
   "cell_type": "markdown",
   "metadata": {},
   "source": [
    "#### Neural network"
   ]
  },
  {
   "cell_type": "code",
   "execution_count": 57,
   "metadata": {},
   "outputs": [],
   "source": [
    "y_train_c = to_categorical(y_train)\n",
    "y_test_c = to_categorical(y_test)"
   ]
  },
  {
   "cell_type": "code",
   "execution_count": 58,
   "metadata": {},
   "outputs": [
    {
     "data": {
      "text/plain": [
       "array([[0., 1.],\n",
       "       [0., 1.],\n",
       "       [0., 1.],\n",
       "       ...,\n",
       "       [0., 1.],\n",
       "       [0., 1.],\n",
       "       [0., 1.]], dtype=float32)"
      ]
     },
     "execution_count": 58,
     "metadata": {},
     "output_type": "execute_result"
    }
   ],
   "source": [
    "y_test_c"
   ]
  },
  {
   "cell_type": "code",
   "execution_count": 59,
   "metadata": {},
   "outputs": [],
   "source": [
    "np.random.seed(10)"
   ]
  },
  {
   "cell_type": "code",
   "execution_count": 60,
   "metadata": {},
   "outputs": [],
   "source": [
    "inp = Input(shape=(X_train.shape[1],))\n",
    "l0 = Dropout(0.1)(inp)\n",
    "l1 = Dense(128, input_dim=X_train.shape[1], activation ='relu')(l0)\n",
    "l2 = Dropout(0.2)(l1)\n",
    "l3 = Dense(128, activation = 'relu')(l2)\n",
    "l4 = Dense(2, activation='sigmoid')(l3)\n",
    "\n",
    "model = Model(inp, l4)\n",
    "model.compile(optimizer='adam',\n",
    "              loss='categorical_crossentropy',\n",
    "              metrics=['accuracy'])"
   ]
  },
  {
   "cell_type": "code",
   "execution_count": 61,
   "metadata": {
    "scrolled": true
   },
   "outputs": [
    {
     "name": "stdout",
     "output_type": "stream",
     "text": [
      "Train on 90777 samples, validate on 38905 samples\n",
      "Epoch 1/50\n",
      "90777/90777 [==============================] - 20s 223us/step - loss: 1.0795 - acc: 0.5451 - val_loss: 0.6977 - val_acc: 0.5229\n",
      "Epoch 2/50\n",
      "90777/90777 [==============================] - 19s 205us/step - loss: 1.0559 - acc: 0.5752 - val_loss: 0.6584 - val_acc: 0.6177\n",
      "Epoch 3/50\n",
      "90777/90777 [==============================] - 19s 204us/step - loss: 1.0461 - acc: 0.5810 - val_loss: 0.6686 - val_acc: 0.5967\n",
      "Epoch 4/50\n",
      "90777/90777 [==============================] - 19s 204us/step - loss: 1.0394 - acc: 0.5821 - val_loss: 0.6851 - val_acc: 0.5518\n",
      "Epoch 5/50\n",
      "90777/90777 [==============================] - 19s 206us/step - loss: 1.0335 - acc: 0.5793 - val_loss: 0.6414 - val_acc: 0.6016\n",
      "Epoch 6/50\n",
      "90777/90777 [==============================] - 18s 199us/step - loss: 1.0278 - acc: 0.5787 - val_loss: 0.6149 - val_acc: 0.6251\n",
      "Epoch 7/50\n",
      "90777/90777 [==============================] - 18s 199us/step - loss: 1.0266 - acc: 0.5793 - val_loss: 0.6444 - val_acc: 0.6150\n",
      "Epoch 8/50\n",
      "90777/90777 [==============================] - 18s 200us/step - loss: 1.0213 - acc: 0.5772 - val_loss: 0.6461 - val_acc: 0.5902\n",
      "Epoch 9/50\n",
      "90777/90777 [==============================] - 18s 200us/step - loss: 1.0177 - acc: 0.5812 - val_loss: 0.6613 - val_acc: 0.5910\n",
      "Epoch 10/50\n",
      "90777/90777 [==============================] - 18s 201us/step - loss: 1.0150 - acc: 0.5844 - val_loss: 0.6821 - val_acc: 0.5932\n",
      "Epoch 11/50\n",
      "90777/90777 [==============================] - 18s 200us/step - loss: 1.0132 - acc: 0.5861 - val_loss: 0.6894 - val_acc: 0.5837\n",
      "Epoch 12/50\n",
      "90777/90777 [==============================] - 19s 208us/step - loss: 1.0121 - acc: 0.5835 - val_loss: 0.6861 - val_acc: 0.5746\n",
      "Epoch 13/50\n",
      "90777/90777 [==============================] - 18s 199us/step - loss: 1.0078 - acc: 0.5875 - val_loss: 0.6445 - val_acc: 0.6161\n",
      "Epoch 14/50\n",
      "90777/90777 [==============================] - 18s 200us/step - loss: 1.0093 - acc: 0.5890 - val_loss: 0.6889 - val_acc: 0.5740\n",
      "Epoch 15/50\n",
      "90777/90777 [==============================] - 18s 201us/step - loss: 1.0074 - acc: 0.5901 - val_loss: 0.6214 - val_acc: 0.6266\n",
      "Epoch 16/50\n",
      "90777/90777 [==============================] - 18s 201us/step - loss: 1.0051 - acc: 0.5931 - val_loss: 0.6527 - val_acc: 0.6099\n",
      "Epoch 17/50\n",
      "90777/90777 [==============================] - 18s 200us/step - loss: 1.0055 - acc: 0.5939 - val_loss: 0.7048 - val_acc: 0.5651\n",
      "Epoch 18/50\n",
      "90777/90777 [==============================] - 18s 199us/step - loss: 1.0036 - acc: 0.5953 - val_loss: 0.6641 - val_acc: 0.6120\n",
      "Epoch 19/50\n",
      "90777/90777 [==============================] - 19s 209us/step - loss: 1.0039 - acc: 0.5959 - val_loss: 0.6966 - val_acc: 0.5587\n",
      "Epoch 20/50\n",
      "90777/90777 [==============================] - 18s 200us/step - loss: 1.0013 - acc: 0.5965 - val_loss: 0.6435 - val_acc: 0.6360\n",
      "Epoch 21/50\n",
      "90777/90777 [==============================] - 18s 199us/step - loss: 0.9990 - acc: 0.5973 - val_loss: 0.7200 - val_acc: 0.5648\n",
      "Epoch 22/50\n",
      "90777/90777 [==============================] - 18s 200us/step - loss: 0.9990 - acc: 0.6021 - val_loss: 0.6231 - val_acc: 0.6290\n",
      "Epoch 23/50\n",
      "90777/90777 [==============================] - 18s 199us/step - loss: 1.0006 - acc: 0.5992 - val_loss: 0.6814 - val_acc: 0.6104\n",
      "Epoch 24/50\n",
      "90777/90777 [==============================] - 18s 199us/step - loss: 0.9992 - acc: 0.6041 - val_loss: 0.7187 - val_acc: 0.5767\n",
      "Epoch 25/50\n",
      "90777/90777 [==============================] - 18s 199us/step - loss: 0.9982 - acc: 0.6017 - val_loss: 0.6470 - val_acc: 0.6216\n",
      "Epoch 26/50\n",
      "90777/90777 [==============================] - 18s 201us/step - loss: 0.9976 - acc: 0.6068 - val_loss: 0.7069 - val_acc: 0.5884\n",
      "Epoch 27/50\n",
      "90777/90777 [==============================] - 19s 214us/step - loss: 0.9962 - acc: 0.6061 - val_loss: 0.6834 - val_acc: 0.5755\n",
      "Epoch 28/50\n",
      "90777/90777 [==============================] - 18s 200us/step - loss: 0.9956 - acc: 0.6082 - val_loss: 0.7029 - val_acc: 0.5860\n",
      "Epoch 29/50\n",
      "90777/90777 [==============================] - 18s 199us/step - loss: 0.9959 - acc: 0.6084 - val_loss: 0.6597 - val_acc: 0.6241\n",
      "Epoch 30/50\n",
      "90777/90777 [==============================] - 18s 200us/step - loss: 0.9955 - acc: 0.6111 - val_loss: 0.6883 - val_acc: 0.5989\n",
      "Epoch 31/50\n",
      "90777/90777 [==============================] - 18s 199us/step - loss: 0.9954 - acc: 0.6094 - val_loss: 0.7151 - val_acc: 0.5805\n",
      "Epoch 32/50\n",
      "90777/90777 [==============================] - 18s 199us/step - loss: 0.9945 - acc: 0.6107 - val_loss: 0.7117 - val_acc: 0.5783\n",
      "Epoch 33/50\n",
      "90777/90777 [==============================] - 18s 200us/step - loss: 0.9928 - acc: 0.6078 - val_loss: 0.7289 - val_acc: 0.5600\n",
      "Epoch 34/50\n",
      "90777/90777 [==============================] - 18s 199us/step - loss: 0.9954 - acc: 0.6063 - val_loss: 0.6876 - val_acc: 0.5886\n",
      "Epoch 35/50\n",
      "90777/90777 [==============================] - 18s 199us/step - loss: 0.9927 - acc: 0.6116 - val_loss: 0.7151 - val_acc: 0.5767\n",
      "Epoch 36/50\n",
      "90777/90777 [==============================] - 18s 199us/step - loss: 0.9947 - acc: 0.6095 - val_loss: 0.7310 - val_acc: 0.5877\n",
      "Epoch 37/50\n",
      "90777/90777 [==============================] - 18s 199us/step - loss: 0.9916 - acc: 0.6176 - val_loss: 0.7021 - val_acc: 0.5941\n",
      "Epoch 38/50\n",
      "90777/90777 [==============================] - 18s 199us/step - loss: 0.9935 - acc: 0.6140 - val_loss: 0.6809 - val_acc: 0.5994\n",
      "Epoch 39/50\n",
      "90777/90777 [==============================] - 18s 199us/step - loss: 0.9917 - acc: 0.6119 - val_loss: 0.6463 - val_acc: 0.6143\n",
      "Epoch 40/50\n",
      "90777/90777 [==============================] - 18s 201us/step - loss: 0.9917 - acc: 0.6111 - val_loss: 0.7074 - val_acc: 0.5949\n",
      "Epoch 41/50\n",
      "90777/90777 [==============================] - 18s 200us/step - loss: 0.9915 - acc: 0.6117 - val_loss: 0.6569 - val_acc: 0.6215\n",
      "Epoch 42/50\n",
      "90777/90777 [==============================] - 18s 200us/step - loss: 0.9886 - acc: 0.6137 - val_loss: 0.6959 - val_acc: 0.5909\n",
      "Epoch 43/50\n",
      "90777/90777 [==============================] - 18s 199us/step - loss: 0.9907 - acc: 0.6143 - val_loss: 0.7112 - val_acc: 0.5850\n",
      "Epoch 44/50\n",
      "90777/90777 [==============================] - 18s 199us/step - loss: 0.9904 - acc: 0.6127 - val_loss: 0.7216 - val_acc: 0.5759\n",
      "Epoch 45/50\n",
      "90777/90777 [==============================] - 18s 200us/step - loss: 0.9913 - acc: 0.6100 - val_loss: 0.6789 - val_acc: 0.5849\n",
      "Epoch 46/50\n",
      "90777/90777 [==============================] - 18s 200us/step - loss: 0.9902 - acc: 0.6084 - val_loss: 0.6529 - val_acc: 0.6165\n",
      "Epoch 47/50\n",
      "90777/90777 [==============================] - 18s 199us/step - loss: 0.9914 - acc: 0.6107 - val_loss: 0.6955 - val_acc: 0.5970\n",
      "Epoch 48/50\n",
      "90777/90777 [==============================] - 18s 199us/step - loss: 0.9887 - acc: 0.6177 - val_loss: 0.6757 - val_acc: 0.6143\n",
      "Epoch 49/50\n",
      "90777/90777 [==============================] - 18s 200us/step - loss: 0.9888 - acc: 0.6122 - val_loss: 0.7137 - val_acc: 0.5853\n",
      "Epoch 50/50\n",
      "90777/90777 [==============================] - 18s 200us/step - loss: 0.9881 - acc: 0.6108 - val_loss: 0.6402 - val_acc: 0.6401\n"
     ]
    }
   ],
   "source": [
    "history = model.fit(X_train,y_train_c, validation_data=(X_test,y_test_c), class_weight={0:4,1:1},epochs=50, batch_size=64)"
   ]
  },
  {
   "cell_type": "code",
   "execution_count": 62,
   "metadata": {},
   "outputs": [],
   "source": [
    "y_pred = model.predict(X_test)"
   ]
  },
  {
   "cell_type": "code",
   "execution_count": 63,
   "metadata": {},
   "outputs": [],
   "source": [
    "y_pred_res = y_pred.argmax(axis=1)"
   ]
  },
  {
   "cell_type": "code",
   "execution_count": 64,
   "metadata": {},
   "outputs": [
    {
     "name": "stdout",
     "output_type": "stream",
     "text": [
      "             precision    recall  f1-score   support\n",
      "\n",
      "          0       0.34      0.70      0.46      8570\n",
      "          1       0.88      0.62      0.73     30335\n",
      "\n",
      "avg / total       0.76      0.64      0.67     38905\n",
      "\n"
     ]
    }
   ],
   "source": [
    "print(classification_report(y_test, y_pred_res))"
   ]
  },
  {
   "cell_type": "code",
   "execution_count": 65,
   "metadata": {},
   "outputs": [
    {
     "name": "stdout",
     "output_type": "stream",
     "text": [
      "0.640071970183781\n"
     ]
    }
   ],
   "source": [
    "print(accuracy_score(y_test,y_pred_res))"
   ]
  },
  {
   "cell_type": "markdown",
   "metadata": {},
   "source": [
    "### Classification using reduced genres and lyrics"
   ]
  },
  {
   "cell_type": "code",
   "execution_count": 12,
   "metadata": {},
   "outputs": [],
   "source": [
    "data = music_features[['danceability', 'energy', 'key', 'loudness', 'mode',\n",
    "       'speechiness', 'acousticness', 'instrumentalness', 'liveness',\n",
    "       'valence', 'gender']].dropna()\n",
    "data = data[ (data.gender.isin([1,2]))]"
   ]
  },
  {
   "cell_type": "code",
   "execution_count": 13,
   "metadata": {},
   "outputs": [
    {
     "data": {
      "text/plain": [
       "(129682, 11)"
      ]
     },
     "execution_count": 13,
     "metadata": {},
     "output_type": "execute_result"
    }
   ],
   "source": [
    "data.shape"
   ]
  },
  {
   "cell_type": "code",
   "execution_count": 16,
   "metadata": {
    "scrolled": true
   },
   "outputs": [
    {
     "name": "stdout",
     "output_type": "stream",
     "text": [
      "(129682, 10) (129682, 1)\n"
     ]
    }
   ],
   "source": [
    "X = data[['danceability', 'energy', 'key', 'loudness', 'mode',\n",
    "       'speechiness', 'acousticness', 'instrumentalness', 'liveness',\n",
    "       'valence']].values\n",
    "y = data[['gender']].values\n",
    "y=y-1\n",
    "print(X.shape, y.shape)"
   ]
  },
  {
   "cell_type": "markdown",
   "metadata": {},
   "source": [
    "Create datasets with reduced genres and lyrics"
   ]
  },
  {
   "cell_type": "code",
   "execution_count": 17,
   "metadata": {},
   "outputs": [],
   "source": [
    "y=y.astype('int')\n",
    "y=y.reshape((y.shape[0],))"
   ]
  },
  {
   "cell_type": "code",
   "execution_count": 28,
   "metadata": {},
   "outputs": [],
   "source": [
    "parameters = {'n_estimators':[400], 'max_features': ['auto'],\n",
    "             'class_weight': ['balanced']}\n",
    "\n",
    "scoring = {'AUC': 'roc_auc', 'Accuracy': make_scorer(accuracy_score), 'precision': 'precision', 'recall': 'recall',\n",
    "            'tp' : make_scorer(tp), 'tn' : make_scorer(tn),\n",
    "           'fp' : make_scorer(fp), 'fn' : make_scorer(fn)}"
   ]
  },
  {
   "cell_type": "code",
   "execution_count": 26,
   "metadata": {},
   "outputs": [
    {
     "name": "stdout",
     "output_type": "stream",
     "text": [
      "(129682, 120)\n"
     ]
    }
   ],
   "source": [
    "#genres_10, lyrics_lsa\n",
    "X_gen = np.concatenate((X,genres_10.toarray()), axis=1)\n",
    "X_gen_lyr = np.concatenate((X_gen, lyrics_lsa), axis=1)\n",
    "print(X_gen_lyr.shape)\n",
    "X_train, X_test, y_train, y_test = train_test_split(X_gen_lyr, y, test_size=0.3, random_state=42,stratify=y)\n",
    "\n",
    "dtc = RandomForestClassifier()\n",
    "clf_dtc = GridSearchCV(dtc, parameters,cv=5, scoring=scoring, refit = 'Accuracy', n_jobs=12)\n",
    "clf_dtc.fit(X_train, y_train)\n",
    "\n",
    "y_pred = clf_dtc.predict(X_test)\n",
    "\n",
    "class_report = classification_report(y_test, y_pred)\n",
    "pickle.dump(clf_dtc,open(\"results/rf_gen10_lsa_model.pkl\", 'wb'))\n",
    "pickle.dump(class_report, open(\"results/rf_gen10_lsa_report\", \"wb\"))"
   ]
  },
  {
   "cell_type": "code",
   "execution_count": 27,
   "metadata": {},
   "outputs": [
    {
     "name": "stdout",
     "output_type": "stream",
     "text": [
      "             precision    recall  f1-score   support\n",
      "\n",
      "          0       0.61      0.11      0.19      8570\n",
      "          1       0.80      0.98      0.88     30335\n",
      "\n",
      "avg / total       0.75      0.79      0.73     38905\n",
      "\n",
      "[[  937  7633]\n",
      " [  601 29734]]\n"
     ]
    }
   ],
   "source": [
    "print(class_report)\n",
    "print(confusion_matrix(y_test, y_pred))\n"
   ]
  },
  {
   "cell_type": "code",
   "execution_count": null,
   "metadata": {},
   "outputs": [],
   "source": [
    "#genres_20, lyrics_lsa\n",
    "X_gen = np.concatenate((X,genres_20.toarray()), axis=1)\n",
    "X_gen_lyr = np.concatenate((X_gen, lyrics_lsa), axis=1)\n",
    "print(X_gen_lyr.shape)\n",
    "X_train, X_test, y_train, y_test = train_test_split(X_gen_lyr, y, test_size=0.3, random_state=42,stratify=y)\n",
    "\n",
    "dtc = RandomForestClassifier()\n",
    "clf_dtc = GridSearchCV(dtc, parameters,cv=5, scoring=scoring, refit = 'Accuracy', n_jobs=12)\n",
    "clf_dtc.fit(X_train, y_train)\n",
    "\n",
    "y_pred = clf_dtc.predict(X_test)\n",
    "\n",
    "class_report = classification_report(y_test, y_pred)\n",
    "pickle.dump(clf_dtc,open(\"results/rf_gen20_lsa_model.pkl\", 'wb'))\n",
    "pickle.dump(class_report, open(\"results/rf_gen20_lsa_report\", \"wb\"))\n",
    "\n",
    "print(class_report)\n",
    "print(confusion_matrix(y_test, y_pred))"
   ]
  },
  {
   "cell_type": "code",
   "execution_count": null,
   "metadata": {},
   "outputs": [],
   "source": [
    "#genres_60, lyrics_lsa\n",
    "X_gen = np.concatenate((X,genres_60.toarray()), axis=1)\n",
    "X_gen_lyr = np.concatenate((X_gen, lyrics_lsa), axis=1)\n",
    "print(X_gen_lyr.shape)\n",
    "X_train, X_test, y_train, y_test = train_test_split(X_gen_lyr, y, test_size=0.3, random_state=42,stratify=y)\n",
    "\n",
    "dtc = RandomForestClassifier()\n",
    "clf_dtc = GridSearchCV(dtc, parameters,cv=5, scoring=scoring, refit = 'Accuracy', n_jobs=12)\n",
    "clf_dtc.fit(X_train, y_train)\n",
    "\n",
    "y_pred = clf_dtc.predict(X_test)\n",
    "\n",
    "class_report = classification_report(y_test, y_pred)\n",
    "pickle.dump(clf_dtc,open(\"results/rf_gen60_lsa_model.pkl\", 'wb'))\n",
    "pickle.dump(class_report, open(\"results/rf_gen60_lsa_report\", \"wb\"))\n",
    "\n",
    "print(class_report)\n",
    "print(confusion_matrix(y_test, y_pred))"
   ]
  },
  {
   "cell_type": "code",
   "execution_count": null,
   "metadata": {},
   "outputs": [],
   "source": [
    "clf_dtc = "
   ]
  },
  {
   "cell_type": "code",
   "execution_count": 29,
   "metadata": {},
   "outputs": [
    {
     "name": "stdout",
     "output_type": "stream",
     "text": [
      "(129682, 120)\n",
      "             precision    recall  f1-score   support\n",
      "\n",
      "          0       0.61      0.12      0.20      8570\n",
      "          1       0.80      0.98      0.88     30335\n",
      "\n",
      "avg / total       0.76      0.79      0.73     38905\n",
      "\n",
      "[[ 1045  7525]\n",
      " [  670 29665]]\n"
     ]
    }
   ],
   "source": [
    "#genres_pca10, lyrics_lsa\n",
    "X_gen = np.concatenate((X,genres_pca10), axis=1)\n",
    "X_gen_lyr = np.concatenate((X_gen, lyrics_lsa), axis=1)\n",
    "print(X_gen_lyr.shape)\n",
    "X_train, X_test, y_train, y_test = train_test_split(X_gen_lyr, y, test_size=0.3, random_state=42,stratify=y)\n",
    "\n",
    "dtc = RandomForestClassifier()\n",
    "clf_dtc = GridSearchCV(dtc, parameters,cv=5, scoring=scoring, refit = 'Accuracy', n_jobs=12)\n",
    "clf_dtc.fit(X_train, y_train)\n",
    "\n",
    "y_pred = clf_dtc.predict(X_test)\n",
    "\n",
    "class_report = classification_report(y_test, y_pred)\n",
    "pickle.dump(clf_dtc,open(\"results/rf_genpca10_lsa_model.pkl\", 'wb'))\n",
    "pickle.dump(class_report, open(\"results/rf_genpca10_lsa_report\", \"wb\"))\n",
    "\n",
    "print(class_report)\n",
    "print(confusion_matrix(y_test, y_pred))"
   ]
  },
  {
   "cell_type": "code",
   "execution_count": 30,
   "metadata": {},
   "outputs": [
    {
     "name": "stdout",
     "output_type": "stream",
     "text": [
      "(129682, 120)\n",
      "             precision    recall  f1-score   support\n",
      "\n",
      "          0       0.62      0.11      0.19      8570\n",
      "          1       0.80      0.98      0.88     30335\n",
      "\n",
      "avg / total       0.76      0.79      0.73     38905\n",
      "\n",
      "[[  969  7601]\n",
      " [  605 29730]]\n"
     ]
    }
   ],
   "source": [
    "#genres_10, lyrics_nmf\n",
    "X_gen = np.concatenate((X,genres_10.toarray()), axis=1)\n",
    "X_gen_lyr = np.concatenate((X_gen, lyrics_nmf), axis=1)\n",
    "print(X_gen_lyr.shape)\n",
    "X_train, X_test, y_train, y_test = train_test_split(X_gen_lyr, y, test_size=0.3, random_state=42,stratify=y)\n",
    "\n",
    "dtc = RandomForestClassifier()\n",
    "clf_dtc = GridSearchCV(dtc, parameters,cv=5, scoring=scoring, refit = 'Accuracy', n_jobs=12)\n",
    "clf_dtc.fit(X_train, y_train)\n",
    "\n",
    "y_pred = clf_dtc.predict(X_test)\n",
    "\n",
    "class_report = classification_report(y_test, y_pred)\n",
    "pickle.dump(clf_dtc,open(\"results/rf_gen10_nmf_model.pkl\", 'wb'))\n",
    "pickle.dump(class_report, open(\"results/rf_gen10_nmf_report\", \"wb\"))\n",
    "\n",
    "print(class_report)\n",
    "print(confusion_matrix(y_test, y_pred))"
   ]
  },
  {
   "cell_type": "code",
   "execution_count": null,
   "metadata": {},
   "outputs": [],
   "source": [
    "#genres_20, lyrics_nmf\n",
    "X_gen = np.concatenate((X,genres_20.toarray()), axis=1)\n",
    "X_gen_lyr = np.concatenate((X_gen, lyrics_nmf), axis=1)\n",
    "print(X_gen_lyr.shape)\n",
    "X_train, X_test, y_train, y_test = train_test_split(X_gen_lyr, y, test_size=0.3, random_state=42,stratify=y)\n",
    "\n",
    "dtc = RandomForestClassifier()\n",
    "clf_dtc = GridSearchCV(dtc, parameters,cv=5, scoring=scoring, refit = 'Accuracy', n_jobs=12)\n",
    "clf_dtc.fit(X_train, y_train)\n",
    "\n",
    "y_pred = clf_dtc.predict(X_test)\n",
    "\n",
    "class_report = classification_report(y_test, y_pred)\n",
    "pickle.dump(clf_dtc,open(\"results/rf_gen20_nmf_model.pkl\", 'wb'))\n",
    "pickle.dump(class_report, open(\"results/rf_gen20_nmf_report\", \"wb\"))\n",
    "\n",
    "print(class_report)\n",
    "print(confusion_matrix(y_test, y_pred))"
   ]
  },
  {
   "cell_type": "code",
   "execution_count": 31,
   "metadata": {},
   "outputs": [
    {
     "name": "stdout",
     "output_type": "stream",
     "text": [
      "(129682, 170)\n",
      "             precision    recall  f1-score   support\n",
      "\n",
      "          0       0.62      0.11      0.19      8570\n",
      "          1       0.80      0.98      0.88     30335\n",
      "\n",
      "avg / total       0.76      0.79      0.73     38905\n",
      "\n",
      "[[  954  7616]\n",
      " [  579 29756]]\n"
     ]
    }
   ],
   "source": [
    "#genres_60, lyrics_nmf\n",
    "X_gen = np.concatenate((X,genres_60.toarray()), axis=1)\n",
    "X_gen_lyr = np.concatenate((X_gen, lyrics_nmf), axis=1)\n",
    "print(X_gen_lyr.shape)\n",
    "X_train, X_test, y_train, y_test = train_test_split(X_gen_lyr, y, test_size=0.3, random_state=42,stratify=y)\n",
    "\n",
    "dtc = RandomForestClassifier()\n",
    "clf_dtc = GridSearchCV(dtc, parameters,cv=5, scoring=scoring, refit = 'Accuracy', n_jobs=12)\n",
    "clf_dtc.fit(X_train, y_train)\n",
    "\n",
    "y_pred = clf_dtc.predict(X_test)\n",
    "\n",
    "class_report = classification_report(y_test, y_pred)\n",
    "pickle.dump(clf_dtc,open(\"results/rf_gen60_nmf_model.pkl\", 'wb'))\n",
    "pickle.dump(class_report, open(\"results/rf_gen60_nmf_report\", \"wb\"))\n",
    "\n",
    "print(class_report)\n",
    "print(confusion_matrix(y_test, y_pred))"
   ]
  },
  {
   "cell_type": "code",
   "execution_count": 32,
   "metadata": {},
   "outputs": [
    {
     "name": "stdout",
     "output_type": "stream",
     "text": [
      "(129682, 120)\n",
      "             precision    recall  f1-score   support\n",
      "\n",
      "          0       0.61      0.12      0.20      8570\n",
      "          1       0.80      0.98      0.88     30335\n",
      "\n",
      "avg / total       0.76      0.79      0.73     38905\n",
      "\n",
      "[[ 1026  7544]\n",
      " [  654 29681]]\n"
     ]
    }
   ],
   "source": [
    "#genres_pca10, lyrics_nmf\n",
    "X_gen = np.concatenate((X,genres_pca10), axis=1)\n",
    "X_gen_lyr = np.concatenate((X_gen, lyrics_nmf), axis=1)\n",
    "print(X_gen_lyr.shape)\n",
    "X_train, X_test, y_train, y_test = train_test_split(X_gen_lyr, y, test_size=0.3, random_state=42,stratify=y)\n",
    "\n",
    "dtc = RandomForestClassifier()\n",
    "clf_dtc = GridSearchCV(dtc, parameters,cv=5, scoring=scoring, refit = 'Accuracy', n_jobs=12)\n",
    "clf_dtc.fit(X_train, y_train)\n",
    "\n",
    "y_pred = clf_dtc.predict(X_test)\n",
    "\n",
    "class_report = classification_report(y_test, y_pred)\n",
    "pickle.dump(clf_dtc,open(\"results/rf_genpca10_nmf_model.pkl\", 'wb'))\n",
    "pickle.dump(class_report, open(\"results/rf_genpca10_nmf_report\", \"wb\"))\n",
    "\n",
    "print(class_report)\n",
    "print(confusion_matrix(y_test, y_pred))"
   ]
  },
  {
   "cell_type": "code",
   "execution_count": 33,
   "metadata": {},
   "outputs": [
    {
     "data": {
      "text/plain": [
       "Counter({0: 19996, 1: 70781})"
      ]
     },
     "execution_count": 33,
     "metadata": {},
     "output_type": "execute_result"
    }
   ],
   "source": [
    "\n",
    "collections.Counter(y_train)"
   ]
  },
  {
   "cell_type": "markdown",
   "metadata": {},
   "source": [
    "## Age classification\n",
    "\n",
    "The idea is to split artist by age to three/four groups of similar size and then create classificators for predicting the age."
   ]
  },
  {
   "cell_type": "code",
   "execution_count": 74,
   "metadata": {},
   "outputs": [
    {
     "data": {
      "text/plain": [
       "Index(['followers', 'popularity', 'danceability', 'energy', 'key', 'loudness',\n",
       "       'mode', 'speechiness', 'acousticness', 'instrumentalness', 'liveness',\n",
       "       'valence', 'gender', 'age', 'type', 'lyrics', 'genres'],\n",
       "      dtype='object')"
      ]
     },
     "execution_count": 74,
     "metadata": {},
     "output_type": "execute_result"
    }
   ],
   "source": [
    "music_features.columns\n"
   ]
  },
  {
   "cell_type": "code",
   "execution_count": 75,
   "metadata": {},
   "outputs": [],
   "source": [
    "data_all = music_features[['danceability', 'energy', 'key', 'loudness', 'mode',\n",
    "       'speechiness','type', 'acousticness', 'instrumentalness', 'liveness',\n",
    "       'valence', 'age', 'gender', 'lyrics']].dropna()\n"
   ]
  },
  {
   "cell_type": "code",
   "execution_count": 76,
   "metadata": {},
   "outputs": [
    {
     "data": {
      "text/html": [
       "<div>\n",
       "<style scoped>\n",
       "    .dataframe tbody tr th:only-of-type {\n",
       "        vertical-align: middle;\n",
       "    }\n",
       "\n",
       "    .dataframe tbody tr th {\n",
       "        vertical-align: top;\n",
       "    }\n",
       "\n",
       "    .dataframe thead th {\n",
       "        text-align: right;\n",
       "    }\n",
       "</style>\n",
       "<table border=\"1\" class=\"dataframe\">\n",
       "  <thead>\n",
       "    <tr style=\"text-align: right;\">\n",
       "      <th></th>\n",
       "      <th>danceability</th>\n",
       "      <th>energy</th>\n",
       "      <th>key</th>\n",
       "      <th>loudness</th>\n",
       "      <th>mode</th>\n",
       "      <th>speechiness</th>\n",
       "      <th>type</th>\n",
       "      <th>acousticness</th>\n",
       "      <th>instrumentalness</th>\n",
       "      <th>liveness</th>\n",
       "      <th>valence</th>\n",
       "      <th>age</th>\n",
       "      <th>gender</th>\n",
       "      <th>lyrics</th>\n",
       "    </tr>\n",
       "  </thead>\n",
       "  <tbody>\n",
       "    <tr>\n",
       "      <th>0</th>\n",
       "      <td>0.5459</td>\n",
       "      <td>0.440100</td>\n",
       "      <td>6.4</td>\n",
       "      <td>-9.4249</td>\n",
       "      <td>0.8</td>\n",
       "      <td>0.14020</td>\n",
       "      <td>Person</td>\n",
       "      <td>0.756500</td>\n",
       "      <td>3.180000e-07</td>\n",
       "      <td>0.15880</td>\n",
       "      <td>0.65750</td>\n",
       "      <td>38.0</td>\n",
       "      <td>2.0</td>\n",
       "      <td></td>\n",
       "    </tr>\n",
       "    <tr>\n",
       "      <th>1</th>\n",
       "      <td>0.6975</td>\n",
       "      <td>0.554100</td>\n",
       "      <td>5.8</td>\n",
       "      <td>-11.2578</td>\n",
       "      <td>0.4</td>\n",
       "      <td>0.04146</td>\n",
       "      <td>Person</td>\n",
       "      <td>0.311739</td>\n",
       "      <td>7.196700e-01</td>\n",
       "      <td>0.09388</td>\n",
       "      <td>0.69470</td>\n",
       "      <td>58.0</td>\n",
       "      <td>2.0</td>\n",
       "      <td></td>\n",
       "    </tr>\n",
       "    <tr>\n",
       "      <th>80</th>\n",
       "      <td>0.2168</td>\n",
       "      <td>0.197430</td>\n",
       "      <td>5.5</td>\n",
       "      <td>-17.0261</td>\n",
       "      <td>0.7</td>\n",
       "      <td>0.04539</td>\n",
       "      <td>Person</td>\n",
       "      <td>0.911800</td>\n",
       "      <td>7.174316e-01</td>\n",
       "      <td>0.22717</td>\n",
       "      <td>0.08244</td>\n",
       "      <td>58.0</td>\n",
       "      <td>2.0</td>\n",
       "      <td></td>\n",
       "    </tr>\n",
       "    <tr>\n",
       "      <th>93</th>\n",
       "      <td>0.2470</td>\n",
       "      <td>0.076460</td>\n",
       "      <td>7.1</td>\n",
       "      <td>-22.4985</td>\n",
       "      <td>0.7</td>\n",
       "      <td>0.04495</td>\n",
       "      <td>Person</td>\n",
       "      <td>0.955600</td>\n",
       "      <td>6.515000e-01</td>\n",
       "      <td>0.11944</td>\n",
       "      <td>0.11742</td>\n",
       "      <td>51.0</td>\n",
       "      <td>2.0</td>\n",
       "      <td></td>\n",
       "    </tr>\n",
       "    <tr>\n",
       "      <th>98</th>\n",
       "      <td>0.3998</td>\n",
       "      <td>0.054605</td>\n",
       "      <td>6.8</td>\n",
       "      <td>-27.5582</td>\n",
       "      <td>0.6</td>\n",
       "      <td>0.04613</td>\n",
       "      <td>Person</td>\n",
       "      <td>0.994500</td>\n",
       "      <td>9.059000e-01</td>\n",
       "      <td>0.09894</td>\n",
       "      <td>0.21079</td>\n",
       "      <td>91.0</td>\n",
       "      <td>1.0</td>\n",
       "      <td></td>\n",
       "    </tr>\n",
       "  </tbody>\n",
       "</table>\n",
       "</div>"
      ],
      "text/plain": [
       "    danceability    energy  key  loudness  mode  speechiness    type  \\\n",
       "0         0.5459  0.440100  6.4   -9.4249   0.8      0.14020  Person   \n",
       "1         0.6975  0.554100  5.8  -11.2578   0.4      0.04146  Person   \n",
       "80        0.2168  0.197430  5.5  -17.0261   0.7      0.04539  Person   \n",
       "93        0.2470  0.076460  7.1  -22.4985   0.7      0.04495  Person   \n",
       "98        0.3998  0.054605  6.8  -27.5582   0.6      0.04613  Person   \n",
       "\n",
       "    acousticness  instrumentalness  liveness  valence   age  gender lyrics  \n",
       "0       0.756500      3.180000e-07   0.15880  0.65750  38.0     2.0         \n",
       "1       0.311739      7.196700e-01   0.09388  0.69470  58.0     2.0         \n",
       "80      0.911800      7.174316e-01   0.22717  0.08244  58.0     2.0         \n",
       "93      0.955600      6.515000e-01   0.11944  0.11742  51.0     2.0         \n",
       "98      0.994500      9.059000e-01   0.09894  0.21079  91.0     1.0         "
      ]
     },
     "execution_count": 76,
     "metadata": {},
     "output_type": "execute_result"
    }
   ],
   "source": [
    "data_all.head()"
   ]
  },
  {
   "cell_type": "code",
   "execution_count": 77,
   "metadata": {},
   "outputs": [],
   "source": [
    "data_all.loc[data_all['type']=='Group','age'] = data_all[data_all['type']=='Group']['age']+20"
   ]
  },
  {
   "cell_type": "code",
   "execution_count": 78,
   "metadata": {},
   "outputs": [],
   "source": [
    "data_all.loc[data_all['age']<0,'age'] = 0"
   ]
  },
  {
   "cell_type": "code",
   "execution_count": 79,
   "metadata": {},
   "outputs": [
    {
     "data": {
      "text/html": [
       "<div>\n",
       "<style scoped>\n",
       "    .dataframe tbody tr th:only-of-type {\n",
       "        vertical-align: middle;\n",
       "    }\n",
       "\n",
       "    .dataframe tbody tr th {\n",
       "        vertical-align: top;\n",
       "    }\n",
       "\n",
       "    .dataframe thead th {\n",
       "        text-align: right;\n",
       "    }\n",
       "</style>\n",
       "<table border=\"1\" class=\"dataframe\">\n",
       "  <thead>\n",
       "    <tr style=\"text-align: right;\">\n",
       "      <th></th>\n",
       "      <th>danceability</th>\n",
       "      <th>energy</th>\n",
       "      <th>key</th>\n",
       "      <th>loudness</th>\n",
       "      <th>mode</th>\n",
       "      <th>speechiness</th>\n",
       "      <th>type</th>\n",
       "      <th>acousticness</th>\n",
       "      <th>instrumentalness</th>\n",
       "      <th>liveness</th>\n",
       "      <th>valence</th>\n",
       "      <th>age</th>\n",
       "      <th>gender</th>\n",
       "      <th>lyrics</th>\n",
       "    </tr>\n",
       "  </thead>\n",
       "  <tbody>\n",
       "    <tr>\n",
       "      <th>0</th>\n",
       "      <td>0.5459</td>\n",
       "      <td>0.440100</td>\n",
       "      <td>6.4</td>\n",
       "      <td>-9.4249</td>\n",
       "      <td>0.8</td>\n",
       "      <td>0.14020</td>\n",
       "      <td>Person</td>\n",
       "      <td>0.756500</td>\n",
       "      <td>3.180000e-07</td>\n",
       "      <td>0.15880</td>\n",
       "      <td>0.65750</td>\n",
       "      <td>38.0</td>\n",
       "      <td>2.0</td>\n",
       "      <td></td>\n",
       "    </tr>\n",
       "    <tr>\n",
       "      <th>1</th>\n",
       "      <td>0.6975</td>\n",
       "      <td>0.554100</td>\n",
       "      <td>5.8</td>\n",
       "      <td>-11.2578</td>\n",
       "      <td>0.4</td>\n",
       "      <td>0.04146</td>\n",
       "      <td>Person</td>\n",
       "      <td>0.311739</td>\n",
       "      <td>7.196700e-01</td>\n",
       "      <td>0.09388</td>\n",
       "      <td>0.69470</td>\n",
       "      <td>58.0</td>\n",
       "      <td>2.0</td>\n",
       "      <td></td>\n",
       "    </tr>\n",
       "    <tr>\n",
       "      <th>80</th>\n",
       "      <td>0.2168</td>\n",
       "      <td>0.197430</td>\n",
       "      <td>5.5</td>\n",
       "      <td>-17.0261</td>\n",
       "      <td>0.7</td>\n",
       "      <td>0.04539</td>\n",
       "      <td>Person</td>\n",
       "      <td>0.911800</td>\n",
       "      <td>7.174316e-01</td>\n",
       "      <td>0.22717</td>\n",
       "      <td>0.08244</td>\n",
       "      <td>58.0</td>\n",
       "      <td>2.0</td>\n",
       "      <td></td>\n",
       "    </tr>\n",
       "    <tr>\n",
       "      <th>93</th>\n",
       "      <td>0.2470</td>\n",
       "      <td>0.076460</td>\n",
       "      <td>7.1</td>\n",
       "      <td>-22.4985</td>\n",
       "      <td>0.7</td>\n",
       "      <td>0.04495</td>\n",
       "      <td>Person</td>\n",
       "      <td>0.955600</td>\n",
       "      <td>6.515000e-01</td>\n",
       "      <td>0.11944</td>\n",
       "      <td>0.11742</td>\n",
       "      <td>51.0</td>\n",
       "      <td>2.0</td>\n",
       "      <td></td>\n",
       "    </tr>\n",
       "    <tr>\n",
       "      <th>98</th>\n",
       "      <td>0.3998</td>\n",
       "      <td>0.054605</td>\n",
       "      <td>6.8</td>\n",
       "      <td>-27.5582</td>\n",
       "      <td>0.6</td>\n",
       "      <td>0.04613</td>\n",
       "      <td>Person</td>\n",
       "      <td>0.994500</td>\n",
       "      <td>9.059000e-01</td>\n",
       "      <td>0.09894</td>\n",
       "      <td>0.21079</td>\n",
       "      <td>91.0</td>\n",
       "      <td>1.0</td>\n",
       "      <td></td>\n",
       "    </tr>\n",
       "  </tbody>\n",
       "</table>\n",
       "</div>"
      ],
      "text/plain": [
       "    danceability    energy  key  loudness  mode  speechiness    type  \\\n",
       "0         0.5459  0.440100  6.4   -9.4249   0.8      0.14020  Person   \n",
       "1         0.6975  0.554100  5.8  -11.2578   0.4      0.04146  Person   \n",
       "80        0.2168  0.197430  5.5  -17.0261   0.7      0.04539  Person   \n",
       "93        0.2470  0.076460  7.1  -22.4985   0.7      0.04495  Person   \n",
       "98        0.3998  0.054605  6.8  -27.5582   0.6      0.04613  Person   \n",
       "\n",
       "    acousticness  instrumentalness  liveness  valence   age  gender lyrics  \n",
       "0       0.756500      3.180000e-07   0.15880  0.65750  38.0     2.0         \n",
       "1       0.311739      7.196700e-01   0.09388  0.69470  58.0     2.0         \n",
       "80      0.911800      7.174316e-01   0.22717  0.08244  58.0     2.0         \n",
       "93      0.955600      6.515000e-01   0.11944  0.11742  51.0     2.0         \n",
       "98      0.994500      9.059000e-01   0.09894  0.21079  91.0     1.0         "
      ]
     },
     "execution_count": 79,
     "metadata": {},
     "output_type": "execute_result"
    }
   ],
   "source": [
    "data_all.head()"
   ]
  },
  {
   "cell_type": "code",
   "execution_count": 80,
   "metadata": {
    "scrolled": false
   },
   "outputs": [
    {
     "data": {
      "text/plain": [
       "(0, 100)"
      ]
     },
     "execution_count": 80,
     "metadata": {},
     "output_type": "execute_result"
    },
    {
     "data": {
      "image/png": "[encoded data removed]",
      "text/plain": [
       "<matplotlib.figure.Figure at 0x7f506be22d30>"
      ]
     },
     "metadata": {},
     "output_type": "display_data"
    }
   ],
   "source": [
    "##create buckets for age\n",
    "data_all.plot.hist(y='age', bins = 200, figsize=(15,8))\n",
    "plt.xlim(0,100)"
   ]
  },
  {
   "cell_type": "code",
   "execution_count": 81,
   "metadata": {},
   "outputs": [],
   "source": [
    "sorted_data = data_all.sort_values('age')"
   ]
  },
  {
   "cell_type": "code",
   "execution_count": 82,
   "metadata": {},
   "outputs": [
    {
     "data": {
      "text/html": [
       "<div>\n",
       "<style scoped>\n",
       "    .dataframe tbody tr th:only-of-type {\n",
       "        vertical-align: middle;\n",
       "    }\n",
       "\n",
       "    .dataframe tbody tr th {\n",
       "        vertical-align: top;\n",
       "    }\n",
       "\n",
       "    .dataframe thead th {\n",
       "        text-align: right;\n",
       "    }\n",
       "</style>\n",
       "<table border=\"1\" class=\"dataframe\">\n",
       "  <thead>\n",
       "    <tr style=\"text-align: right;\">\n",
       "      <th></th>\n",
       "      <th>danceability</th>\n",
       "      <th>energy</th>\n",
       "      <th>key</th>\n",
       "      <th>loudness</th>\n",
       "      <th>mode</th>\n",
       "      <th>speechiness</th>\n",
       "      <th>type</th>\n",
       "      <th>acousticness</th>\n",
       "      <th>instrumentalness</th>\n",
       "      <th>liveness</th>\n",
       "      <th>valence</th>\n",
       "      <th>age</th>\n",
       "      <th>gender</th>\n",
       "      <th>lyrics</th>\n",
       "    </tr>\n",
       "  </thead>\n",
       "  <tbody>\n",
       "    <tr>\n",
       "      <th>732971</th>\n",
       "      <td>0.338333</td>\n",
       "      <td>0.729667</td>\n",
       "      <td>4.000000</td>\n",
       "      <td>-9.75900</td>\n",
       "      <td>0.333333</td>\n",
       "      <td>0.090233</td>\n",
       "      <td>Person</td>\n",
       "      <td>0.000050</td>\n",
       "      <td>0.804333</td>\n",
       "      <td>0.278333</td>\n",
       "      <td>0.119200</td>\n",
       "      <td>0.0</td>\n",
       "      <td>2.0</td>\n",
       "      <td></td>\n",
       "    </tr>\n",
       "    <tr>\n",
       "      <th>490437</th>\n",
       "      <td>0.658200</td>\n",
       "      <td>0.608800</td>\n",
       "      <td>6.400000</td>\n",
       "      <td>-8.27000</td>\n",
       "      <td>1.000000</td>\n",
       "      <td>0.054740</td>\n",
       "      <td>Character</td>\n",
       "      <td>0.281600</td>\n",
       "      <td>0.000984</td>\n",
       "      <td>0.110420</td>\n",
       "      <td>0.601600</td>\n",
       "      <td>1.0</td>\n",
       "      <td>2.0</td>\n",
       "      <td></td>\n",
       "    </tr>\n",
       "    <tr>\n",
       "      <th>713282</th>\n",
       "      <td>0.658700</td>\n",
       "      <td>0.532400</td>\n",
       "      <td>4.100000</td>\n",
       "      <td>-9.02960</td>\n",
       "      <td>0.600000</td>\n",
       "      <td>0.111910</td>\n",
       "      <td>Character</td>\n",
       "      <td>0.674600</td>\n",
       "      <td>0.453103</td>\n",
       "      <td>0.178720</td>\n",
       "      <td>0.398800</td>\n",
       "      <td>1.0</td>\n",
       "      <td>1.0</td>\n",
       "      <td></td>\n",
       "    </tr>\n",
       "    <tr>\n",
       "      <th>650467</th>\n",
       "      <td>0.541000</td>\n",
       "      <td>0.906250</td>\n",
       "      <td>9.000000</td>\n",
       "      <td>-3.11625</td>\n",
       "      <td>0.750000</td>\n",
       "      <td>0.104100</td>\n",
       "      <td>Character</td>\n",
       "      <td>0.018019</td>\n",
       "      <td>0.000047</td>\n",
       "      <td>0.227000</td>\n",
       "      <td>0.526750</td>\n",
       "      <td>1.0</td>\n",
       "      <td>1.0</td>\n",
       "      <td></td>\n",
       "    </tr>\n",
       "    <tr>\n",
       "      <th>739219</th>\n",
       "      <td>0.493000</td>\n",
       "      <td>0.732500</td>\n",
       "      <td>7.833333</td>\n",
       "      <td>-7.23350</td>\n",
       "      <td>0.333333</td>\n",
       "      <td>0.043033</td>\n",
       "      <td>Character</td>\n",
       "      <td>0.006761</td>\n",
       "      <td>0.163321</td>\n",
       "      <td>0.098700</td>\n",
       "      <td>0.379667</td>\n",
       "      <td>1.0</td>\n",
       "      <td>2.0</td>\n",
       "      <td></td>\n",
       "    </tr>\n",
       "  </tbody>\n",
       "</table>\n",
       "</div>"
      ],
      "text/plain": [
       "        danceability    energy       key  loudness      mode  speechiness  \\\n",
       "732971      0.338333  0.729667  4.000000  -9.75900  0.333333     0.090233   \n",
       "490437      0.658200  0.608800  6.400000  -8.27000  1.000000     0.054740   \n",
       "713282      0.658700  0.532400  4.100000  -9.02960  0.600000     0.111910   \n",
       "650467      0.541000  0.906250  9.000000  -3.11625  0.750000     0.104100   \n",
       "739219      0.493000  0.732500  7.833333  -7.23350  0.333333     0.043033   \n",
       "\n",
       "             type  acousticness  instrumentalness  liveness   valence  age  \\\n",
       "732971     Person      0.000050          0.804333  0.278333  0.119200  0.0   \n",
       "490437  Character      0.281600          0.000984  0.110420  0.601600  1.0   \n",
       "713282  Character      0.674600          0.453103  0.178720  0.398800  1.0   \n",
       "650467  Character      0.018019          0.000047  0.227000  0.526750  1.0   \n",
       "739219  Character      0.006761          0.163321  0.098700  0.379667  1.0   \n",
       "\n",
       "        gender lyrics  \n",
       "732971     2.0         \n",
       "490437     2.0         \n",
       "713282     1.0         \n",
       "650467     1.0         \n",
       "739219     2.0         "
      ]
     },
     "execution_count": 82,
     "metadata": {},
     "output_type": "execute_result"
    }
   ],
   "source": [
    "sorted_data.head()"
   ]
  },
  {
   "cell_type": "code",
   "execution_count": 83,
   "metadata": {},
   "outputs": [
    {
     "data": {
      "text/plain": [
       "(57943, 14)"
      ]
     },
     "execution_count": 83,
     "metadata": {},
     "output_type": "execute_result"
    }
   ],
   "source": [
    "sorted_data.shape"
   ]
  },
  {
   "cell_type": "code",
   "execution_count": 84,
   "metadata": {},
   "outputs": [
    {
     "data": {
      "text/plain": [
       "14485.75"
      ]
     },
     "execution_count": 84,
     "metadata": {},
     "output_type": "execute_result"
    }
   ],
   "source": [
    "57943/4"
   ]
  },
  {
   "cell_type": "markdown",
   "metadata": {},
   "source": [
    "57943/4 = 14485 - each bucket will have  about 28329 entries"
   ]
  },
  {
   "cell_type": "code",
   "execution_count": 85,
   "metadata": {},
   "outputs": [
    {
     "name": "stdout",
     "output_type": "stream",
     "text": [
      "40.0\n",
      "57.0\n",
      "78.0\n"
     ]
    }
   ],
   "source": [
    "print(sorted_data.iloc[14485].age)\n",
    "print(sorted_data.iloc[2*14485].age)\n",
    "print(sorted_data.iloc[3*14485].age)"
   ]
  },
  {
   "cell_type": "markdown",
   "metadata": {},
   "source": [
    "four age gropus will be created with following bounds:  \n",
    "0: 0-40  \n",
    "1: 40-57  \n",
    "2: 57-78  \n",
    "3: 78-...  "
   ]
  },
  {
   "cell_type": "code",
   "execution_count": 86,
   "metadata": {},
   "outputs": [],
   "source": [
    "def set_age(age):\n",
    "    if age<40:\n",
    "        return 0\n",
    "    if age>=40 and age<57:\n",
    "        return 1\n",
    "    if age>=57 and age <78:\n",
    "        return 2\n",
    "    return 3"
   ]
  },
  {
   "cell_type": "code",
   "execution_count": 87,
   "metadata": {},
   "outputs": [],
   "source": [
    "data_all['age_group'] = data_all['age'].apply(set_age)"
   ]
  },
  {
   "cell_type": "code",
   "execution_count": 88,
   "metadata": {},
   "outputs": [
    {
     "name": "stdout",
     "output_type": "stream",
     "text": [
      "(57943, 10) (57943, 1)\n"
     ]
    }
   ],
   "source": [
    "X = data_all[['danceability', 'energy', 'key', 'loudness', 'mode',\n",
    "       'speechiness', 'acousticness', 'instrumentalness', 'liveness',\n",
    "       'valence']].values\n",
    "y = data_all[['age_group']].values\n",
    "\n",
    "print(X.shape, y.shape)\n",
    "  "
   ]
  },
  {
   "cell_type": "code",
   "execution_count": 89,
   "metadata": {
    "scrolled": true
   },
   "outputs": [],
   "source": [
    "#use dimensionality reduction on lyrics to speed up algorithm\n",
    "\n",
    "lyrics = scipy.sparse.vstack(data_all['lyrics'])\n",
    "\n",
    "svd = TruncatedSVD(100)\n",
    "normalizer = Normalizer(copy=False)\n",
    "lsa = make_pipeline(svd, normalizer)\n",
    "\n",
    "lyrics_lsa = lsa.fit_transform(lyrics)\n",
    "\n",
    "X = np.concatenate((X,lyrics_lsa), axis=1)\n",
    "    "
   ]
  },
  {
   "cell_type": "code",
   "execution_count": 90,
   "metadata": {},
   "outputs": [],
   "source": [
    "\n",
    "y=y.astype('int')\n",
    "\n",
    "lb = preprocessing.LabelBinarizer()\n",
    "y = lb.fit_transform(y)\n",
    "#y=y.reshape((y.shape[0],))\n",
    "\n",
    "\n",
    "X_train, X_test, y_train, y_test = train_test_split(X, y, test_size=0.3, random_state=20)"
   ]
  },
  {
   "cell_type": "code",
   "execution_count": 72,
   "metadata": {},
   "outputs": [
    {
     "data": {
      "text/plain": [
       "array([[1, 0, 0, 0],\n",
       "       [0, 0, 1, 0],\n",
       "       [0, 0, 1, 0],\n",
       "       ...,\n",
       "       [0, 0, 1, 0],\n",
       "       [0, 1, 0, 0],\n",
       "       [0, 1, 0, 0]], dtype=int64)"
      ]
     },
     "execution_count": 72,
     "metadata": {},
     "output_type": "execute_result"
    }
   ],
   "source": [
    "y\n"
   ]
  },
  {
   "cell_type": "markdown",
   "metadata": {},
   "source": [
    "### Random Forest"
   ]
  },
  {
   "cell_type": "code",
   "execution_count": null,
   "metadata": {},
   "outputs": [],
   "source": [
    "parameters = {'n_estimators':[100,600], 'max_features': ['auto', 'log2' ]}\n",
    "\n",
    "scoring = {'AUC': 'roc_auc', 'Accuracy': make_scorer(accuracy_score),\n",
    "           'recall': 'recall',\n",
    "            'tp' : make_scorer(tp), 'tn' : make_scorer(tn),\n",
    "           'fp' : make_scorer(fp), 'fn' : make_scorer(fn)}\n",
    "\n",
    "dtc_all = RandomForestClassifier(class_weight='balanced')\n",
    "clf_dtc_all = GridSearchCV(dtc_all, parameters,cv=5, scoring=scoring, refit = 'Accuracy', n_jobs=-1)\n",
    "clf_dtc_all.fit(X_train, y_train)\n"
   ]
  },
  {
   "cell_type": "code",
   "execution_count": 91,
   "metadata": {},
   "outputs": [
    {
     "data": {
      "text/plain": [
       "RandomForestClassifier(bootstrap=True, class_weight=None, criterion='gini',\n",
       "            max_depth=None, max_features='auto', max_leaf_nodes=None,\n",
       "            min_impurity_decrease=0.0, min_impurity_split=None,\n",
       "            min_samples_leaf=1, min_samples_split=2,\n",
       "            min_weight_fraction_leaf=0.0, n_estimators=600, n_jobs=1,\n",
       "            oob_score=False, random_state=None, verbose=0,\n",
       "            warm_start=False)"
      ]
     },
     "execution_count": 91,
     "metadata": {},
     "output_type": "execute_result"
    }
   ],
   "source": [
    "rfc =  RandomForestClassifier(n_estimators=600)\n",
    "rfc.fit(X_train, y_train)"
   ]
  },
  {
   "cell_type": "code",
   "execution_count": 92,
   "metadata": {},
   "outputs": [],
   "source": [
    "y_pred = rfc.predict(X_test)"
   ]
  },
  {
   "cell_type": "code",
   "execution_count": 93,
   "metadata": {},
   "outputs": [
    {
     "data": {
      "text/plain": [
       "array([[0., 0., 0., 0.],\n",
       "       [0., 0., 0., 0.],\n",
       "       [0., 0., 0., 0.],\n",
       "       ...,\n",
       "       [0., 0., 0., 0.],\n",
       "       [0., 0., 0., 0.],\n",
       "       [0., 0., 0., 0.]])"
      ]
     },
     "execution_count": 93,
     "metadata": {},
     "output_type": "execute_result"
    }
   ],
   "source": [
    "y_pred"
   ]
  },
  {
   "cell_type": "code",
   "execution_count": 94,
   "metadata": {},
   "outputs": [
    {
     "name": "stdout",
     "output_type": "stream",
     "text": [
      "             precision    recall  f1-score   support\n",
      "\n",
      "          0       0.69      0.40      0.51      4006\n",
      "          1       0.68      0.07      0.12      4492\n",
      "          2       0.64      0.06      0.12      4324\n",
      "          3       0.75      0.44      0.56      4561\n",
      "\n",
      "avg / total       0.69      0.24      0.32     17383\n",
      "\n"
     ]
    }
   ],
   "source": [
    "print(classification_report(y_test, y_pred))"
   ]
  },
  {
   "cell_type": "code",
   "execution_count": 95,
   "metadata": {},
   "outputs": [
    {
     "data": {
      "text/plain": [
       "array([[3821,   93,   17,   75],\n",
       "       [3932,  296,   67,  197],\n",
       "       [3593,   42,  274,  415],\n",
       "       [2468,    7,   67, 2019]])"
      ]
     },
     "execution_count": 95,
     "metadata": {},
     "output_type": "execute_result"
    }
   ],
   "source": [
    "confusion_matrix(y_test.argmax(axis=1), y_pred.argmax(axis=1))"
   ]
  },
  {
   "cell_type": "markdown",
   "metadata": {},
   "source": [
    "## Career length prediction\n",
    "\n",
    "In this part the career lenght will be predicted. Again, different configurations and algorithms will be tried to find the best output. Main approaches will be to try regression algorithms (use career length as target variable) and classification (create few bins with artists based on their career length)"
   ]
  },
  {
   "cell_type": "markdown",
   "metadata": {},
   "source": [
    "### Ridge regression"
   ]
  },
  {
   "cell_type": "code",
   "execution_count": 7,
   "metadata": {},
   "outputs": [],
   "source": [
    "#consider only artist with last album older than 4 years\n",
    "old_albums = albums_info[albums_info['last_album'] < 2012]"
   ]
  },
  {
   "cell_type": "code",
   "execution_count": 8,
   "metadata": {},
   "outputs": [],
   "source": [
    "data = artist_songs[['_id','danceability', 'energy', 'key', 'loudness', 'mode',\n",
    "       'speechiness', 'acousticness', 'instrumentalness', 'liveness',\n",
    "       'valence', 'gender']].dropna()\n",
    "data = data.merge(old_albums,how='left',left_on='_id', right_on='artist_id')"
   ]
  },
  {
   "cell_type": "code",
   "execution_count": 9,
   "metadata": {},
   "outputs": [],
   "source": [
    "data = data.dropna()"
   ]
  },
  {
   "cell_type": "code",
   "execution_count": 10,
   "metadata": {},
   "outputs": [],
   "source": [
    "data['duration'] = data['last_album']-data['first_album']\n",
    "data = data[data['duration']<100]"
   ]
  },
  {
   "cell_type": "code",
   "execution_count": 11,
   "metadata": {},
   "outputs": [
    {
     "name": "stdout",
     "output_type": "stream",
     "text": [
      "<class 'pandas.core.frame.DataFrame'>\n",
      "Int64Index: 33210 entries, 3 to 286053\n",
      "Data columns (total 18 columns):\n",
      "_id                 33210 non-null object\n",
      "danceability        33210 non-null float64\n",
      "energy              33210 non-null float64\n",
      "key                 33210 non-null float64\n",
      "loudness            33210 non-null float64\n",
      "mode                33210 non-null float64\n",
      "speechiness         33210 non-null float64\n",
      "acousticness        33210 non-null float64\n",
      "instrumentalness    33210 non-null float64\n",
      "liveness            33210 non-null float64\n",
      "valence             33210 non-null float64\n",
      "gender              33210 non-null float64\n",
      "artist_id           33210 non-null object\n",
      "first_album         33210 non-null float64\n",
      "last_album          33210 non-null float64\n",
      "number_of_albums    33210 non-null float64\n",
      "titles              33210 non-null object\n",
      "duration            33210 non-null float64\n",
      "dtypes: float64(15), object(3)\n",
      "memory usage: 4.8+ MB\n"
     ]
    }
   ],
   "source": [
    "data.info()"
   ]
  },
  {
   "cell_type": "code",
   "execution_count": 45,
   "metadata": {},
   "outputs": [
    {
     "data": {
      "text/html": [
       "<div>\n",
       "<style scoped>\n",
       "    .dataframe tbody tr th:only-of-type {\n",
       "        vertical-align: middle;\n",
       "    }\n",
       "\n",
       "    .dataframe tbody tr th {\n",
       "        vertical-align: top;\n",
       "    }\n",
       "\n",
       "    .dataframe thead th {\n",
       "        text-align: right;\n",
       "    }\n",
       "</style>\n",
       "<table border=\"1\" class=\"dataframe\">\n",
       "  <thead>\n",
       "    <tr style=\"text-align: right;\">\n",
       "      <th></th>\n",
       "      <th>_id</th>\n",
       "      <th>danceability</th>\n",
       "      <th>energy</th>\n",
       "      <th>key</th>\n",
       "      <th>loudness</th>\n",
       "      <th>mode</th>\n",
       "      <th>speechiness</th>\n",
       "      <th>acousticness</th>\n",
       "      <th>instrumentalness</th>\n",
       "      <th>liveness</th>\n",
       "      <th>valence</th>\n",
       "      <th>gender</th>\n",
       "      <th>artist_id</th>\n",
       "      <th>first_album</th>\n",
       "      <th>last_album</th>\n",
       "      <th>number_of_albums</th>\n",
       "      <th>titles</th>\n",
       "      <th>duration</th>\n",
       "    </tr>\n",
       "  </thead>\n",
       "  <tbody>\n",
       "    <tr>\n",
       "      <th>3</th>\n",
       "      <td>0NESoZVYcw7JFJ34gCyTfn</td>\n",
       "      <td>0.246600</td>\n",
       "      <td>0.6856</td>\n",
       "      <td>5.000000</td>\n",
       "      <td>-14.942300</td>\n",
       "      <td>0.700000</td>\n",
       "      <td>0.10650</td>\n",
       "      <td>0.091079</td>\n",
       "      <td>0.752170</td>\n",
       "      <td>0.170050</td>\n",
       "      <td>0.200960</td>\n",
       "      <td>0.0</td>\n",
       "      <td>0NESoZVYcw7JFJ34gCyTfn</td>\n",
       "      <td>1994.0</td>\n",
       "      <td>1994.0</td>\n",
       "      <td>1.0</td>\n",
       "      <td>['To the Depths, in Degradation']</td>\n",
       "      <td>0.0</td>\n",
       "    </tr>\n",
       "    <tr>\n",
       "      <th>199145</th>\n",
       "      <td>7CEQvBZQV8ZISDZ3cfGUDu</td>\n",
       "      <td>0.342857</td>\n",
       "      <td>0.8610</td>\n",
       "      <td>4.428571</td>\n",
       "      <td>-6.337571</td>\n",
       "      <td>0.857143</td>\n",
       "      <td>0.13230</td>\n",
       "      <td>0.011399</td>\n",
       "      <td>0.000019</td>\n",
       "      <td>0.249086</td>\n",
       "      <td>0.476571</td>\n",
       "      <td>0.0</td>\n",
       "      <td>7CEQvBZQV8ZISDZ3cfGUDu</td>\n",
       "      <td>2000.0</td>\n",
       "      <td>2000.0</td>\n",
       "      <td>1.0</td>\n",
       "      <td>['Split']</td>\n",
       "      <td>0.0</td>\n",
       "    </tr>\n",
       "    <tr>\n",
       "      <th>199087</th>\n",
       "      <td>5ntynWGZQKYBOuMtj7EAbe</td>\n",
       "      <td>0.411500</td>\n",
       "      <td>0.1107</td>\n",
       "      <td>0.000000</td>\n",
       "      <td>-17.240000</td>\n",
       "      <td>1.000000</td>\n",
       "      <td>0.03165</td>\n",
       "      <td>0.980500</td>\n",
       "      <td>0.808500</td>\n",
       "      <td>0.099100</td>\n",
       "      <td>0.365500</td>\n",
       "      <td>2.0</td>\n",
       "      <td>5ntynWGZQKYBOuMtj7EAbe</td>\n",
       "      <td>2000.0</td>\n",
       "      <td>2000.0</td>\n",
       "      <td>1.0</td>\n",
       "      <td>['Bach: Concertos for 2, 3 and 4 Organs, BWV 1...</td>\n",
       "      <td>0.0</td>\n",
       "    </tr>\n",
       "    <tr>\n",
       "      <th>199078</th>\n",
       "      <td>5ffpHBFYj8jRnfGcKCOn9v</td>\n",
       "      <td>0.409000</td>\n",
       "      <td>0.3760</td>\n",
       "      <td>7.000000</td>\n",
       "      <td>-16.797000</td>\n",
       "      <td>1.000000</td>\n",
       "      <td>0.04960</td>\n",
       "      <td>0.354000</td>\n",
       "      <td>0.397000</td>\n",
       "      <td>0.261000</td>\n",
       "      <td>0.218000</td>\n",
       "      <td>1.0</td>\n",
       "      <td>5ffpHBFYj8jRnfGcKCOn9v</td>\n",
       "      <td>1998.0</td>\n",
       "      <td>1998.0</td>\n",
       "      <td>2.0</td>\n",
       "      <td>['Footsteps in the Sand', \"Who's Serious\"]</td>\n",
       "      <td>0.0</td>\n",
       "    </tr>\n",
       "    <tr>\n",
       "      <th>199060</th>\n",
       "      <td>7KqDW4VN5zPPngxw5dVnXl</td>\n",
       "      <td>0.620000</td>\n",
       "      <td>0.4270</td>\n",
       "      <td>3.000000</td>\n",
       "      <td>-14.872000</td>\n",
       "      <td>1.000000</td>\n",
       "      <td>0.54400</td>\n",
       "      <td>0.879000</td>\n",
       "      <td>0.000005</td>\n",
       "      <td>0.686000</td>\n",
       "      <td>0.820000</td>\n",
       "      <td>2.0</td>\n",
       "      <td>7KqDW4VN5zPPngxw5dVnXl</td>\n",
       "      <td>2007.0</td>\n",
       "      <td>2007.0</td>\n",
       "      <td>1.0</td>\n",
       "      <td>['My Fair Lady (2001 London Cast Recording)']</td>\n",
       "      <td>0.0</td>\n",
       "    </tr>\n",
       "  </tbody>\n",
       "</table>\n",
       "</div>"
      ],
      "text/plain": [
       "                           _id  danceability  energy       key   loudness  \\\n",
       "3       0NESoZVYcw7JFJ34gCyTfn      0.246600  0.6856  5.000000 -14.942300   \n",
       "199145  7CEQvBZQV8ZISDZ3cfGUDu      0.342857  0.8610  4.428571  -6.337571   \n",
       "199087  5ntynWGZQKYBOuMtj7EAbe      0.411500  0.1107  0.000000 -17.240000   \n",
       "199078  5ffpHBFYj8jRnfGcKCOn9v      0.409000  0.3760  7.000000 -16.797000   \n",
       "199060  7KqDW4VN5zPPngxw5dVnXl      0.620000  0.4270  3.000000 -14.872000   \n",
       "\n",
       "            mode  speechiness  acousticness  instrumentalness  liveness  \\\n",
       "3       0.700000      0.10650      0.091079          0.752170  0.170050   \n",
       "199145  0.857143      0.13230      0.011399          0.000019  0.249086   \n",
       "199087  1.000000      0.03165      0.980500          0.808500  0.099100   \n",
       "199078  1.000000      0.04960      0.354000          0.397000  0.261000   \n",
       "199060  1.000000      0.54400      0.879000          0.000005  0.686000   \n",
       "\n",
       "         valence  gender               artist_id  first_album  last_album  \\\n",
       "3       0.200960     0.0  0NESoZVYcw7JFJ34gCyTfn       1994.0      1994.0   \n",
       "199145  0.476571     0.0  7CEQvBZQV8ZISDZ3cfGUDu       2000.0      2000.0   \n",
       "199087  0.365500     2.0  5ntynWGZQKYBOuMtj7EAbe       2000.0      2000.0   \n",
       "199078  0.218000     1.0  5ffpHBFYj8jRnfGcKCOn9v       1998.0      1998.0   \n",
       "199060  0.820000     2.0  7KqDW4VN5zPPngxw5dVnXl       2007.0      2007.0   \n",
       "\n",
       "        number_of_albums                                             titles  \\\n",
       "3                    1.0                  ['To the Depths, in Degradation']   \n",
       "199145               1.0                                          ['Split']   \n",
       "199087               1.0  ['Bach: Concertos for 2, 3 and 4 Organs, BWV 1...   \n",
       "199078               2.0         ['Footsteps in the Sand', \"Who's Serious\"]   \n",
       "199060               1.0      ['My Fair Lady (2001 London Cast Recording)']   \n",
       "\n",
       "        duration  \n",
       "3            0.0  \n",
       "199145       0.0  \n",
       "199087       0.0  \n",
       "199078       0.0  \n",
       "199060       0.0  "
      ]
     },
     "execution_count": 45,
     "metadata": {},
     "output_type": "execute_result"
    }
   ],
   "source": [
    "data.head()"
   ]
  },
  {
   "cell_type": "code",
   "execution_count": 12,
   "metadata": {},
   "outputs": [],
   "source": [
    "X = data[['danceability', 'energy', 'key', 'loudness', 'mode',\n",
    "       'speechiness', 'acousticness', 'instrumentalness', 'liveness',\n",
    "       'valence', 'gender']].values\n",
    "y = data[['duration']].values"
   ]
  },
  {
   "cell_type": "code",
   "execution_count": 13,
   "metadata": {},
   "outputs": [],
   "source": [
    "X_train, X_test, y_train, y_test = train_test_split(X, y, test_size=0.3)"
   ]
  },
  {
   "cell_type": "code",
   "execution_count": null,
   "metadata": {},
   "outputs": [],
   "source": []
  },
  {
   "cell_type": "code",
   "execution_count": 14,
   "metadata": {},
   "outputs": [
    {
     "data": {
      "image/png": "[encoded data removed]",
      "text/plain": [
       "<matplotlib.figure.Figure at 0x7f6c7d640cc0>"
      ]
     },
     "metadata": {},
     "output_type": "display_data"
    }
   ],
   "source": [
    "plt.hist(y, bins=10)\n",
    "plt.show()"
   ]
  },
  {
   "cell_type": "code",
   "execution_count": 19,
   "metadata": {},
   "outputs": [
    {
     "data": {
      "text/plain": [
       "Ridge(alpha=0.5, copy_X=True, fit_intercept=True, max_iter=None,\n",
       "   normalize=True, random_state=None, solver='auto', tol=0.001)"
      ]
     },
     "execution_count": 19,
     "metadata": {},
     "output_type": "execute_result"
    }
   ],
   "source": [
    "reg = linear_model.Ridge(alpha = .5, normalize=True)\n",
    "reg.fit(X_train,y_train)\n"
   ]
  },
  {
   "cell_type": "code",
   "execution_count": 20,
   "metadata": {},
   "outputs": [],
   "source": [
    "y_pred = reg.predict(X_test)"
   ]
  },
  {
   "cell_type": "code",
   "execution_count": 33,
   "metadata": {},
   "outputs": [],
   "source": [
    "y_pred = y_pred.astype(int)"
   ]
  },
  {
   "cell_type": "code",
   "execution_count": 36,
   "metadata": {},
   "outputs": [
    {
     "data": {
      "text/plain": [
       "(array([   3.,  147., 1618., 2531., 1863., 1477., 1068.,  778.,  386.,\n",
       "          92.]),\n",
       " array([ 1.,  2.,  3.,  4.,  5.,  6.,  7.,  8.,  9., 10., 11.]),\n",
       " <a list of 10 Patch objects>)"
      ]
     },
     "execution_count": 36,
     "metadata": {},
     "output_type": "execute_result"
    },
    {
     "data": {
      "image/png": "[encoded data removed]",
      "text/plain": [
       "<matplotlib.figure.Figure at 0x7f6c7e1ad198>"
      ]
     },
     "metadata": {},
     "output_type": "display_data"
    }
   ],
   "source": [
    "plt.hist(y_pred, bins=10)"
   ]
  },
  {
   "cell_type": "code",
   "execution_count": 34,
   "metadata": {},
   "outputs": [
    {
     "data": {
      "text/plain": [
       "76.62701997390344"
      ]
     },
     "execution_count": 34,
     "metadata": {},
     "output_type": "execute_result"
    }
   ],
   "source": [
    "\n",
    "metrics.mean_squared_error(y_test, y_pred)"
   ]
  },
  {
   "cell_type": "code",
   "execution_count": 35,
   "metadata": {},
   "outputs": [
    {
     "data": {
      "text/plain": [
       "5.681923115527452"
      ]
     },
     "execution_count": 35,
     "metadata": {},
     "output_type": "execute_result"
    }
   ],
   "source": [
    "metrics.mean_absolute_error(y_test,y_pred)"
   ]
  },
  {
   "cell_type": "markdown",
   "metadata": {},
   "source": [
    "### Neural network"
   ]
  },
  {
   "cell_type": "code",
   "execution_count": 25,
   "metadata": {},
   "outputs": [],
   "source": [
    "y_train_nn = y_train.ravel()"
   ]
  },
  {
   "cell_type": "code",
   "execution_count": 26,
   "metadata": {},
   "outputs": [],
   "source": [
    "nn = MLPRegressor(\n",
    "    hidden_layer_sizes=(20,2),  activation='relu', solver='adam', alpha=0.001, batch_size='auto',\n",
    "    learning_rate='constant', learning_rate_init=0.01, power_t=0.5, max_iter=2000, shuffle=True,\n",
    "    random_state=9, tol=0.0001, verbose=False, warm_start=False, momentum=0.9, nesterovs_momentum=True,\n",
    "    early_stopping=False, validation_fraction=0.1, beta_1=0.9, beta_2=0.999, epsilon=1e-08)\n",
    "\n",
    "n = nn.fit(X_train, y_train_nn)"
   ]
  },
  {
   "cell_type": "code",
   "execution_count": 27,
   "metadata": {},
   "outputs": [],
   "source": [
    "pred = nn.predict(X_test)"
   ]
  },
  {
   "cell_type": "code",
   "execution_count": 28,
   "metadata": {},
   "outputs": [
    {
     "data": {
      "text/plain": [
       "80.56095613874415"
      ]
     },
     "execution_count": 28,
     "metadata": {},
     "output_type": "execute_result"
    }
   ],
   "source": [
    "metrics.mean_squared_error(pred, y_test)"
   ]
  },
  {
   "cell_type": "code",
   "execution_count": 29,
   "metadata": {},
   "outputs": [
    {
     "data": {
      "text/plain": [
       "6.048412374358432"
      ]
     },
     "execution_count": 29,
     "metadata": {},
     "output_type": "execute_result"
    }
   ],
   "source": [
    "metrics.mean_absolute_error(pred, y_test)"
   ]
  },
  {
   "cell_type": "markdown",
   "metadata": {},
   "source": [
    "Mean absolute error tells us how much predicted value differs from original one. The value 6 means that, on average the career length was 6 years shorter or 6 years longer than it really was."
   ]
  },
  {
   "cell_type": "markdown",
   "metadata": {},
   "source": [
    "### Random Forest"
   ]
  },
  {
   "cell_type": "code",
   "execution_count": 47,
   "metadata": {},
   "outputs": [],
   "source": [
    "#decide on the split on bins\n",
    "num = data.shape[0]\n",
    "split_value = int(num/3)"
   ]
  },
  {
   "cell_type": "code",
   "execution_count": 49,
   "metadata": {},
   "outputs": [],
   "source": [
    "data = data.sort_values(by = 'duration')\n",
    "age1 = data.iloc[split_value]['duration']\n",
    "age2 = data.iloc[split_value*2]['duration']\n"
   ]
  },
  {
   "cell_type": "code",
   "execution_count": 67,
   "metadata": {},
   "outputs": [],
   "source": [
    "def set_group(length):\n",
    "    if length<age1+1:\n",
    "        return 0\n",
    "    if length>=age1+1 and length<age2+1:\n",
    "        return 1\n",
    "    #if age>=37 and age <55:\n",
    "        #return 2\n",
    "    return 2"
   ]
  },
  {
   "cell_type": "code",
   "execution_count": 68,
   "metadata": {},
   "outputs": [],
   "source": [
    "data['length_group'] = data['duration'].apply(set_group)"
   ]
  },
  {
   "cell_type": "code",
   "execution_count": 78,
   "metadata": {},
   "outputs": [],
   "source": [
    "X = data[['danceability', 'energy', 'key', 'loudness', 'mode',\n",
    "       'speechiness', 'acousticness', 'instrumentalness', 'liveness',\n",
    "       'valence', 'gender']].values\n",
    "y = data[['length_group']].values\n",
    "\n",
    "y=y.astype('int')\n",
    "lb = preprocessing.LabelBinarizer()\n",
    "y = lb.fit_transform(y)\n",
    "\n",
    "X_train, X_test, y_train, y_test = train_test_split(X, y, test_size=0.3)"
   ]
  },
  {
   "cell_type": "code",
   "execution_count": 83,
   "metadata": {},
   "outputs": [
    {
     "data": {
      "text/plain": [
       "RandomForestClassifier(bootstrap=True, class_weight=None, criterion='gini',\n",
       "            max_depth=None, max_features='auto', max_leaf_nodes=None,\n",
       "            min_impurity_decrease=0.0, min_impurity_split=None,\n",
       "            min_samples_leaf=1, min_samples_split=2,\n",
       "            min_weight_fraction_leaf=0.0, n_estimators=800, n_jobs=1,\n",
       "            oob_score=False, random_state=None, verbose=0,\n",
       "            warm_start=False)"
      ]
     },
     "execution_count": 83,
     "metadata": {},
     "output_type": "execute_result"
    }
   ],
   "source": [
    "rfc =  RandomForestClassifier(n_estimators=800)\n",
    "rfc.fit(X_train, y_train)\n"
   ]
  },
  {
   "cell_type": "code",
   "execution_count": 84,
   "metadata": {},
   "outputs": [],
   "source": [
    "y_pred = rfc.predict(X_test)"
   ]
  },
  {
   "cell_type": "code",
   "execution_count": 85,
   "metadata": {},
   "outputs": [
    {
     "name": "stdout",
     "output_type": "stream",
     "text": [
      "             precision    recall  f1-score   support\n",
      "\n",
      "          0       0.60      0.25      0.35      3734\n",
      "          1       0.49      0.08      0.14      3050\n",
      "          2       0.52      0.16      0.25      3179\n",
      "\n",
      "avg / total       0.54      0.17      0.25      9963\n",
      "\n"
     ]
    },
    {
     "data": {
      "text/plain": [
       "array([[3302,  151,  281],\n",
       "       [2613,  249,  188],\n",
       "       [2555,  106,  518]])"
      ]
     },
     "execution_count": 85,
     "metadata": {},
     "output_type": "execute_result"
    }
   ],
   "source": [
    "print(classification_report(y_test, y_pred))\n",
    "\n",
    "confusion_matrix(y_test.argmax(axis=1), y_pred.argmax(axis=1))"
   ]
  },
  {
   "cell_type": "code",
   "execution_count": null,
   "metadata": {},
   "outputs": [],
   "source": []
  }
 ],
 "metadata": {
  "kernelspec": {
   "display_name": "Python 3",
   "language": "python",
   "name": "python3"
  },
  "language_info": {
   "codemirror_mode": {
    "name": "ipython",
    "version": 3
   },
   "file_extension": ".py",
   "mimetype": "text/x-python",
   "name": "python",
   "nbconvert_exporter": "python",
   "pygments_lexer": "ipython3",
   "version": "3.6.4"
  },
  "notify_time": "30",
  "toc": {
   "base_numbering": 1,
   "nav_menu": {},
   "number_sections": true,
   "sideBar": true,
   "skip_h1_title": true,
   "title_cell": "Table of Contents",
   "title_sidebar": "Contents",
   "toc_cell": false,
   "toc_position": {
    "height": "calc(100% - 180px)",
    "left": "10px",
    "top": "150px",
    "width": "329px"
   },
   "toc_section_display": true,
   "toc_window_display": true
  },
  "varInspector": {
   "cols": {
    "lenName": 16,
    "lenType": 16,
    "lenVar": 40
   },
   "kernels_config": {
    "python": {
     "delete_cmd_postfix": "",
     "delete_cmd_prefix": "del ",
     "library": "var_list.py",
     "varRefreshCmd": "print(var_dic_list())"
    },
    "r": {
     "delete_cmd_postfix": ") ",
     "delete_cmd_prefix": "rm(",
     "library": "var_list.r",
     "varRefreshCmd": "cat(var_dic_list()) "
    }
   },
   "oldHeight": 450.76666,
   "position": {
    "height": "40px",
    "left": "1101.65px",
    "right": "19px",
    "top": "120px",
    "width": "350px"
   },
   "types_to_exclude": [
    "module",
    "function",
    "builtin_function_or_method",
    "instance",
    "_Feature"
   ],
   "varInspector_section_display": "none",
   "window_display": true
  }
 },
 "nbformat": 4,
 "nbformat_minor": 2
}
